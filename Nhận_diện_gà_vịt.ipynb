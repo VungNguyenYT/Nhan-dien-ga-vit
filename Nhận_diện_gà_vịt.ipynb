{
  "nbformat": 4,
  "nbformat_minor": 0,
  "metadata": {
    "colab": {
      "provenance": [],
      "gpuType": "T4",
      "authorship_tag": "ABX9TyNmzBVLWvtsfubvPKbSUdnf",
      "include_colab_link": true
    },
    "kernelspec": {
      "name": "python3",
      "display_name": "Python 3"
    },
    "language_info": {
      "name": "python"
    },
    "accelerator": "GPU"
  },
  "cells": [
    {
      "cell_type": "markdown",
      "metadata": {
        "id": "view-in-github",
        "colab_type": "text"
      },
      "source": [
        "<a href=\"https://colab.research.google.com/github/VungNguyenYT/Nhan-dien-ga-vit/blob/main/Nh%E1%BA%ADn_di%E1%BB%87n_g%C3%A0_v%E1%BB%8Bt.ipynb\" target=\"_parent\"><img src=\"https://colab.research.google.com/assets/colab-badge.svg\" alt=\"Open In Colab\"/></a>"
      ]
    },
    {
      "cell_type": "code",
      "execution_count": null,
      "metadata": {
        "colab": {
          "base_uri": "https://localhost:8080/"
        },
        "id": "eAVk1kiUVSKj",
        "outputId": "e6fb3a0f-77bc-4cdb-dbe4-ddc0ee71ed2f"
      },
      "outputs": [
        {
          "output_type": "stream",
          "name": "stdout",
          "text": [
            "\u001b[2K   \u001b[90m━━━━━━━━━━━━━━━━━━━━━━━━━━━━━━━━━━━━━━━━\u001b[0m \u001b[32m1.0/1.0 MB\u001b[0m \u001b[31m23.4 MB/s\u001b[0m eta \u001b[36m0:00:00\u001b[0m\n",
            "\u001b[2K   \u001b[90m━━━━━━━━━━━━━━━━━━━━━━━━━━━━━━━━━━━━━━━━\u001b[0m \u001b[32m363.4/363.4 MB\u001b[0m \u001b[31m3.8 MB/s\u001b[0m eta \u001b[36m0:00:00\u001b[0m\n",
            "\u001b[2K   \u001b[90m━━━━━━━━━━━━━━━━━━━━━━━━━━━━━━━━━━━━━━━━\u001b[0m \u001b[32m13.8/13.8 MB\u001b[0m \u001b[31m84.3 MB/s\u001b[0m eta \u001b[36m0:00:00\u001b[0m\n",
            "\u001b[2K   \u001b[90m━━━━━━━━━━━━━━━━━━━━━━━━━━━━━━━━━━━━━━━━\u001b[0m \u001b[32m24.6/24.6 MB\u001b[0m \u001b[31m65.3 MB/s\u001b[0m eta \u001b[36m0:00:00\u001b[0m\n",
            "\u001b[2K   \u001b[90m━━━━━━━━━━━━━━━━━━━━━━━━━━━━━━━━━━━━━━━━\u001b[0m \u001b[32m883.7/883.7 kB\u001b[0m \u001b[31m43.3 MB/s\u001b[0m eta \u001b[36m0:00:00\u001b[0m\n",
            "\u001b[2K   \u001b[90m━━━━━━━━━━━━━━━━━━━━━━━━━━━━━━━━━━━━━━━━\u001b[0m \u001b[32m664.8/664.8 MB\u001b[0m \u001b[31m1.3 MB/s\u001b[0m eta \u001b[36m0:00:00\u001b[0m\n",
            "\u001b[2K   \u001b[90m━━━━━━━━━━━━━━━━━━━━━━━━━━━━━━━━━━━━━━━━\u001b[0m \u001b[32m211.5/211.5 MB\u001b[0m \u001b[31m5.5 MB/s\u001b[0m eta \u001b[36m0:00:00\u001b[0m\n",
            "\u001b[2K   \u001b[90m━━━━━━━━━━━━━━━━━━━━━━━━━━━━━━━━━━━━━━━━\u001b[0m \u001b[32m56.3/56.3 MB\u001b[0m \u001b[31m12.9 MB/s\u001b[0m eta \u001b[36m0:00:00\u001b[0m\n",
            "\u001b[2K   \u001b[90m━━━━━━━━━━━━━━━━━━━━━━━━━━━━━━━━━━━━━━━━\u001b[0m \u001b[32m127.9/127.9 MB\u001b[0m \u001b[31m7.4 MB/s\u001b[0m eta \u001b[36m0:00:00\u001b[0m\n",
            "\u001b[2K   \u001b[90m━━━━━━━━━━━━━━━━━━━━━━━━━━━━━━━━━━━━━━━━\u001b[0m \u001b[32m207.5/207.5 MB\u001b[0m \u001b[31m5.2 MB/s\u001b[0m eta \u001b[36m0:00:00\u001b[0m\n",
            "\u001b[2K   \u001b[90m━━━━━━━━━━━━━━━━━━━━━━━━━━━━━━━━━━━━━━━━\u001b[0m \u001b[32m21.1/21.1 MB\u001b[0m \u001b[31m103.9 MB/s\u001b[0m eta \u001b[36m0:00:00\u001b[0m\n",
            "\u001b[?25hCreating new Ultralytics Settings v0.0.6 file ✅ \n",
            "View Ultralytics Settings with 'yolo settings' or at '/root/.config/Ultralytics/settings.json'\n",
            "Update Settings with 'yolo settings key=value', i.e. 'yolo settings runs_dir=path/to/dir'. For help see https://docs.ultralytics.com/quickstart/#ultralytics-settings.\n"
          ]
        }
      ],
      "source": [
        "!pip install ultralytics opencv-python --quiet\n",
        "from ultralytics import YOLO"
      ]
    },
    {
      "cell_type": "code",
      "source": [
        "from google.colab import drive\n",
        "drive.mount('/content/drive')"
      ],
      "metadata": {
        "colab": {
          "base_uri": "https://localhost:8080/"
        },
        "id": "gPONBlC-giOZ",
        "outputId": "fff53e2d-a6a3-49df-eb2c-fbf5c20d8973"
      },
      "execution_count": null,
      "outputs": [
        {
          "output_type": "stream",
          "name": "stdout",
          "text": [
            "Mounted at /content/drive\n"
          ]
        }
      ]
    },
    {
      "cell_type": "code",
      "source": [
        "from google.colab import files\n",
        "\n",
        "# Mở giao diện upload\n",
        "uploaded = files.upload()\n"
      ],
      "metadata": {
        "colab": {
          "base_uri": "https://localhost:8080/",
          "height": 110
        },
        "id": "NKjU3T7MhRhE",
        "outputId": "e893f79a-ac58-4b2e-8a40-547afb9d59d6"
      },
      "execution_count": null,
      "outputs": [
        {
          "output_type": "display_data",
          "data": {
            "text/plain": [
              "<IPython.core.display.HTML object>"
            ],
            "text/html": [
              "\n",
              "     <input type=\"file\" id=\"files-53442f87-b7a8-41bf-ac90-841b5dd0fdbc\" name=\"files[]\" multiple disabled\n",
              "        style=\"border:none\" />\n",
              "     <output id=\"result-53442f87-b7a8-41bf-ac90-841b5dd0fdbc\">\n",
              "      Upload widget is only available when the cell has been executed in the\n",
              "      current browser session. Please rerun this cell to enable.\n",
              "      </output>\n",
              "      <script>// Copyright 2017 Google LLC\n",
              "//\n",
              "// Licensed under the Apache License, Version 2.0 (the \"License\");\n",
              "// you may not use this file except in compliance with the License.\n",
              "// You may obtain a copy of the License at\n",
              "//\n",
              "//      http://www.apache.org/licenses/LICENSE-2.0\n",
              "//\n",
              "// Unless required by applicable law or agreed to in writing, software\n",
              "// distributed under the License is distributed on an \"AS IS\" BASIS,\n",
              "// WITHOUT WARRANTIES OR CONDITIONS OF ANY KIND, either express or implied.\n",
              "// See the License for the specific language governing permissions and\n",
              "// limitations under the License.\n",
              "\n",
              "/**\n",
              " * @fileoverview Helpers for google.colab Python module.\n",
              " */\n",
              "(function(scope) {\n",
              "function span(text, styleAttributes = {}) {\n",
              "  const element = document.createElement('span');\n",
              "  element.textContent = text;\n",
              "  for (const key of Object.keys(styleAttributes)) {\n",
              "    element.style[key] = styleAttributes[key];\n",
              "  }\n",
              "  return element;\n",
              "}\n",
              "\n",
              "// Max number of bytes which will be uploaded at a time.\n",
              "const MAX_PAYLOAD_SIZE = 100 * 1024;\n",
              "\n",
              "function _uploadFiles(inputId, outputId) {\n",
              "  const steps = uploadFilesStep(inputId, outputId);\n",
              "  const outputElement = document.getElementById(outputId);\n",
              "  // Cache steps on the outputElement to make it available for the next call\n",
              "  // to uploadFilesContinue from Python.\n",
              "  outputElement.steps = steps;\n",
              "\n",
              "  return _uploadFilesContinue(outputId);\n",
              "}\n",
              "\n",
              "// This is roughly an async generator (not supported in the browser yet),\n",
              "// where there are multiple asynchronous steps and the Python side is going\n",
              "// to poll for completion of each step.\n",
              "// This uses a Promise to block the python side on completion of each step,\n",
              "// then passes the result of the previous step as the input to the next step.\n",
              "function _uploadFilesContinue(outputId) {\n",
              "  const outputElement = document.getElementById(outputId);\n",
              "  const steps = outputElement.steps;\n",
              "\n",
              "  const next = steps.next(outputElement.lastPromiseValue);\n",
              "  return Promise.resolve(next.value.promise).then((value) => {\n",
              "    // Cache the last promise value to make it available to the next\n",
              "    // step of the generator.\n",
              "    outputElement.lastPromiseValue = value;\n",
              "    return next.value.response;\n",
              "  });\n",
              "}\n",
              "\n",
              "/**\n",
              " * Generator function which is called between each async step of the upload\n",
              " * process.\n",
              " * @param {string} inputId Element ID of the input file picker element.\n",
              " * @param {string} outputId Element ID of the output display.\n",
              " * @return {!Iterable<!Object>} Iterable of next steps.\n",
              " */\n",
              "function* uploadFilesStep(inputId, outputId) {\n",
              "  const inputElement = document.getElementById(inputId);\n",
              "  inputElement.disabled = false;\n",
              "\n",
              "  const outputElement = document.getElementById(outputId);\n",
              "  outputElement.innerHTML = '';\n",
              "\n",
              "  const pickedPromise = new Promise((resolve) => {\n",
              "    inputElement.addEventListener('change', (e) => {\n",
              "      resolve(e.target.files);\n",
              "    });\n",
              "  });\n",
              "\n",
              "  const cancel = document.createElement('button');\n",
              "  inputElement.parentElement.appendChild(cancel);\n",
              "  cancel.textContent = 'Cancel upload';\n",
              "  const cancelPromise = new Promise((resolve) => {\n",
              "    cancel.onclick = () => {\n",
              "      resolve(null);\n",
              "    };\n",
              "  });\n",
              "\n",
              "  // Wait for the user to pick the files.\n",
              "  const files = yield {\n",
              "    promise: Promise.race([pickedPromise, cancelPromise]),\n",
              "    response: {\n",
              "      action: 'starting',\n",
              "    }\n",
              "  };\n",
              "\n",
              "  cancel.remove();\n",
              "\n",
              "  // Disable the input element since further picks are not allowed.\n",
              "  inputElement.disabled = true;\n",
              "\n",
              "  if (!files) {\n",
              "    return {\n",
              "      response: {\n",
              "        action: 'complete',\n",
              "      }\n",
              "    };\n",
              "  }\n",
              "\n",
              "  for (const file of files) {\n",
              "    const li = document.createElement('li');\n",
              "    li.append(span(file.name, {fontWeight: 'bold'}));\n",
              "    li.append(span(\n",
              "        `(${file.type || 'n/a'}) - ${file.size} bytes, ` +\n",
              "        `last modified: ${\n",
              "            file.lastModifiedDate ? file.lastModifiedDate.toLocaleDateString() :\n",
              "                                    'n/a'} - `));\n",
              "    const percent = span('0% done');\n",
              "    li.appendChild(percent);\n",
              "\n",
              "    outputElement.appendChild(li);\n",
              "\n",
              "    const fileDataPromise = new Promise((resolve) => {\n",
              "      const reader = new FileReader();\n",
              "      reader.onload = (e) => {\n",
              "        resolve(e.target.result);\n",
              "      };\n",
              "      reader.readAsArrayBuffer(file);\n",
              "    });\n",
              "    // Wait for the data to be ready.\n",
              "    let fileData = yield {\n",
              "      promise: fileDataPromise,\n",
              "      response: {\n",
              "        action: 'continue',\n",
              "      }\n",
              "    };\n",
              "\n",
              "    // Use a chunked sending to avoid message size limits. See b/62115660.\n",
              "    let position = 0;\n",
              "    do {\n",
              "      const length = Math.min(fileData.byteLength - position, MAX_PAYLOAD_SIZE);\n",
              "      const chunk = new Uint8Array(fileData, position, length);\n",
              "      position += length;\n",
              "\n",
              "      const base64 = btoa(String.fromCharCode.apply(null, chunk));\n",
              "      yield {\n",
              "        response: {\n",
              "          action: 'append',\n",
              "          file: file.name,\n",
              "          data: base64,\n",
              "        },\n",
              "      };\n",
              "\n",
              "      let percentDone = fileData.byteLength === 0 ?\n",
              "          100 :\n",
              "          Math.round((position / fileData.byteLength) * 100);\n",
              "      percent.textContent = `${percentDone}% done`;\n",
              "\n",
              "    } while (position < fileData.byteLength);\n",
              "  }\n",
              "\n",
              "  // All done.\n",
              "  yield {\n",
              "    response: {\n",
              "      action: 'complete',\n",
              "    }\n",
              "  };\n",
              "}\n",
              "\n",
              "scope.google = scope.google || {};\n",
              "scope.google.colab = scope.google.colab || {};\n",
              "scope.google.colab._files = {\n",
              "  _uploadFiles,\n",
              "  _uploadFilesContinue,\n",
              "};\n",
              "})(self);\n",
              "</script> "
            ]
          },
          "metadata": {}
        },
        {
          "output_type": "stream",
          "name": "stdout",
          "text": [
            "Saving chicken-images-classification-dataset.zip to chicken-images-classification-dataset.zip\n"
          ]
        }
      ]
    },
    {
      "cell_type": "code",
      "source": [
        "#Giải nén file zip\n",
        "import zipfile\n",
        "\n",
        "zip_path = \"chicken-images-classification-dataset.zip\"  # Đổi tên nếu khác\n",
        "extract_path = \"chicken_duck_dataset\"\n",
        "\n",
        "with zipfile.ZipFile(zip_path, 'r') as zip_ref:\n",
        "    zip_ref.extractall(extract_path)\n",
        "\n",
        "print(\"✅ Giải nén hoàn tất!\")\n"
      ],
      "metadata": {
        "colab": {
          "base_uri": "https://localhost:8080/"
        },
        "id": "dRhKSFS-lD1i",
        "outputId": "1dd54865-67e3-4120-cb9f-e1cf24166a1f"
      },
      "execution_count": null,
      "outputs": [
        {
          "output_type": "stream",
          "name": "stdout",
          "text": [
            "✅ Giải nén hoàn tất!\n"
          ]
        }
      ]
    },
    {
      "cell_type": "code",
      "source": [
        "#YOLO\n",
        "!pip install ultralytics opencv-python --quiet\n",
        "from ultralytics import YOLO\n"
      ],
      "metadata": {
        "id": "EgNYEEIzmQWc",
        "colab": {
          "base_uri": "https://localhost:8080/"
        },
        "outputId": "4f8fc644-7b8f-434b-f965-c3c8707dfa86"
      },
      "execution_count": null,
      "outputs": [
        {
          "output_type": "stream",
          "name": "stdout",
          "text": [
            "\u001b[2K   \u001b[90m━━━━━━━━━━━━━━━━━━━━━━━━━━━━━━━━━━━━━━━━\u001b[0m \u001b[32m1.0/1.0 MB\u001b[0m \u001b[31m12.0 MB/s\u001b[0m eta \u001b[36m0:00:00\u001b[0m\n",
            "\u001b[2K   \u001b[90m━━━━━━━━━━━━━━━━━━━━━━━━━━━━━━━━━━━━━━━━\u001b[0m \u001b[32m363.4/363.4 MB\u001b[0m \u001b[31m3.8 MB/s\u001b[0m eta \u001b[36m0:00:00\u001b[0m\n",
            "\u001b[2K   \u001b[90m━━━━━━━━━━━━━━━━━━━━━━━━━━━━━━━━━━━━━━━━\u001b[0m \u001b[32m13.8/13.8 MB\u001b[0m \u001b[31m93.4 MB/s\u001b[0m eta \u001b[36m0:00:00\u001b[0m\n",
            "\u001b[2K   \u001b[90m━━━━━━━━━━━━━━━━━━━━━━━━━━━━━━━━━━━━━━━━\u001b[0m \u001b[32m24.6/24.6 MB\u001b[0m \u001b[31m74.9 MB/s\u001b[0m eta \u001b[36m0:00:00\u001b[0m\n",
            "\u001b[2K   \u001b[90m━━━━━━━━━━━━━━━━━━━━━━━━━━━━━━━━━━━━━━━━\u001b[0m \u001b[32m883.7/883.7 kB\u001b[0m \u001b[31m44.4 MB/s\u001b[0m eta \u001b[36m0:00:00\u001b[0m\n",
            "\u001b[2K   \u001b[90m━━━━━━━━━━━━━━━━━━━━━━━━━━━━━━━━━━━━━━━━\u001b[0m \u001b[32m664.8/664.8 MB\u001b[0m \u001b[31m2.6 MB/s\u001b[0m eta \u001b[36m0:00:00\u001b[0m\n",
            "\u001b[2K   \u001b[90m━━━━━━━━━━━━━━━━━━━━━━━━━━━━━━━━━━━━━━━━\u001b[0m \u001b[32m211.5/211.5 MB\u001b[0m \u001b[31m6.0 MB/s\u001b[0m eta \u001b[36m0:00:00\u001b[0m\n",
            "\u001b[2K   \u001b[90m━━━━━━━━━━━━━━━━━━━━━━━━━━━━━━━━━━━━━━━━\u001b[0m \u001b[32m56.3/56.3 MB\u001b[0m \u001b[31m13.3 MB/s\u001b[0m eta \u001b[36m0:00:00\u001b[0m\n",
            "\u001b[2K   \u001b[90m━━━━━━━━━━━━━━━━━━━━━━━━━━━━━━━━━━━━━━━━\u001b[0m \u001b[32m127.9/127.9 MB\u001b[0m \u001b[31m7.3 MB/s\u001b[0m eta \u001b[36m0:00:00\u001b[0m\n",
            "\u001b[2K   \u001b[90m━━━━━━━━━━━━━━━━━━━━━━━━━━━━━━━━━━━━━━━━\u001b[0m \u001b[32m207.5/207.5 MB\u001b[0m \u001b[31m5.5 MB/s\u001b[0m eta \u001b[36m0:00:00\u001b[0m\n",
            "\u001b[2K   \u001b[90m━━━━━━━━━━━━━━━━━━━━━━━━━━━━━━━━━━━━━━━━\u001b[0m \u001b[32m21.1/21.1 MB\u001b[0m \u001b[31m102.5 MB/s\u001b[0m eta \u001b[36m0:00:00\u001b[0m\n",
            "\u001b[?25hCreating new Ultralytics Settings v0.0.6 file ✅ \n",
            "View Ultralytics Settings with 'yolo settings' or at '/root/.config/Ultralytics/settings.json'\n",
            "Update Settings with 'yolo settings key=value', i.e. 'yolo settings runs_dir=path/to/dir'. For help see https://docs.ultralytics.com/quickstart/#ultralytics-settings.\n"
          ]
        }
      ]
    },
    {
      "cell_type": "code",
      "source": [
        "import os\n",
        "import cv2\n",
        "\n",
        "# Thư mục đầu vào đúng với cấu trúc thực tế\n",
        "chicken_dir = \"/content/chicken_duck_dataset/chicken-images-classification-dataset/data/chicken-images/data/train\"\n",
        "duck_dir = \"/content/chicken_duck_dataset/chicken-images-classification-dataset/data/duck-images/data/train\"\n",
        "\n",
        "\n",
        "# Thư mục đầu ra YOLO format\n",
        "output_img_dir = \"/content/yolo_dataset/images/train\"\n",
        "output_label_dir = \"/content/yolo_dataset/labels/train\"\n",
        "\n",
        "os.makedirs(output_img_dir, exist_ok=True)\n",
        "os.makedirs(output_label_dir, exist_ok=True)\n",
        "\n",
        "# Hàm xử lý ảnh và tạo label\n",
        "def process_images(img_dir, class_id):\n",
        "    for filename in os.listdir(img_dir):\n",
        "        if filename.lower().endswith((\".jpg\", \".jpeg\", \".png\")):\n",
        "            img_path = os.path.join(img_dir, filename)\n",
        "            img = cv2.imread(img_path)\n",
        "            if img is None:\n",
        "                print(f\"❌ Không đọc được ảnh: {img_path}\")\n",
        "                continue\n",
        "\n",
        "            h, w = img.shape[:2]\n",
        "\n",
        "            # Giả định 1 box to giữa ảnh\n",
        "            x_center = 0.5\n",
        "            y_center = 0.5\n",
        "            width = 0.6\n",
        "            height = 0.6\n",
        "\n",
        "            # Ghi file label\n",
        "            label_filename = os.path.splitext(filename)[0] + \".txt\"\n",
        "            label_path = os.path.join(output_label_dir, label_filename)\n",
        "            with open(label_path, \"w\") as f:\n",
        "                f.write(f\"{class_id} {x_center} {y_center} {width} {height}\\n\")\n",
        "\n",
        "            # Copy ảnh\n",
        "            cv2.imwrite(os.path.join(output_img_dir, filename), img)\n",
        "\n",
        "# Gà = class_id 0, Vịt = class_id 1\n",
        "process_images(chicken_dir, class_id=0)\n",
        "process_images(duck_dir, class_id=1)\n",
        "\n",
        "print(\"✅ Đã chuyển dữ liệu sang YOLO format thành công!\")\n"
      ],
      "metadata": {
        "colab": {
          "base_uri": "https://localhost:8080/"
        },
        "id": "qmze45Xxmarz",
        "outputId": "ed07ca0d-3b54-4e3c-ee76-1ea99eba0c6a"
      },
      "execution_count": null,
      "outputs": [
        {
          "output_type": "stream",
          "name": "stdout",
          "text": [
            "✅ Đã chuyển dữ liệu sang YOLO format thành công!\n"
          ]
        }
      ]
    },
    {
      "cell_type": "code",
      "source": [
        "#Tạo file YAML cho YOLOv8\n",
        "yaml_content = \"\"\"\n",
        "path: yolo_dataset\n",
        "train: images/train\n",
        "val: images/train\n",
        "\n",
        "names:\n",
        "  0: ga\n",
        "  1: vit\n",
        "\"\"\"\n",
        "\n",
        "with open(\"chickenduck.yaml\", \"w\") as f:\n",
        "    f.write(yaml_content)\n",
        "\n",
        "print(\"✅ Tạo file YAML xong!\")\n"
      ],
      "metadata": {
        "colab": {
          "base_uri": "https://localhost:8080/"
        },
        "id": "_-WmJ3JKmg4a",
        "outputId": "3238777f-5b21-4067-c3b4-17abedddf4f7"
      },
      "execution_count": null,
      "outputs": [
        {
          "output_type": "stream",
          "name": "stdout",
          "text": [
            "✅ Tạo file YAML xong!\n"
          ]
        }
      ]
    },
    {
      "cell_type": "code",
      "source": [
        "#Train YOLOv8\n",
        "model = YOLO(\"yolov8n.pt\")  # Hoặc yolov8s.pt nếu muốn model mạnh hơn\n",
        "model.train(data=\"chickenduck.yaml\", epochs=30, imgsz=640, batch=8, name=\"chickenduck_model\")\n"
      ],
      "metadata": {
        "colab": {
          "base_uri": "https://localhost:8080/"
        },
        "id": "dsjV2KPrmmNC",
        "outputId": "ad2ef30a-d309-450c-87c7-6722b22c240f"
      },
      "execution_count": null,
      "outputs": [
        {
          "output_type": "stream",
          "name": "stdout",
          "text": [
            "Downloading https://github.com/ultralytics/assets/releases/download/v8.3.0/yolov8n.pt to 'yolov8n.pt'...\n"
          ]
        },
        {
          "output_type": "stream",
          "name": "stderr",
          "text": [
            "100%|██████████| 6.25M/6.25M [00:00<00:00, 74.2MB/s]\n"
          ]
        },
        {
          "output_type": "stream",
          "name": "stdout",
          "text": [
            "Ultralytics 8.3.156 🚀 Python-3.11.13 torch-2.6.0+cu124 CUDA:0 (Tesla T4, 15095MiB)\n",
            "\u001b[34m\u001b[1mengine/trainer: \u001b[0magnostic_nms=False, amp=True, augment=False, auto_augment=randaugment, batch=8, bgr=0.0, box=7.5, cache=False, cfg=None, classes=None, close_mosaic=10, cls=0.5, conf=None, copy_paste=0.0, copy_paste_mode=flip, cos_lr=False, cutmix=0.0, data=chickenduck.yaml, degrees=0.0, deterministic=True, device=None, dfl=1.5, dnn=False, dropout=0.0, dynamic=False, embed=None, epochs=30, erasing=0.4, exist_ok=False, fliplr=0.5, flipud=0.0, format=torchscript, fraction=1.0, freeze=None, half=False, hsv_h=0.015, hsv_s=0.7, hsv_v=0.4, imgsz=640, int8=False, iou=0.7, keras=False, kobj=1.0, line_width=None, lr0=0.01, lrf=0.01, mask_ratio=4, max_det=300, mixup=0.0, mode=train, model=yolov8n.pt, momentum=0.937, mosaic=1.0, multi_scale=False, name=chickenduck_model, nbs=64, nms=False, opset=None, optimize=False, optimizer=auto, overlap_mask=True, patience=100, perspective=0.0, plots=True, pose=12.0, pretrained=True, profile=False, project=None, rect=False, resume=False, retina_masks=False, save=True, save_conf=False, save_crop=False, save_dir=runs/detect/chickenduck_model, save_frames=False, save_json=False, save_period=-1, save_txt=False, scale=0.5, seed=0, shear=0.0, show=False, show_boxes=True, show_conf=True, show_labels=True, simplify=True, single_cls=False, source=None, split=val, stream_buffer=False, task=detect, time=None, tracker=botsort.yaml, translate=0.1, val=True, verbose=True, vid_stride=1, visualize=False, warmup_bias_lr=0.1, warmup_epochs=3.0, warmup_momentum=0.8, weight_decay=0.0005, workers=8, workspace=None\n",
            "Downloading https://ultralytics.com/assets/Arial.ttf to '/root/.config/Ultralytics/Arial.ttf'...\n"
          ]
        },
        {
          "output_type": "stream",
          "name": "stderr",
          "text": [
            "100%|██████████| 755k/755k [00:00<00:00, 14.2MB/s]"
          ]
        },
        {
          "output_type": "stream",
          "name": "stdout",
          "text": [
            "Overriding model.yaml nc=80 with nc=2\n",
            "\n",
            "                   from  n    params  module                                       arguments                     \n",
            "  0                  -1  1       464  ultralytics.nn.modules.conv.Conv             [3, 16, 3, 2]                 \n",
            "  1                  -1  1      4672  ultralytics.nn.modules.conv.Conv             [16, 32, 3, 2]                \n",
            "  2                  -1  1      7360  ultralytics.nn.modules.block.C2f             [32, 32, 1, True]             \n",
            "  3                  -1  1     18560  ultralytics.nn.modules.conv.Conv             [32, 64, 3, 2]                \n",
            "  4                  -1  2     49664  ultralytics.nn.modules.block.C2f             [64, 64, 2, True]             \n",
            "  5                  -1  1     73984  ultralytics.nn.modules.conv.Conv             [64, 128, 3, 2]               \n",
            "  6                  -1  2    197632  ultralytics.nn.modules.block.C2f             [128, 128, 2, True]           \n",
            "  7                  -1  1    295424  ultralytics.nn.modules.conv.Conv             [128, 256, 3, 2]              \n",
            "  8                  -1  1    460288  ultralytics.nn.modules.block.C2f             [256, 256, 1, True]           \n",
            "  9                  -1  1    164608  ultralytics.nn.modules.block.SPPF            [256, 256, 5]                 \n",
            " 10                  -1  1         0  torch.nn.modules.upsampling.Upsample         [None, 2, 'nearest']          \n",
            " 11             [-1, 6]  1         0  ultralytics.nn.modules.conv.Concat           [1]                           \n",
            " 12                  -1  1    148224  ultralytics.nn.modules.block.C2f             [384, 128, 1]                 \n",
            " 13                  -1  1         0  torch.nn.modules.upsampling.Upsample         [None, 2, 'nearest']          \n",
            " 14             [-1, 4]  1         0  ultralytics.nn.modules.conv.Concat           [1]                           \n",
            " 15                  -1  1     37248  ultralytics.nn.modules.block.C2f             [192, 64, 1]                  \n",
            " 16                  -1  1     36992  ultralytics.nn.modules.conv.Conv             [64, 64, 3, 2]                \n",
            " 17            [-1, 12]  1         0  ultralytics.nn.modules.conv.Concat           [1]                           \n",
            " 18                  -1  1    123648  ultralytics.nn.modules.block.C2f             [192, 128, 1]                 \n",
            " 19                  -1  1    147712  ultralytics.nn.modules.conv.Conv             [128, 128, 3, 2]              \n",
            " 20             [-1, 9]  1         0  ultralytics.nn.modules.conv.Concat           [1]                           \n",
            " 21                  -1  1    493056  ultralytics.nn.modules.block.C2f             [384, 256, 1]                 \n",
            " 22        [15, 18, 21]  1    751702  ultralytics.nn.modules.head.Detect           [2, [64, 128, 256]]           \n"
          ]
        },
        {
          "output_type": "stream",
          "name": "stderr",
          "text": [
            "\n"
          ]
        },
        {
          "output_type": "stream",
          "name": "stdout",
          "text": [
            "Model summary: 129 layers, 3,011,238 parameters, 3,011,222 gradients, 8.2 GFLOPs\n",
            "\n",
            "Transferred 319/355 items from pretrained weights\n",
            "Freezing layer 'model.22.dfl.conv.weight'\n",
            "\u001b[34m\u001b[1mAMP: \u001b[0mrunning Automatic Mixed Precision (AMP) checks...\n",
            "Downloading https://github.com/ultralytics/assets/releases/download/v8.3.0/yolo11n.pt to 'yolo11n.pt'...\n"
          ]
        },
        {
          "output_type": "stream",
          "name": "stderr",
          "text": [
            "100%|██████████| 5.35M/5.35M [00:00<00:00, 65.4MB/s]\n"
          ]
        },
        {
          "output_type": "stream",
          "name": "stdout",
          "text": [
            "\u001b[34m\u001b[1mAMP: \u001b[0mchecks passed ✅\n",
            "\u001b[34m\u001b[1mtrain: \u001b[0mFast image access ✅ (ping: 0.0±0.0 ms, read: 673.0±191.0 MB/s, size: 27.4 KB)\n"
          ]
        },
        {
          "output_type": "stream",
          "name": "stderr",
          "text": [
            "\u001b[34m\u001b[1mtrain: \u001b[0mScanning /content/yolo_dataset/labels/train... 897 images, 0 backgrounds, 0 corrupt: 100%|██████████| 897/897 [00:00<00:00, 1707.34it/s]"
          ]
        },
        {
          "output_type": "stream",
          "name": "stdout",
          "text": [
            "\u001b[34m\u001b[1mtrain: \u001b[0mNew cache created: /content/yolo_dataset/labels/train.cache\n"
          ]
        },
        {
          "output_type": "stream",
          "name": "stderr",
          "text": [
            "\n"
          ]
        },
        {
          "output_type": "stream",
          "name": "stdout",
          "text": [
            "\u001b[34m\u001b[1malbumentations: \u001b[0mBlur(p=0.01, blur_limit=(3, 7)), MedianBlur(p=0.01, blur_limit=(3, 7)), ToGray(p=0.01, method='weighted_average', num_output_channels=3), CLAHE(p=0.01, clip_limit=(1.0, 4.0), tile_grid_size=(8, 8))\n",
            "\u001b[34m\u001b[1mval: \u001b[0mFast image access ✅ (ping: 0.0±0.0 ms, read: 643.5±467.9 MB/s, size: 29.2 KB)\n"
          ]
        },
        {
          "output_type": "stream",
          "name": "stderr",
          "text": [
            "\u001b[34m\u001b[1mval: \u001b[0mScanning /content/yolo_dataset/labels/train.cache... 897 images, 0 backgrounds, 0 corrupt: 100%|██████████| 897/897 [00:00<?, ?it/s]\n"
          ]
        },
        {
          "output_type": "stream",
          "name": "stdout",
          "text": [
            "Plotting labels to runs/detect/chickenduck_model/labels.jpg... \n",
            "\u001b[34m\u001b[1moptimizer:\u001b[0m 'optimizer=auto' found, ignoring 'lr0=0.01' and 'momentum=0.937' and determining best 'optimizer', 'lr0' and 'momentum' automatically... \n",
            "\u001b[34m\u001b[1moptimizer:\u001b[0m AdamW(lr=0.001667, momentum=0.9) with parameter groups 57 weight(decay=0.0), 64 weight(decay=0.0005), 63 bias(decay=0.0)\n",
            "Image sizes 640 train, 640 val\n",
            "Using 2 dataloader workers\n",
            "Logging results to \u001b[1mruns/detect/chickenduck_model\u001b[0m\n",
            "Starting training for 30 epochs...\n",
            "\n",
            "      Epoch    GPU_mem   box_loss   cls_loss   dfl_loss  Instances       Size\n"
          ]
        },
        {
          "output_type": "stream",
          "name": "stderr",
          "text": [
            "       1/30      1.08G       1.81       2.94      2.137          1        640: 100%|██████████| 113/113 [00:19<00:00,  5.72it/s]\n",
            "                 Class     Images  Instances      Box(P          R      mAP50  mAP50-95): 100%|██████████| 57/57 [00:09<00:00,  5.73it/s]\n"
          ]
        },
        {
          "output_type": "stream",
          "name": "stdout",
          "text": [
            "                   all        897        897      0.511       0.77      0.546      0.309\n",
            "\n",
            "      Epoch    GPU_mem   box_loss   cls_loss   dfl_loss  Instances       Size\n"
          ]
        },
        {
          "output_type": "stream",
          "name": "stderr",
          "text": [
            "       2/30      1.33G      1.242       1.97      1.563          1        640: 100%|██████████| 113/113 [00:17<00:00,  6.57it/s]\n",
            "                 Class     Images  Instances      Box(P          R      mAP50  mAP50-95): 100%|██████████| 57/57 [00:07<00:00,  7.29it/s]\n"
          ]
        },
        {
          "output_type": "stream",
          "name": "stdout",
          "text": [
            "                   all        897        897      0.543      0.574      0.527      0.233\n",
            "\n",
            "      Epoch    GPU_mem   box_loss   cls_loss   dfl_loss  Instances       Size\n"
          ]
        },
        {
          "output_type": "stream",
          "name": "stderr",
          "text": [
            "       3/30      1.33G      1.177      1.695      1.488          2        640: 100%|██████████| 113/113 [00:17<00:00,  6.54it/s]\n",
            "                 Class     Images  Instances      Box(P          R      mAP50  mAP50-95): 100%|██████████| 57/57 [00:06<00:00,  8.38it/s]\n"
          ]
        },
        {
          "output_type": "stream",
          "name": "stdout",
          "text": [
            "                   all        897        897       0.69      0.657      0.693      0.368\n",
            "\n",
            "      Epoch    GPU_mem   box_loss   cls_loss   dfl_loss  Instances       Size\n"
          ]
        },
        {
          "output_type": "stream",
          "name": "stderr",
          "text": [
            "       4/30      1.34G      1.152      1.588      1.494          4        640: 100%|██████████| 113/113 [00:18<00:00,  5.98it/s]\n",
            "                 Class     Images  Instances      Box(P          R      mAP50  mAP50-95): 100%|██████████| 57/57 [00:06<00:00,  8.45it/s]\n"
          ]
        },
        {
          "output_type": "stream",
          "name": "stdout",
          "text": [
            "                   all        897        897      0.764      0.841      0.867      0.629\n",
            "\n",
            "      Epoch    GPU_mem   box_loss   cls_loss   dfl_loss  Instances       Size\n"
          ]
        },
        {
          "output_type": "stream",
          "name": "stderr",
          "text": [
            "       5/30      1.36G       1.12      1.475      1.467          4        640: 100%|██████████| 113/113 [00:17<00:00,  6.42it/s]\n",
            "                 Class     Images  Instances      Box(P          R      mAP50  mAP50-95): 100%|██████████| 57/57 [00:07<00:00,  7.36it/s]\n"
          ]
        },
        {
          "output_type": "stream",
          "name": "stdout",
          "text": [
            "                   all        897        897      0.744      0.811      0.866      0.654\n",
            "\n",
            "      Epoch    GPU_mem   box_loss   cls_loss   dfl_loss  Instances       Size\n"
          ]
        },
        {
          "output_type": "stream",
          "name": "stderr",
          "text": [
            "       6/30      1.38G       1.06      1.343      1.403          2        640: 100%|██████████| 113/113 [00:17<00:00,  6.62it/s]\n",
            "                 Class     Images  Instances      Box(P          R      mAP50  mAP50-95): 100%|██████████| 57/57 [00:08<00:00,  7.03it/s]\n"
          ]
        },
        {
          "output_type": "stream",
          "name": "stdout",
          "text": [
            "                   all        897        897      0.715       0.79      0.824      0.524\n",
            "\n",
            "      Epoch    GPU_mem   box_loss   cls_loss   dfl_loss  Instances       Size\n"
          ]
        },
        {
          "output_type": "stream",
          "name": "stderr",
          "text": [
            "       7/30      1.38G      1.006      1.283      1.384          4        640: 100%|██████████| 113/113 [00:17<00:00,  6.62it/s]\n",
            "                 Class     Images  Instances      Box(P          R      mAP50  mAP50-95): 100%|██████████| 57/57 [00:07<00:00,  7.53it/s]"
          ]
        },
        {
          "output_type": "stream",
          "name": "stdout",
          "text": [
            "                   all        897        897      0.605      0.709       0.64      0.522\n"
          ]
        },
        {
          "output_type": "stream",
          "name": "stderr",
          "text": [
            "\n"
          ]
        },
        {
          "output_type": "stream",
          "name": "stdout",
          "text": [
            "\n",
            "      Epoch    GPU_mem   box_loss   cls_loss   dfl_loss  Instances       Size\n"
          ]
        },
        {
          "output_type": "stream",
          "name": "stderr",
          "text": [
            "       8/30      1.38G     0.9701      1.244      1.335          4        640: 100%|██████████| 113/113 [00:17<00:00,  6.46it/s]\n",
            "                 Class     Images  Instances      Box(P          R      mAP50  mAP50-95): 100%|██████████| 57/57 [00:06<00:00,  8.54it/s]"
          ]
        },
        {
          "output_type": "stream",
          "name": "stdout",
          "text": [
            "                   all        897        897      0.736      0.863      0.908      0.667\n"
          ]
        },
        {
          "output_type": "stream",
          "name": "stderr",
          "text": [
            "\n"
          ]
        },
        {
          "output_type": "stream",
          "name": "stdout",
          "text": [
            "\n",
            "      Epoch    GPU_mem   box_loss   cls_loss   dfl_loss  Instances       Size\n"
          ]
        },
        {
          "output_type": "stream",
          "name": "stderr",
          "text": [
            "       9/30      1.38G     0.9916      1.239      1.398          1        640: 100%|██████████| 113/113 [00:18<00:00,  6.04it/s]\n",
            "                 Class     Images  Instances      Box(P          R      mAP50  mAP50-95): 100%|██████████| 57/57 [00:06<00:00,  8.47it/s]\n"
          ]
        },
        {
          "output_type": "stream",
          "name": "stdout",
          "text": [
            "                   all        897        897      0.857      0.781      0.888      0.724\n",
            "\n",
            "      Epoch    GPU_mem   box_loss   cls_loss   dfl_loss  Instances       Size\n"
          ]
        },
        {
          "output_type": "stream",
          "name": "stderr",
          "text": [
            "      10/30      1.38G     0.8988      1.166      1.319          1        640: 100%|██████████| 113/113 [00:17<00:00,  6.64it/s]\n",
            "                 Class     Images  Instances      Box(P          R      mAP50  mAP50-95): 100%|██████████| 57/57 [00:07<00:00,  7.14it/s]"
          ]
        },
        {
          "output_type": "stream",
          "name": "stdout",
          "text": [
            "                   all        897        897      0.776      0.878      0.909      0.742\n"
          ]
        },
        {
          "output_type": "stream",
          "name": "stderr",
          "text": [
            "\n"
          ]
        },
        {
          "output_type": "stream",
          "name": "stdout",
          "text": [
            "\n",
            "      Epoch    GPU_mem   box_loss   cls_loss   dfl_loss  Instances       Size\n"
          ]
        },
        {
          "output_type": "stream",
          "name": "stderr",
          "text": [
            "      11/30      1.39G     0.9009      1.131      1.292          2        640: 100%|██████████| 113/113 [00:17<00:00,  6.50it/s]\n",
            "                 Class     Images  Instances      Box(P          R      mAP50  mAP50-95): 100%|██████████| 57/57 [00:08<00:00,  7.07it/s]"
          ]
        },
        {
          "output_type": "stream",
          "name": "stdout",
          "text": [
            "                   all        897        897      0.757      0.856      0.887      0.769\n"
          ]
        },
        {
          "output_type": "stream",
          "name": "stderr",
          "text": [
            "\n"
          ]
        },
        {
          "output_type": "stream",
          "name": "stdout",
          "text": [
            "\n",
            "      Epoch    GPU_mem   box_loss   cls_loss   dfl_loss  Instances       Size\n"
          ]
        },
        {
          "output_type": "stream",
          "name": "stderr",
          "text": [
            "      12/30      1.41G     0.9173      1.126      1.326          4        640: 100%|██████████| 113/113 [00:17<00:00,  6.52it/s]\n",
            "                 Class     Images  Instances      Box(P          R      mAP50  mAP50-95): 100%|██████████| 57/57 [00:07<00:00,  7.14it/s]"
          ]
        },
        {
          "output_type": "stream",
          "name": "stdout",
          "text": [
            "                   all        897        897      0.859      0.899      0.932      0.607\n"
          ]
        },
        {
          "output_type": "stream",
          "name": "stderr",
          "text": [
            "\n"
          ]
        },
        {
          "output_type": "stream",
          "name": "stdout",
          "text": [
            "\n",
            "      Epoch    GPU_mem   box_loss   cls_loss   dfl_loss  Instances       Size\n"
          ]
        },
        {
          "output_type": "stream",
          "name": "stderr",
          "text": [
            "      13/30      1.41G     0.8025      1.058      1.233          4        640: 100%|██████████| 113/113 [00:17<00:00,  6.45it/s]\n",
            "                 Class     Images  Instances      Box(P          R      mAP50  mAP50-95): 100%|██████████| 57/57 [00:06<00:00,  8.60it/s]"
          ]
        },
        {
          "output_type": "stream",
          "name": "stdout",
          "text": [
            "                   all        897        897      0.878      0.896      0.936      0.769\n"
          ]
        },
        {
          "output_type": "stream",
          "name": "stderr",
          "text": [
            "\n"
          ]
        },
        {
          "output_type": "stream",
          "name": "stdout",
          "text": [
            "\n",
            "      Epoch    GPU_mem   box_loss   cls_loss   dfl_loss  Instances       Size\n"
          ]
        },
        {
          "output_type": "stream",
          "name": "stderr",
          "text": [
            "      14/30      1.41G     0.8619      1.033      1.278          4        640: 100%|██████████| 113/113 [00:18<00:00,  6.10it/s]\n",
            "                 Class     Images  Instances      Box(P          R      mAP50  mAP50-95): 100%|██████████| 57/57 [00:06<00:00,  8.56it/s]"
          ]
        },
        {
          "output_type": "stream",
          "name": "stdout",
          "text": [
            "                   all        897        897      0.775      0.857       0.91      0.783\n"
          ]
        },
        {
          "output_type": "stream",
          "name": "stderr",
          "text": [
            "\n"
          ]
        },
        {
          "output_type": "stream",
          "name": "stdout",
          "text": [
            "\n",
            "      Epoch    GPU_mem   box_loss   cls_loss   dfl_loss  Instances       Size\n"
          ]
        },
        {
          "output_type": "stream",
          "name": "stderr",
          "text": [
            "      15/30      1.41G     0.8051      1.031      1.246          2        640: 100%|██████████| 113/113 [00:17<00:00,  6.29it/s]\n",
            "                 Class     Images  Instances      Box(P          R      mAP50  mAP50-95): 100%|██████████| 57/57 [00:07<00:00,  7.68it/s]"
          ]
        },
        {
          "output_type": "stream",
          "name": "stdout",
          "text": [
            "                   all        897        897      0.821      0.905      0.944      0.721\n"
          ]
        },
        {
          "output_type": "stream",
          "name": "stderr",
          "text": [
            "\n"
          ]
        },
        {
          "output_type": "stream",
          "name": "stdout",
          "text": [
            "\n",
            "      Epoch    GPU_mem   box_loss   cls_loss   dfl_loss  Instances       Size\n"
          ]
        },
        {
          "output_type": "stream",
          "name": "stderr",
          "text": [
            "      16/30      1.41G     0.8087      1.007      1.237          4        640: 100%|██████████| 113/113 [00:17<00:00,  6.54it/s]\n",
            "                 Class     Images  Instances      Box(P          R      mAP50  mAP50-95): 100%|██████████| 57/57 [00:07<00:00,  7.23it/s]"
          ]
        },
        {
          "output_type": "stream",
          "name": "stdout",
          "text": [
            "                   all        897        897      0.771      0.914      0.936      0.809\n"
          ]
        },
        {
          "output_type": "stream",
          "name": "stderr",
          "text": [
            "\n"
          ]
        },
        {
          "output_type": "stream",
          "name": "stdout",
          "text": [
            "\n",
            "      Epoch    GPU_mem   box_loss   cls_loss   dfl_loss  Instances       Size\n"
          ]
        },
        {
          "output_type": "stream",
          "name": "stderr",
          "text": [
            "      17/30      1.41G     0.8171     0.9707      1.254          2        640: 100%|██████████| 113/113 [00:17<00:00,  6.46it/s]\n",
            "                 Class     Images  Instances      Box(P          R      mAP50  mAP50-95): 100%|██████████| 57/57 [00:09<00:00,  6.19it/s]"
          ]
        },
        {
          "output_type": "stream",
          "name": "stdout",
          "text": [
            "                   all        897        897      0.888      0.899      0.942      0.755\n"
          ]
        },
        {
          "output_type": "stream",
          "name": "stderr",
          "text": [
            "\n"
          ]
        },
        {
          "output_type": "stream",
          "name": "stdout",
          "text": [
            "\n",
            "      Epoch    GPU_mem   box_loss   cls_loss   dfl_loss  Instances       Size\n"
          ]
        },
        {
          "output_type": "stream",
          "name": "stderr",
          "text": [
            "      18/30      1.41G     0.7894     0.9727      1.247          2        640: 100%|██████████| 113/113 [00:17<00:00,  6.45it/s]\n",
            "                 Class     Images  Instances      Box(P          R      mAP50  mAP50-95): 100%|██████████| 57/57 [00:07<00:00,  7.55it/s]"
          ]
        },
        {
          "output_type": "stream",
          "name": "stdout",
          "text": [
            "                   all        897        897      0.801      0.907      0.949      0.678\n"
          ]
        },
        {
          "output_type": "stream",
          "name": "stderr",
          "text": [
            "\n"
          ]
        },
        {
          "output_type": "stream",
          "name": "stdout",
          "text": [
            "\n",
            "      Epoch    GPU_mem   box_loss   cls_loss   dfl_loss  Instances       Size\n"
          ]
        },
        {
          "output_type": "stream",
          "name": "stderr",
          "text": [
            "      19/30      1.41G     0.7555     0.9427      1.214          2        640: 100%|██████████| 113/113 [00:17<00:00,  6.53it/s]\n",
            "                 Class     Images  Instances      Box(P          R      mAP50  mAP50-95): 100%|██████████| 57/57 [00:06<00:00,  8.33it/s]\n"
          ]
        },
        {
          "output_type": "stream",
          "name": "stdout",
          "text": [
            "                   all        897        897      0.789      0.843      0.938      0.768\n",
            "\n",
            "      Epoch    GPU_mem   box_loss   cls_loss   dfl_loss  Instances       Size\n"
          ]
        },
        {
          "output_type": "stream",
          "name": "stderr",
          "text": [
            "      20/30      1.41G     0.7249     0.8979      1.194          4        640: 100%|██████████| 113/113 [00:18<00:00,  6.06it/s]\n",
            "                 Class     Images  Instances      Box(P          R      mAP50  mAP50-95): 100%|██████████| 57/57 [00:06<00:00,  8.64it/s]"
          ]
        },
        {
          "output_type": "stream",
          "name": "stdout",
          "text": [
            "                   all        897        897      0.815      0.856       0.94      0.861\n"
          ]
        },
        {
          "output_type": "stream",
          "name": "stderr",
          "text": [
            "\n"
          ]
        },
        {
          "output_type": "stream",
          "name": "stdout",
          "text": [
            "Closing dataloader mosaic\n",
            "\u001b[34m\u001b[1malbumentations: \u001b[0mBlur(p=0.01, blur_limit=(3, 7)), MedianBlur(p=0.01, blur_limit=(3, 7)), ToGray(p=0.01, method='weighted_average', num_output_channels=3), CLAHE(p=0.01, clip_limit=(1.0, 4.0), tile_grid_size=(8, 8))\n",
            "\n",
            "      Epoch    GPU_mem   box_loss   cls_loss   dfl_loss  Instances       Size\n"
          ]
        },
        {
          "output_type": "stream",
          "name": "stderr",
          "text": [
            "      21/30      1.41G     0.7992     0.8893      1.477          1        640: 100%|██████████| 113/113 [00:17<00:00,  6.49it/s]\n",
            "                 Class     Images  Instances      Box(P          R      mAP50  mAP50-95): 100%|██████████| 57/57 [00:07<00:00,  7.19it/s]"
          ]
        },
        {
          "output_type": "stream",
          "name": "stdout",
          "text": [
            "                   all        897        897      0.885      0.883      0.955      0.941\n"
          ]
        },
        {
          "output_type": "stream",
          "name": "stderr",
          "text": [
            "\n"
          ]
        },
        {
          "output_type": "stream",
          "name": "stdout",
          "text": [
            "\n",
            "      Epoch    GPU_mem   box_loss   cls_loss   dfl_loss  Instances       Size\n"
          ]
        },
        {
          "output_type": "stream",
          "name": "stderr",
          "text": [
            "      22/30      1.41G     0.7509     0.7671      1.426          1        640: 100%|██████████| 113/113 [00:16<00:00,  6.86it/s]\n",
            "                 Class     Images  Instances      Box(P          R      mAP50  mAP50-95): 100%|██████████| 57/57 [00:07<00:00,  7.19it/s]\n"
          ]
        },
        {
          "output_type": "stream",
          "name": "stdout",
          "text": [
            "                   all        897        897       0.86       0.89       0.96      0.892\n",
            "\n",
            "      Epoch    GPU_mem   box_loss   cls_loss   dfl_loss  Instances       Size\n"
          ]
        },
        {
          "output_type": "stream",
          "name": "stderr",
          "text": [
            "      23/30      1.41G     0.7444      0.798      1.432          1        640: 100%|██████████| 113/113 [00:16<00:00,  6.89it/s]\n",
            "                 Class     Images  Instances      Box(P          R      mAP50  mAP50-95): 100%|██████████| 57/57 [00:06<00:00,  8.37it/s]"
          ]
        },
        {
          "output_type": "stream",
          "name": "stdout",
          "text": [
            "                   all        897        897      0.899       0.91      0.963      0.948\n"
          ]
        },
        {
          "output_type": "stream",
          "name": "stderr",
          "text": [
            "\n"
          ]
        },
        {
          "output_type": "stream",
          "name": "stdout",
          "text": [
            "\n",
            "      Epoch    GPU_mem   box_loss   cls_loss   dfl_loss  Instances       Size\n"
          ]
        },
        {
          "output_type": "stream",
          "name": "stderr",
          "text": [
            "      24/30      1.41G     0.6944     0.7039      1.384          1        640: 100%|██████████| 113/113 [00:17<00:00,  6.37it/s]\n",
            "                 Class     Images  Instances      Box(P          R      mAP50  mAP50-95): 100%|██████████| 57/57 [00:06<00:00,  8.65it/s]"
          ]
        },
        {
          "output_type": "stream",
          "name": "stdout",
          "text": [
            "                   all        897        897      0.886      0.924      0.963      0.951\n"
          ]
        },
        {
          "output_type": "stream",
          "name": "stderr",
          "text": [
            "\n"
          ]
        },
        {
          "output_type": "stream",
          "name": "stdout",
          "text": [
            "\n",
            "      Epoch    GPU_mem   box_loss   cls_loss   dfl_loss  Instances       Size\n"
          ]
        },
        {
          "output_type": "stream",
          "name": "stderr",
          "text": [
            "      25/30      1.41G     0.7633      0.752      1.458          1        640: 100%|██████████| 113/113 [00:16<00:00,  6.78it/s]\n",
            "                 Class     Images  Instances      Box(P          R      mAP50  mAP50-95): 100%|██████████| 57/57 [00:07<00:00,  7.18it/s]"
          ]
        },
        {
          "output_type": "stream",
          "name": "stdout",
          "text": [
            "                   all        897        897       0.92      0.905      0.964      0.946\n"
          ]
        },
        {
          "output_type": "stream",
          "name": "stderr",
          "text": [
            "\n"
          ]
        },
        {
          "output_type": "stream",
          "name": "stdout",
          "text": [
            "\n",
            "      Epoch    GPU_mem   box_loss   cls_loss   dfl_loss  Instances       Size\n"
          ]
        },
        {
          "output_type": "stream",
          "name": "stderr",
          "text": [
            "      26/30      1.41G     0.7225     0.6765      1.427          1        640: 100%|██████████| 113/113 [00:16<00:00,  6.91it/s]\n",
            "                 Class     Images  Instances      Box(P          R      mAP50  mAP50-95): 100%|██████████| 57/57 [00:07<00:00,  7.19it/s]"
          ]
        },
        {
          "output_type": "stream",
          "name": "stdout",
          "text": [
            "                   all        897        897      0.925      0.891      0.969      0.968\n"
          ]
        },
        {
          "output_type": "stream",
          "name": "stderr",
          "text": [
            "\n"
          ]
        },
        {
          "output_type": "stream",
          "name": "stdout",
          "text": [
            "\n",
            "      Epoch    GPU_mem   box_loss   cls_loss   dfl_loss  Instances       Size\n"
          ]
        },
        {
          "output_type": "stream",
          "name": "stderr",
          "text": [
            "      27/30      1.41G     0.6739     0.6405      1.364          1        640: 100%|██████████| 113/113 [00:16<00:00,  6.88it/s]\n",
            "                 Class     Images  Instances      Box(P          R      mAP50  mAP50-95): 100%|██████████| 57/57 [00:06<00:00,  8.69it/s]"
          ]
        },
        {
          "output_type": "stream",
          "name": "stdout",
          "text": [
            "                   all        897        897      0.931      0.918      0.976      0.974\n"
          ]
        },
        {
          "output_type": "stream",
          "name": "stderr",
          "text": [
            "\n"
          ]
        },
        {
          "output_type": "stream",
          "name": "stdout",
          "text": [
            "\n",
            "      Epoch    GPU_mem   box_loss   cls_loss   dfl_loss  Instances       Size\n"
          ]
        },
        {
          "output_type": "stream",
          "name": "stderr",
          "text": [
            "      28/30      1.41G     0.6504     0.6248      1.345          1        640: 100%|██████████| 113/113 [00:17<00:00,  6.37it/s]\n",
            "                 Class     Images  Instances      Box(P          R      mAP50  mAP50-95): 100%|██████████| 57/57 [00:06<00:00,  8.21it/s]"
          ]
        },
        {
          "output_type": "stream",
          "name": "stdout",
          "text": [
            "                   all        897        897      0.938      0.935      0.978      0.975\n"
          ]
        },
        {
          "output_type": "stream",
          "name": "stderr",
          "text": [
            "\n"
          ]
        },
        {
          "output_type": "stream",
          "name": "stdout",
          "text": [
            "\n",
            "      Epoch    GPU_mem   box_loss   cls_loss   dfl_loss  Instances       Size\n"
          ]
        },
        {
          "output_type": "stream",
          "name": "stderr",
          "text": [
            "      29/30      1.41G     0.6875     0.6421      1.403          1        640: 100%|██████████| 113/113 [00:16<00:00,  6.80it/s]\n",
            "                 Class     Images  Instances      Box(P          R      mAP50  mAP50-95): 100%|██████████| 57/57 [00:07<00:00,  7.22it/s]"
          ]
        },
        {
          "output_type": "stream",
          "name": "stdout",
          "text": [
            "                   all        897        897      0.941      0.931      0.979      0.974\n"
          ]
        },
        {
          "output_type": "stream",
          "name": "stderr",
          "text": [
            "\n"
          ]
        },
        {
          "output_type": "stream",
          "name": "stdout",
          "text": [
            "\n",
            "      Epoch    GPU_mem   box_loss   cls_loss   dfl_loss  Instances       Size\n"
          ]
        },
        {
          "output_type": "stream",
          "name": "stderr",
          "text": [
            "      30/30      1.41G      0.597     0.6054      1.289          1        640: 100%|██████████| 113/113 [00:16<00:00,  6.93it/s]\n",
            "                 Class     Images  Instances      Box(P          R      mAP50  mAP50-95): 100%|██████████| 57/57 [00:07<00:00,  7.25it/s]"
          ]
        },
        {
          "output_type": "stream",
          "name": "stdout",
          "text": [
            "                   all        897        897      0.948      0.923      0.981       0.98\n"
          ]
        },
        {
          "output_type": "stream",
          "name": "stderr",
          "text": [
            "\n"
          ]
        },
        {
          "output_type": "stream",
          "name": "stdout",
          "text": [
            "\n",
            "30 epochs completed in 0.211 hours.\n",
            "Optimizer stripped from runs/detect/chickenduck_model/weights/last.pt, 6.2MB\n",
            "Optimizer stripped from runs/detect/chickenduck_model/weights/best.pt, 6.2MB\n",
            "\n",
            "Validating runs/detect/chickenduck_model/weights/best.pt...\n",
            "Ultralytics 8.3.156 🚀 Python-3.11.13 torch-2.6.0+cu124 CUDA:0 (Tesla T4, 15095MiB)\n",
            "Model summary (fused): 72 layers, 3,006,038 parameters, 0 gradients, 8.1 GFLOPs\n"
          ]
        },
        {
          "output_type": "stream",
          "name": "stderr",
          "text": [
            "                 Class     Images  Instances      Box(P          R      mAP50  mAP50-95): 100%|██████████| 57/57 [00:07<00:00,  7.14it/s]\n"
          ]
        },
        {
          "output_type": "stream",
          "name": "stdout",
          "text": [
            "                   all        897        897      0.949      0.923      0.981       0.98\n",
            "                    ga        275        275      0.945      0.877      0.971      0.971\n",
            "                   vit        622        622      0.952      0.969       0.99       0.99\n",
            "Speed: 0.2ms preprocess, 2.2ms inference, 0.0ms loss, 1.7ms postprocess per image\n",
            "Results saved to \u001b[1mruns/detect/chickenduck_model\u001b[0m\n"
          ]
        },
        {
          "output_type": "execute_result",
          "data": {
            "text/plain": [
              "ultralytics.utils.metrics.DetMetrics object with attributes:\n",
              "\n",
              "ap_class_index: array([0, 1])\n",
              "box: ultralytics.utils.metrics.Metric object\n",
              "confusion_matrix: <ultralytics.utils.metrics.ConfusionMatrix object at 0x787a69c08710>\n",
              "curves: ['Precision-Recall(B)', 'F1-Confidence(B)', 'Precision-Confidence(B)', 'Recall-Confidence(B)']\n",
              "curves_results: [[array([          0,    0.001001,    0.002002,    0.003003,    0.004004,    0.005005,    0.006006,    0.007007,    0.008008,    0.009009,     0.01001,    0.011011,    0.012012,    0.013013,    0.014014,    0.015015,    0.016016,    0.017017,    0.018018,    0.019019,     0.02002,    0.021021,    0.022022,    0.023023,\n",
              "          0.024024,    0.025025,    0.026026,    0.027027,    0.028028,    0.029029,     0.03003,    0.031031,    0.032032,    0.033033,    0.034034,    0.035035,    0.036036,    0.037037,    0.038038,    0.039039,     0.04004,    0.041041,    0.042042,    0.043043,    0.044044,    0.045045,    0.046046,    0.047047,\n",
              "          0.048048,    0.049049,     0.05005,    0.051051,    0.052052,    0.053053,    0.054054,    0.055055,    0.056056,    0.057057,    0.058058,    0.059059,     0.06006,    0.061061,    0.062062,    0.063063,    0.064064,    0.065065,    0.066066,    0.067067,    0.068068,    0.069069,     0.07007,    0.071071,\n",
              "          0.072072,    0.073073,    0.074074,    0.075075,    0.076076,    0.077077,    0.078078,    0.079079,     0.08008,    0.081081,    0.082082,    0.083083,    0.084084,    0.085085,    0.086086,    0.087087,    0.088088,    0.089089,     0.09009,    0.091091,    0.092092,    0.093093,    0.094094,    0.095095,\n",
              "          0.096096,    0.097097,    0.098098,    0.099099,      0.1001,      0.1011,      0.1021,      0.1031,      0.1041,     0.10511,     0.10611,     0.10711,     0.10811,     0.10911,     0.11011,     0.11111,     0.11211,     0.11311,     0.11411,     0.11512,     0.11612,     0.11712,     0.11812,     0.11912,\n",
              "           0.12012,     0.12112,     0.12212,     0.12312,     0.12412,     0.12513,     0.12613,     0.12713,     0.12813,     0.12913,     0.13013,     0.13113,     0.13213,     0.13313,     0.13413,     0.13514,     0.13614,     0.13714,     0.13814,     0.13914,     0.14014,     0.14114,     0.14214,     0.14314,\n",
              "           0.14414,     0.14515,     0.14615,     0.14715,     0.14815,     0.14915,     0.15015,     0.15115,     0.15215,     0.15315,     0.15415,     0.15516,     0.15616,     0.15716,     0.15816,     0.15916,     0.16016,     0.16116,     0.16216,     0.16316,     0.16416,     0.16517,     0.16617,     0.16717,\n",
              "           0.16817,     0.16917,     0.17017,     0.17117,     0.17217,     0.17317,     0.17417,     0.17518,     0.17618,     0.17718,     0.17818,     0.17918,     0.18018,     0.18118,     0.18218,     0.18318,     0.18418,     0.18519,     0.18619,     0.18719,     0.18819,     0.18919,     0.19019,     0.19119,\n",
              "           0.19219,     0.19319,     0.19419,      0.1952,      0.1962,      0.1972,      0.1982,      0.1992,      0.2002,      0.2012,      0.2022,      0.2032,      0.2042,     0.20521,     0.20621,     0.20721,     0.20821,     0.20921,     0.21021,     0.21121,     0.21221,     0.21321,     0.21421,     0.21522,\n",
              "           0.21622,     0.21722,     0.21822,     0.21922,     0.22022,     0.22122,     0.22222,     0.22322,     0.22422,     0.22523,     0.22623,     0.22723,     0.22823,     0.22923,     0.23023,     0.23123,     0.23223,     0.23323,     0.23423,     0.23524,     0.23624,     0.23724,     0.23824,     0.23924,\n",
              "           0.24024,     0.24124,     0.24224,     0.24324,     0.24424,     0.24525,     0.24625,     0.24725,     0.24825,     0.24925,     0.25025,     0.25125,     0.25225,     0.25325,     0.25425,     0.25526,     0.25626,     0.25726,     0.25826,     0.25926,     0.26026,     0.26126,     0.26226,     0.26326,\n",
              "           0.26426,     0.26527,     0.26627,     0.26727,     0.26827,     0.26927,     0.27027,     0.27127,     0.27227,     0.27327,     0.27427,     0.27528,     0.27628,     0.27728,     0.27828,     0.27928,     0.28028,     0.28128,     0.28228,     0.28328,     0.28428,     0.28529,     0.28629,     0.28729,\n",
              "           0.28829,     0.28929,     0.29029,     0.29129,     0.29229,     0.29329,     0.29429,      0.2953,      0.2963,      0.2973,      0.2983,      0.2993,      0.3003,      0.3013,      0.3023,      0.3033,      0.3043,     0.30531,     0.30631,     0.30731,     0.30831,     0.30931,     0.31031,     0.31131,\n",
              "           0.31231,     0.31331,     0.31431,     0.31532,     0.31632,     0.31732,     0.31832,     0.31932,     0.32032,     0.32132,     0.32232,     0.32332,     0.32432,     0.32533,     0.32633,     0.32733,     0.32833,     0.32933,     0.33033,     0.33133,     0.33233,     0.33333,     0.33433,     0.33534,\n",
              "           0.33634,     0.33734,     0.33834,     0.33934,     0.34034,     0.34134,     0.34234,     0.34334,     0.34434,     0.34535,     0.34635,     0.34735,     0.34835,     0.34935,     0.35035,     0.35135,     0.35235,     0.35335,     0.35435,     0.35536,     0.35636,     0.35736,     0.35836,     0.35936,\n",
              "           0.36036,     0.36136,     0.36236,     0.36336,     0.36436,     0.36537,     0.36637,     0.36737,     0.36837,     0.36937,     0.37037,     0.37137,     0.37237,     0.37337,     0.37437,     0.37538,     0.37638,     0.37738,     0.37838,     0.37938,     0.38038,     0.38138,     0.38238,     0.38338,\n",
              "           0.38438,     0.38539,     0.38639,     0.38739,     0.38839,     0.38939,     0.39039,     0.39139,     0.39239,     0.39339,     0.39439,      0.3954,      0.3964,      0.3974,      0.3984,      0.3994,      0.4004,      0.4014,      0.4024,      0.4034,      0.4044,     0.40541,     0.40641,     0.40741,\n",
              "           0.40841,     0.40941,     0.41041,     0.41141,     0.41241,     0.41341,     0.41441,     0.41542,     0.41642,     0.41742,     0.41842,     0.41942,     0.42042,     0.42142,     0.42242,     0.42342,     0.42442,     0.42543,     0.42643,     0.42743,     0.42843,     0.42943,     0.43043,     0.43143,\n",
              "           0.43243,     0.43343,     0.43443,     0.43544,     0.43644,     0.43744,     0.43844,     0.43944,     0.44044,     0.44144,     0.44244,     0.44344,     0.44444,     0.44545,     0.44645,     0.44745,     0.44845,     0.44945,     0.45045,     0.45145,     0.45245,     0.45345,     0.45445,     0.45546,\n",
              "           0.45646,     0.45746,     0.45846,     0.45946,     0.46046,     0.46146,     0.46246,     0.46346,     0.46446,     0.46547,     0.46647,     0.46747,     0.46847,     0.46947,     0.47047,     0.47147,     0.47247,     0.47347,     0.47447,     0.47548,     0.47648,     0.47748,     0.47848,     0.47948,\n",
              "           0.48048,     0.48148,     0.48248,     0.48348,     0.48448,     0.48549,     0.48649,     0.48749,     0.48849,     0.48949,     0.49049,     0.49149,     0.49249,     0.49349,     0.49449,      0.4955,      0.4965,      0.4975,      0.4985,      0.4995,      0.5005,      0.5015,      0.5025,      0.5035,\n",
              "            0.5045,     0.50551,     0.50651,     0.50751,     0.50851,     0.50951,     0.51051,     0.51151,     0.51251,     0.51351,     0.51451,     0.51552,     0.51652,     0.51752,     0.51852,     0.51952,     0.52052,     0.52152,     0.52252,     0.52352,     0.52452,     0.52553,     0.52653,     0.52753,\n",
              "           0.52853,     0.52953,     0.53053,     0.53153,     0.53253,     0.53353,     0.53453,     0.53554,     0.53654,     0.53754,     0.53854,     0.53954,     0.54054,     0.54154,     0.54254,     0.54354,     0.54454,     0.54555,     0.54655,     0.54755,     0.54855,     0.54955,     0.55055,     0.55155,\n",
              "           0.55255,     0.55355,     0.55455,     0.55556,     0.55656,     0.55756,     0.55856,     0.55956,     0.56056,     0.56156,     0.56256,     0.56356,     0.56456,     0.56557,     0.56657,     0.56757,     0.56857,     0.56957,     0.57057,     0.57157,     0.57257,     0.57357,     0.57457,     0.57558,\n",
              "           0.57658,     0.57758,     0.57858,     0.57958,     0.58058,     0.58158,     0.58258,     0.58358,     0.58458,     0.58559,     0.58659,     0.58759,     0.58859,     0.58959,     0.59059,     0.59159,     0.59259,     0.59359,     0.59459,      0.5956,      0.5966,      0.5976,      0.5986,      0.5996,\n",
              "            0.6006,      0.6016,      0.6026,      0.6036,      0.6046,     0.60561,     0.60661,     0.60761,     0.60861,     0.60961,     0.61061,     0.61161,     0.61261,     0.61361,     0.61461,     0.61562,     0.61662,     0.61762,     0.61862,     0.61962,     0.62062,     0.62162,     0.62262,     0.62362,\n",
              "           0.62462,     0.62563,     0.62663,     0.62763,     0.62863,     0.62963,     0.63063,     0.63163,     0.63263,     0.63363,     0.63463,     0.63564,     0.63664,     0.63764,     0.63864,     0.63964,     0.64064,     0.64164,     0.64264,     0.64364,     0.64464,     0.64565,     0.64665,     0.64765,\n",
              "           0.64865,     0.64965,     0.65065,     0.65165,     0.65265,     0.65365,     0.65465,     0.65566,     0.65666,     0.65766,     0.65866,     0.65966,     0.66066,     0.66166,     0.66266,     0.66366,     0.66466,     0.66567,     0.66667,     0.66767,     0.66867,     0.66967,     0.67067,     0.67167,\n",
              "           0.67267,     0.67367,     0.67467,     0.67568,     0.67668,     0.67768,     0.67868,     0.67968,     0.68068,     0.68168,     0.68268,     0.68368,     0.68468,     0.68569,     0.68669,     0.68769,     0.68869,     0.68969,     0.69069,     0.69169,     0.69269,     0.69369,     0.69469,      0.6957,\n",
              "            0.6967,      0.6977,      0.6987,      0.6997,      0.7007,      0.7017,      0.7027,      0.7037,      0.7047,     0.70571,     0.70671,     0.70771,     0.70871,     0.70971,     0.71071,     0.71171,     0.71271,     0.71371,     0.71471,     0.71572,     0.71672,     0.71772,     0.71872,     0.71972,\n",
              "           0.72072,     0.72172,     0.72272,     0.72372,     0.72472,     0.72573,     0.72673,     0.72773,     0.72873,     0.72973,     0.73073,     0.73173,     0.73273,     0.73373,     0.73473,     0.73574,     0.73674,     0.73774,     0.73874,     0.73974,     0.74074,     0.74174,     0.74274,     0.74374,\n",
              "           0.74474,     0.74575,     0.74675,     0.74775,     0.74875,     0.74975,     0.75075,     0.75175,     0.75275,     0.75375,     0.75475,     0.75576,     0.75676,     0.75776,     0.75876,     0.75976,     0.76076,     0.76176,     0.76276,     0.76376,     0.76476,     0.76577,     0.76677,     0.76777,\n",
              "           0.76877,     0.76977,     0.77077,     0.77177,     0.77277,     0.77377,     0.77477,     0.77578,     0.77678,     0.77778,     0.77878,     0.77978,     0.78078,     0.78178,     0.78278,     0.78378,     0.78478,     0.78579,     0.78679,     0.78779,     0.78879,     0.78979,     0.79079,     0.79179,\n",
              "           0.79279,     0.79379,     0.79479,      0.7958,      0.7968,      0.7978,      0.7988,      0.7998,      0.8008,      0.8018,      0.8028,      0.8038,      0.8048,     0.80581,     0.80681,     0.80781,     0.80881,     0.80981,     0.81081,     0.81181,     0.81281,     0.81381,     0.81481,     0.81582,\n",
              "           0.81682,     0.81782,     0.81882,     0.81982,     0.82082,     0.82182,     0.82282,     0.82382,     0.82482,     0.82583,     0.82683,     0.82783,     0.82883,     0.82983,     0.83083,     0.83183,     0.83283,     0.83383,     0.83483,     0.83584,     0.83684,     0.83784,     0.83884,     0.83984,\n",
              "           0.84084,     0.84184,     0.84284,     0.84384,     0.84484,     0.84585,     0.84685,     0.84785,     0.84885,     0.84985,     0.85085,     0.85185,     0.85285,     0.85385,     0.85485,     0.85586,     0.85686,     0.85786,     0.85886,     0.85986,     0.86086,     0.86186,     0.86286,     0.86386,\n",
              "           0.86486,     0.86587,     0.86687,     0.86787,     0.86887,     0.86987,     0.87087,     0.87187,     0.87287,     0.87387,     0.87487,     0.87588,     0.87688,     0.87788,     0.87888,     0.87988,     0.88088,     0.88188,     0.88288,     0.88388,     0.88488,     0.88589,     0.88689,     0.88789,\n",
              "           0.88889,     0.88989,     0.89089,     0.89189,     0.89289,     0.89389,     0.89489,      0.8959,      0.8969,      0.8979,      0.8989,      0.8999,      0.9009,      0.9019,      0.9029,      0.9039,      0.9049,     0.90591,     0.90691,     0.90791,     0.90891,     0.90991,     0.91091,     0.91191,\n",
              "           0.91291,     0.91391,     0.91491,     0.91592,     0.91692,     0.91792,     0.91892,     0.91992,     0.92092,     0.92192,     0.92292,     0.92392,     0.92492,     0.92593,     0.92693,     0.92793,     0.92893,     0.92993,     0.93093,     0.93193,     0.93293,     0.93393,     0.93493,     0.93594,\n",
              "           0.93694,     0.93794,     0.93894,     0.93994,     0.94094,     0.94194,     0.94294,     0.94394,     0.94494,     0.94595,     0.94695,     0.94795,     0.94895,     0.94995,     0.95095,     0.95195,     0.95295,     0.95395,     0.95495,     0.95596,     0.95696,     0.95796,     0.95896,     0.95996,\n",
              "           0.96096,     0.96196,     0.96296,     0.96396,     0.96496,     0.96597,     0.96697,     0.96797,     0.96897,     0.96997,     0.97097,     0.97197,     0.97297,     0.97397,     0.97497,     0.97598,     0.97698,     0.97798,     0.97898,     0.97998,     0.98098,     0.98198,     0.98298,     0.98398,\n",
              "           0.98498,     0.98599,     0.98699,     0.98799,     0.98899,     0.98999,     0.99099,     0.99199,     0.99299,     0.99399,     0.99499,       0.996,       0.997,       0.998,       0.999,           1]), array([[          1,           1,           1, ...,     0.46769,     0.46769,           0],\n",
              "       [          1,           1,           1, ...,      0.8542,     0.82493,           0]]), 'Recall', 'Precision'], [array([          0,    0.001001,    0.002002,    0.003003,    0.004004,    0.005005,    0.006006,    0.007007,    0.008008,    0.009009,     0.01001,    0.011011,    0.012012,    0.013013,    0.014014,    0.015015,    0.016016,    0.017017,    0.018018,    0.019019,     0.02002,    0.021021,    0.022022,    0.023023,\n",
              "          0.024024,    0.025025,    0.026026,    0.027027,    0.028028,    0.029029,     0.03003,    0.031031,    0.032032,    0.033033,    0.034034,    0.035035,    0.036036,    0.037037,    0.038038,    0.039039,     0.04004,    0.041041,    0.042042,    0.043043,    0.044044,    0.045045,    0.046046,    0.047047,\n",
              "          0.048048,    0.049049,     0.05005,    0.051051,    0.052052,    0.053053,    0.054054,    0.055055,    0.056056,    0.057057,    0.058058,    0.059059,     0.06006,    0.061061,    0.062062,    0.063063,    0.064064,    0.065065,    0.066066,    0.067067,    0.068068,    0.069069,     0.07007,    0.071071,\n",
              "          0.072072,    0.073073,    0.074074,    0.075075,    0.076076,    0.077077,    0.078078,    0.079079,     0.08008,    0.081081,    0.082082,    0.083083,    0.084084,    0.085085,    0.086086,    0.087087,    0.088088,    0.089089,     0.09009,    0.091091,    0.092092,    0.093093,    0.094094,    0.095095,\n",
              "          0.096096,    0.097097,    0.098098,    0.099099,      0.1001,      0.1011,      0.1021,      0.1031,      0.1041,     0.10511,     0.10611,     0.10711,     0.10811,     0.10911,     0.11011,     0.11111,     0.11211,     0.11311,     0.11411,     0.11512,     0.11612,     0.11712,     0.11812,     0.11912,\n",
              "           0.12012,     0.12112,     0.12212,     0.12312,     0.12412,     0.12513,     0.12613,     0.12713,     0.12813,     0.12913,     0.13013,     0.13113,     0.13213,     0.13313,     0.13413,     0.13514,     0.13614,     0.13714,     0.13814,     0.13914,     0.14014,     0.14114,     0.14214,     0.14314,\n",
              "           0.14414,     0.14515,     0.14615,     0.14715,     0.14815,     0.14915,     0.15015,     0.15115,     0.15215,     0.15315,     0.15415,     0.15516,     0.15616,     0.15716,     0.15816,     0.15916,     0.16016,     0.16116,     0.16216,     0.16316,     0.16416,     0.16517,     0.16617,     0.16717,\n",
              "           0.16817,     0.16917,     0.17017,     0.17117,     0.17217,     0.17317,     0.17417,     0.17518,     0.17618,     0.17718,     0.17818,     0.17918,     0.18018,     0.18118,     0.18218,     0.18318,     0.18418,     0.18519,     0.18619,     0.18719,     0.18819,     0.18919,     0.19019,     0.19119,\n",
              "           0.19219,     0.19319,     0.19419,      0.1952,      0.1962,      0.1972,      0.1982,      0.1992,      0.2002,      0.2012,      0.2022,      0.2032,      0.2042,     0.20521,     0.20621,     0.20721,     0.20821,     0.20921,     0.21021,     0.21121,     0.21221,     0.21321,     0.21421,     0.21522,\n",
              "           0.21622,     0.21722,     0.21822,     0.21922,     0.22022,     0.22122,     0.22222,     0.22322,     0.22422,     0.22523,     0.22623,     0.22723,     0.22823,     0.22923,     0.23023,     0.23123,     0.23223,     0.23323,     0.23423,     0.23524,     0.23624,     0.23724,     0.23824,     0.23924,\n",
              "           0.24024,     0.24124,     0.24224,     0.24324,     0.24424,     0.24525,     0.24625,     0.24725,     0.24825,     0.24925,     0.25025,     0.25125,     0.25225,     0.25325,     0.25425,     0.25526,     0.25626,     0.25726,     0.25826,     0.25926,     0.26026,     0.26126,     0.26226,     0.26326,\n",
              "           0.26426,     0.26527,     0.26627,     0.26727,     0.26827,     0.26927,     0.27027,     0.27127,     0.27227,     0.27327,     0.27427,     0.27528,     0.27628,     0.27728,     0.27828,     0.27928,     0.28028,     0.28128,     0.28228,     0.28328,     0.28428,     0.28529,     0.28629,     0.28729,\n",
              "           0.28829,     0.28929,     0.29029,     0.29129,     0.29229,     0.29329,     0.29429,      0.2953,      0.2963,      0.2973,      0.2983,      0.2993,      0.3003,      0.3013,      0.3023,      0.3033,      0.3043,     0.30531,     0.30631,     0.30731,     0.30831,     0.30931,     0.31031,     0.31131,\n",
              "           0.31231,     0.31331,     0.31431,     0.31532,     0.31632,     0.31732,     0.31832,     0.31932,     0.32032,     0.32132,     0.32232,     0.32332,     0.32432,     0.32533,     0.32633,     0.32733,     0.32833,     0.32933,     0.33033,     0.33133,     0.33233,     0.33333,     0.33433,     0.33534,\n",
              "           0.33634,     0.33734,     0.33834,     0.33934,     0.34034,     0.34134,     0.34234,     0.34334,     0.34434,     0.34535,     0.34635,     0.34735,     0.34835,     0.34935,     0.35035,     0.35135,     0.35235,     0.35335,     0.35435,     0.35536,     0.35636,     0.35736,     0.35836,     0.35936,\n",
              "           0.36036,     0.36136,     0.36236,     0.36336,     0.36436,     0.36537,     0.36637,     0.36737,     0.36837,     0.36937,     0.37037,     0.37137,     0.37237,     0.37337,     0.37437,     0.37538,     0.37638,     0.37738,     0.37838,     0.37938,     0.38038,     0.38138,     0.38238,     0.38338,\n",
              "           0.38438,     0.38539,     0.38639,     0.38739,     0.38839,     0.38939,     0.39039,     0.39139,     0.39239,     0.39339,     0.39439,      0.3954,      0.3964,      0.3974,      0.3984,      0.3994,      0.4004,      0.4014,      0.4024,      0.4034,      0.4044,     0.40541,     0.40641,     0.40741,\n",
              "           0.40841,     0.40941,     0.41041,     0.41141,     0.41241,     0.41341,     0.41441,     0.41542,     0.41642,     0.41742,     0.41842,     0.41942,     0.42042,     0.42142,     0.42242,     0.42342,     0.42442,     0.42543,     0.42643,     0.42743,     0.42843,     0.42943,     0.43043,     0.43143,\n",
              "           0.43243,     0.43343,     0.43443,     0.43544,     0.43644,     0.43744,     0.43844,     0.43944,     0.44044,     0.44144,     0.44244,     0.44344,     0.44444,     0.44545,     0.44645,     0.44745,     0.44845,     0.44945,     0.45045,     0.45145,     0.45245,     0.45345,     0.45445,     0.45546,\n",
              "           0.45646,     0.45746,     0.45846,     0.45946,     0.46046,     0.46146,     0.46246,     0.46346,     0.46446,     0.46547,     0.46647,     0.46747,     0.46847,     0.46947,     0.47047,     0.47147,     0.47247,     0.47347,     0.47447,     0.47548,     0.47648,     0.47748,     0.47848,     0.47948,\n",
              "           0.48048,     0.48148,     0.48248,     0.48348,     0.48448,     0.48549,     0.48649,     0.48749,     0.48849,     0.48949,     0.49049,     0.49149,     0.49249,     0.49349,     0.49449,      0.4955,      0.4965,      0.4975,      0.4985,      0.4995,      0.5005,      0.5015,      0.5025,      0.5035,\n",
              "            0.5045,     0.50551,     0.50651,     0.50751,     0.50851,     0.50951,     0.51051,     0.51151,     0.51251,     0.51351,     0.51451,     0.51552,     0.51652,     0.51752,     0.51852,     0.51952,     0.52052,     0.52152,     0.52252,     0.52352,     0.52452,     0.52553,     0.52653,     0.52753,\n",
              "           0.52853,     0.52953,     0.53053,     0.53153,     0.53253,     0.53353,     0.53453,     0.53554,     0.53654,     0.53754,     0.53854,     0.53954,     0.54054,     0.54154,     0.54254,     0.54354,     0.54454,     0.54555,     0.54655,     0.54755,     0.54855,     0.54955,     0.55055,     0.55155,\n",
              "           0.55255,     0.55355,     0.55455,     0.55556,     0.55656,     0.55756,     0.55856,     0.55956,     0.56056,     0.56156,     0.56256,     0.56356,     0.56456,     0.56557,     0.56657,     0.56757,     0.56857,     0.56957,     0.57057,     0.57157,     0.57257,     0.57357,     0.57457,     0.57558,\n",
              "           0.57658,     0.57758,     0.57858,     0.57958,     0.58058,     0.58158,     0.58258,     0.58358,     0.58458,     0.58559,     0.58659,     0.58759,     0.58859,     0.58959,     0.59059,     0.59159,     0.59259,     0.59359,     0.59459,      0.5956,      0.5966,      0.5976,      0.5986,      0.5996,\n",
              "            0.6006,      0.6016,      0.6026,      0.6036,      0.6046,     0.60561,     0.60661,     0.60761,     0.60861,     0.60961,     0.61061,     0.61161,     0.61261,     0.61361,     0.61461,     0.61562,     0.61662,     0.61762,     0.61862,     0.61962,     0.62062,     0.62162,     0.62262,     0.62362,\n",
              "           0.62462,     0.62563,     0.62663,     0.62763,     0.62863,     0.62963,     0.63063,     0.63163,     0.63263,     0.63363,     0.63463,     0.63564,     0.63664,     0.63764,     0.63864,     0.63964,     0.64064,     0.64164,     0.64264,     0.64364,     0.64464,     0.64565,     0.64665,     0.64765,\n",
              "           0.64865,     0.64965,     0.65065,     0.65165,     0.65265,     0.65365,     0.65465,     0.65566,     0.65666,     0.65766,     0.65866,     0.65966,     0.66066,     0.66166,     0.66266,     0.66366,     0.66466,     0.66567,     0.66667,     0.66767,     0.66867,     0.66967,     0.67067,     0.67167,\n",
              "           0.67267,     0.67367,     0.67467,     0.67568,     0.67668,     0.67768,     0.67868,     0.67968,     0.68068,     0.68168,     0.68268,     0.68368,     0.68468,     0.68569,     0.68669,     0.68769,     0.68869,     0.68969,     0.69069,     0.69169,     0.69269,     0.69369,     0.69469,      0.6957,\n",
              "            0.6967,      0.6977,      0.6987,      0.6997,      0.7007,      0.7017,      0.7027,      0.7037,      0.7047,     0.70571,     0.70671,     0.70771,     0.70871,     0.70971,     0.71071,     0.71171,     0.71271,     0.71371,     0.71471,     0.71572,     0.71672,     0.71772,     0.71872,     0.71972,\n",
              "           0.72072,     0.72172,     0.72272,     0.72372,     0.72472,     0.72573,     0.72673,     0.72773,     0.72873,     0.72973,     0.73073,     0.73173,     0.73273,     0.73373,     0.73473,     0.73574,     0.73674,     0.73774,     0.73874,     0.73974,     0.74074,     0.74174,     0.74274,     0.74374,\n",
              "           0.74474,     0.74575,     0.74675,     0.74775,     0.74875,     0.74975,     0.75075,     0.75175,     0.75275,     0.75375,     0.75475,     0.75576,     0.75676,     0.75776,     0.75876,     0.75976,     0.76076,     0.76176,     0.76276,     0.76376,     0.76476,     0.76577,     0.76677,     0.76777,\n",
              "           0.76877,     0.76977,     0.77077,     0.77177,     0.77277,     0.77377,     0.77477,     0.77578,     0.77678,     0.77778,     0.77878,     0.77978,     0.78078,     0.78178,     0.78278,     0.78378,     0.78478,     0.78579,     0.78679,     0.78779,     0.78879,     0.78979,     0.79079,     0.79179,\n",
              "           0.79279,     0.79379,     0.79479,      0.7958,      0.7968,      0.7978,      0.7988,      0.7998,      0.8008,      0.8018,      0.8028,      0.8038,      0.8048,     0.80581,     0.80681,     0.80781,     0.80881,     0.80981,     0.81081,     0.81181,     0.81281,     0.81381,     0.81481,     0.81582,\n",
              "           0.81682,     0.81782,     0.81882,     0.81982,     0.82082,     0.82182,     0.82282,     0.82382,     0.82482,     0.82583,     0.82683,     0.82783,     0.82883,     0.82983,     0.83083,     0.83183,     0.83283,     0.83383,     0.83483,     0.83584,     0.83684,     0.83784,     0.83884,     0.83984,\n",
              "           0.84084,     0.84184,     0.84284,     0.84384,     0.84484,     0.84585,     0.84685,     0.84785,     0.84885,     0.84985,     0.85085,     0.85185,     0.85285,     0.85385,     0.85485,     0.85586,     0.85686,     0.85786,     0.85886,     0.85986,     0.86086,     0.86186,     0.86286,     0.86386,\n",
              "           0.86486,     0.86587,     0.86687,     0.86787,     0.86887,     0.86987,     0.87087,     0.87187,     0.87287,     0.87387,     0.87487,     0.87588,     0.87688,     0.87788,     0.87888,     0.87988,     0.88088,     0.88188,     0.88288,     0.88388,     0.88488,     0.88589,     0.88689,     0.88789,\n",
              "           0.88889,     0.88989,     0.89089,     0.89189,     0.89289,     0.89389,     0.89489,      0.8959,      0.8969,      0.8979,      0.8989,      0.8999,      0.9009,      0.9019,      0.9029,      0.9039,      0.9049,     0.90591,     0.90691,     0.90791,     0.90891,     0.90991,     0.91091,     0.91191,\n",
              "           0.91291,     0.91391,     0.91491,     0.91592,     0.91692,     0.91792,     0.91892,     0.91992,     0.92092,     0.92192,     0.92292,     0.92392,     0.92492,     0.92593,     0.92693,     0.92793,     0.92893,     0.92993,     0.93093,     0.93193,     0.93293,     0.93393,     0.93493,     0.93594,\n",
              "           0.93694,     0.93794,     0.93894,     0.93994,     0.94094,     0.94194,     0.94294,     0.94394,     0.94494,     0.94595,     0.94695,     0.94795,     0.94895,     0.94995,     0.95095,     0.95195,     0.95295,     0.95395,     0.95495,     0.95596,     0.95696,     0.95796,     0.95896,     0.95996,\n",
              "           0.96096,     0.96196,     0.96296,     0.96396,     0.96496,     0.96597,     0.96697,     0.96797,     0.96897,     0.96997,     0.97097,     0.97197,     0.97297,     0.97397,     0.97497,     0.97598,     0.97698,     0.97798,     0.97898,     0.97998,     0.98098,     0.98198,     0.98298,     0.98398,\n",
              "           0.98498,     0.98599,     0.98699,     0.98799,     0.98899,     0.98999,     0.99099,     0.99199,     0.99299,     0.99399,     0.99499,       0.996,       0.997,       0.998,       0.999,           1]), array([[    0.17007,     0.17007,     0.34676, ...,           0,           0,           0],\n",
              "       [    0.22851,     0.22851,       0.457, ...,           0,           0,           0]]), 'Confidence', 'F1'], [array([          0,    0.001001,    0.002002,    0.003003,    0.004004,    0.005005,    0.006006,    0.007007,    0.008008,    0.009009,     0.01001,    0.011011,    0.012012,    0.013013,    0.014014,    0.015015,    0.016016,    0.017017,    0.018018,    0.019019,     0.02002,    0.021021,    0.022022,    0.023023,\n",
              "          0.024024,    0.025025,    0.026026,    0.027027,    0.028028,    0.029029,     0.03003,    0.031031,    0.032032,    0.033033,    0.034034,    0.035035,    0.036036,    0.037037,    0.038038,    0.039039,     0.04004,    0.041041,    0.042042,    0.043043,    0.044044,    0.045045,    0.046046,    0.047047,\n",
              "          0.048048,    0.049049,     0.05005,    0.051051,    0.052052,    0.053053,    0.054054,    0.055055,    0.056056,    0.057057,    0.058058,    0.059059,     0.06006,    0.061061,    0.062062,    0.063063,    0.064064,    0.065065,    0.066066,    0.067067,    0.068068,    0.069069,     0.07007,    0.071071,\n",
              "          0.072072,    0.073073,    0.074074,    0.075075,    0.076076,    0.077077,    0.078078,    0.079079,     0.08008,    0.081081,    0.082082,    0.083083,    0.084084,    0.085085,    0.086086,    0.087087,    0.088088,    0.089089,     0.09009,    0.091091,    0.092092,    0.093093,    0.094094,    0.095095,\n",
              "          0.096096,    0.097097,    0.098098,    0.099099,      0.1001,      0.1011,      0.1021,      0.1031,      0.1041,     0.10511,     0.10611,     0.10711,     0.10811,     0.10911,     0.11011,     0.11111,     0.11211,     0.11311,     0.11411,     0.11512,     0.11612,     0.11712,     0.11812,     0.11912,\n",
              "           0.12012,     0.12112,     0.12212,     0.12312,     0.12412,     0.12513,     0.12613,     0.12713,     0.12813,     0.12913,     0.13013,     0.13113,     0.13213,     0.13313,     0.13413,     0.13514,     0.13614,     0.13714,     0.13814,     0.13914,     0.14014,     0.14114,     0.14214,     0.14314,\n",
              "           0.14414,     0.14515,     0.14615,     0.14715,     0.14815,     0.14915,     0.15015,     0.15115,     0.15215,     0.15315,     0.15415,     0.15516,     0.15616,     0.15716,     0.15816,     0.15916,     0.16016,     0.16116,     0.16216,     0.16316,     0.16416,     0.16517,     0.16617,     0.16717,\n",
              "           0.16817,     0.16917,     0.17017,     0.17117,     0.17217,     0.17317,     0.17417,     0.17518,     0.17618,     0.17718,     0.17818,     0.17918,     0.18018,     0.18118,     0.18218,     0.18318,     0.18418,     0.18519,     0.18619,     0.18719,     0.18819,     0.18919,     0.19019,     0.19119,\n",
              "           0.19219,     0.19319,     0.19419,      0.1952,      0.1962,      0.1972,      0.1982,      0.1992,      0.2002,      0.2012,      0.2022,      0.2032,      0.2042,     0.20521,     0.20621,     0.20721,     0.20821,     0.20921,     0.21021,     0.21121,     0.21221,     0.21321,     0.21421,     0.21522,\n",
              "           0.21622,     0.21722,     0.21822,     0.21922,     0.22022,     0.22122,     0.22222,     0.22322,     0.22422,     0.22523,     0.22623,     0.22723,     0.22823,     0.22923,     0.23023,     0.23123,     0.23223,     0.23323,     0.23423,     0.23524,     0.23624,     0.23724,     0.23824,     0.23924,\n",
              "           0.24024,     0.24124,     0.24224,     0.24324,     0.24424,     0.24525,     0.24625,     0.24725,     0.24825,     0.24925,     0.25025,     0.25125,     0.25225,     0.25325,     0.25425,     0.25526,     0.25626,     0.25726,     0.25826,     0.25926,     0.26026,     0.26126,     0.26226,     0.26326,\n",
              "           0.26426,     0.26527,     0.26627,     0.26727,     0.26827,     0.26927,     0.27027,     0.27127,     0.27227,     0.27327,     0.27427,     0.27528,     0.27628,     0.27728,     0.27828,     0.27928,     0.28028,     0.28128,     0.28228,     0.28328,     0.28428,     0.28529,     0.28629,     0.28729,\n",
              "           0.28829,     0.28929,     0.29029,     0.29129,     0.29229,     0.29329,     0.29429,      0.2953,      0.2963,      0.2973,      0.2983,      0.2993,      0.3003,      0.3013,      0.3023,      0.3033,      0.3043,     0.30531,     0.30631,     0.30731,     0.30831,     0.30931,     0.31031,     0.31131,\n",
              "           0.31231,     0.31331,     0.31431,     0.31532,     0.31632,     0.31732,     0.31832,     0.31932,     0.32032,     0.32132,     0.32232,     0.32332,     0.32432,     0.32533,     0.32633,     0.32733,     0.32833,     0.32933,     0.33033,     0.33133,     0.33233,     0.33333,     0.33433,     0.33534,\n",
              "           0.33634,     0.33734,     0.33834,     0.33934,     0.34034,     0.34134,     0.34234,     0.34334,     0.34434,     0.34535,     0.34635,     0.34735,     0.34835,     0.34935,     0.35035,     0.35135,     0.35235,     0.35335,     0.35435,     0.35536,     0.35636,     0.35736,     0.35836,     0.35936,\n",
              "           0.36036,     0.36136,     0.36236,     0.36336,     0.36436,     0.36537,     0.36637,     0.36737,     0.36837,     0.36937,     0.37037,     0.37137,     0.37237,     0.37337,     0.37437,     0.37538,     0.37638,     0.37738,     0.37838,     0.37938,     0.38038,     0.38138,     0.38238,     0.38338,\n",
              "           0.38438,     0.38539,     0.38639,     0.38739,     0.38839,     0.38939,     0.39039,     0.39139,     0.39239,     0.39339,     0.39439,      0.3954,      0.3964,      0.3974,      0.3984,      0.3994,      0.4004,      0.4014,      0.4024,      0.4034,      0.4044,     0.40541,     0.40641,     0.40741,\n",
              "           0.40841,     0.40941,     0.41041,     0.41141,     0.41241,     0.41341,     0.41441,     0.41542,     0.41642,     0.41742,     0.41842,     0.41942,     0.42042,     0.42142,     0.42242,     0.42342,     0.42442,     0.42543,     0.42643,     0.42743,     0.42843,     0.42943,     0.43043,     0.43143,\n",
              "           0.43243,     0.43343,     0.43443,     0.43544,     0.43644,     0.43744,     0.43844,     0.43944,     0.44044,     0.44144,     0.44244,     0.44344,     0.44444,     0.44545,     0.44645,     0.44745,     0.44845,     0.44945,     0.45045,     0.45145,     0.45245,     0.45345,     0.45445,     0.45546,\n",
              "           0.45646,     0.45746,     0.45846,     0.45946,     0.46046,     0.46146,     0.46246,     0.46346,     0.46446,     0.46547,     0.46647,     0.46747,     0.46847,     0.46947,     0.47047,     0.47147,     0.47247,     0.47347,     0.47447,     0.47548,     0.47648,     0.47748,     0.47848,     0.47948,\n",
              "           0.48048,     0.48148,     0.48248,     0.48348,     0.48448,     0.48549,     0.48649,     0.48749,     0.48849,     0.48949,     0.49049,     0.49149,     0.49249,     0.49349,     0.49449,      0.4955,      0.4965,      0.4975,      0.4985,      0.4995,      0.5005,      0.5015,      0.5025,      0.5035,\n",
              "            0.5045,     0.50551,     0.50651,     0.50751,     0.50851,     0.50951,     0.51051,     0.51151,     0.51251,     0.51351,     0.51451,     0.51552,     0.51652,     0.51752,     0.51852,     0.51952,     0.52052,     0.52152,     0.52252,     0.52352,     0.52452,     0.52553,     0.52653,     0.52753,\n",
              "           0.52853,     0.52953,     0.53053,     0.53153,     0.53253,     0.53353,     0.53453,     0.53554,     0.53654,     0.53754,     0.53854,     0.53954,     0.54054,     0.54154,     0.54254,     0.54354,     0.54454,     0.54555,     0.54655,     0.54755,     0.54855,     0.54955,     0.55055,     0.55155,\n",
              "           0.55255,     0.55355,     0.55455,     0.55556,     0.55656,     0.55756,     0.55856,     0.55956,     0.56056,     0.56156,     0.56256,     0.56356,     0.56456,     0.56557,     0.56657,     0.56757,     0.56857,     0.56957,     0.57057,     0.57157,     0.57257,     0.57357,     0.57457,     0.57558,\n",
              "           0.57658,     0.57758,     0.57858,     0.57958,     0.58058,     0.58158,     0.58258,     0.58358,     0.58458,     0.58559,     0.58659,     0.58759,     0.58859,     0.58959,     0.59059,     0.59159,     0.59259,     0.59359,     0.59459,      0.5956,      0.5966,      0.5976,      0.5986,      0.5996,\n",
              "            0.6006,      0.6016,      0.6026,      0.6036,      0.6046,     0.60561,     0.60661,     0.60761,     0.60861,     0.60961,     0.61061,     0.61161,     0.61261,     0.61361,     0.61461,     0.61562,     0.61662,     0.61762,     0.61862,     0.61962,     0.62062,     0.62162,     0.62262,     0.62362,\n",
              "           0.62462,     0.62563,     0.62663,     0.62763,     0.62863,     0.62963,     0.63063,     0.63163,     0.63263,     0.63363,     0.63463,     0.63564,     0.63664,     0.63764,     0.63864,     0.63964,     0.64064,     0.64164,     0.64264,     0.64364,     0.64464,     0.64565,     0.64665,     0.64765,\n",
              "           0.64865,     0.64965,     0.65065,     0.65165,     0.65265,     0.65365,     0.65465,     0.65566,     0.65666,     0.65766,     0.65866,     0.65966,     0.66066,     0.66166,     0.66266,     0.66366,     0.66466,     0.66567,     0.66667,     0.66767,     0.66867,     0.66967,     0.67067,     0.67167,\n",
              "           0.67267,     0.67367,     0.67467,     0.67568,     0.67668,     0.67768,     0.67868,     0.67968,     0.68068,     0.68168,     0.68268,     0.68368,     0.68468,     0.68569,     0.68669,     0.68769,     0.68869,     0.68969,     0.69069,     0.69169,     0.69269,     0.69369,     0.69469,      0.6957,\n",
              "            0.6967,      0.6977,      0.6987,      0.6997,      0.7007,      0.7017,      0.7027,      0.7037,      0.7047,     0.70571,     0.70671,     0.70771,     0.70871,     0.70971,     0.71071,     0.71171,     0.71271,     0.71371,     0.71471,     0.71572,     0.71672,     0.71772,     0.71872,     0.71972,\n",
              "           0.72072,     0.72172,     0.72272,     0.72372,     0.72472,     0.72573,     0.72673,     0.72773,     0.72873,     0.72973,     0.73073,     0.73173,     0.73273,     0.73373,     0.73473,     0.73574,     0.73674,     0.73774,     0.73874,     0.73974,     0.74074,     0.74174,     0.74274,     0.74374,\n",
              "           0.74474,     0.74575,     0.74675,     0.74775,     0.74875,     0.74975,     0.75075,     0.75175,     0.75275,     0.75375,     0.75475,     0.75576,     0.75676,     0.75776,     0.75876,     0.75976,     0.76076,     0.76176,     0.76276,     0.76376,     0.76476,     0.76577,     0.76677,     0.76777,\n",
              "           0.76877,     0.76977,     0.77077,     0.77177,     0.77277,     0.77377,     0.77477,     0.77578,     0.77678,     0.77778,     0.77878,     0.77978,     0.78078,     0.78178,     0.78278,     0.78378,     0.78478,     0.78579,     0.78679,     0.78779,     0.78879,     0.78979,     0.79079,     0.79179,\n",
              "           0.79279,     0.79379,     0.79479,      0.7958,      0.7968,      0.7978,      0.7988,      0.7998,      0.8008,      0.8018,      0.8028,      0.8038,      0.8048,     0.80581,     0.80681,     0.80781,     0.80881,     0.80981,     0.81081,     0.81181,     0.81281,     0.81381,     0.81481,     0.81582,\n",
              "           0.81682,     0.81782,     0.81882,     0.81982,     0.82082,     0.82182,     0.82282,     0.82382,     0.82482,     0.82583,     0.82683,     0.82783,     0.82883,     0.82983,     0.83083,     0.83183,     0.83283,     0.83383,     0.83483,     0.83584,     0.83684,     0.83784,     0.83884,     0.83984,\n",
              "           0.84084,     0.84184,     0.84284,     0.84384,     0.84484,     0.84585,     0.84685,     0.84785,     0.84885,     0.84985,     0.85085,     0.85185,     0.85285,     0.85385,     0.85485,     0.85586,     0.85686,     0.85786,     0.85886,     0.85986,     0.86086,     0.86186,     0.86286,     0.86386,\n",
              "           0.86486,     0.86587,     0.86687,     0.86787,     0.86887,     0.86987,     0.87087,     0.87187,     0.87287,     0.87387,     0.87487,     0.87588,     0.87688,     0.87788,     0.87888,     0.87988,     0.88088,     0.88188,     0.88288,     0.88388,     0.88488,     0.88589,     0.88689,     0.88789,\n",
              "           0.88889,     0.88989,     0.89089,     0.89189,     0.89289,     0.89389,     0.89489,      0.8959,      0.8969,      0.8979,      0.8989,      0.8999,      0.9009,      0.9019,      0.9029,      0.9039,      0.9049,     0.90591,     0.90691,     0.90791,     0.90891,     0.90991,     0.91091,     0.91191,\n",
              "           0.91291,     0.91391,     0.91491,     0.91592,     0.91692,     0.91792,     0.91892,     0.91992,     0.92092,     0.92192,     0.92292,     0.92392,     0.92492,     0.92593,     0.92693,     0.92793,     0.92893,     0.92993,     0.93093,     0.93193,     0.93293,     0.93393,     0.93493,     0.93594,\n",
              "           0.93694,     0.93794,     0.93894,     0.93994,     0.94094,     0.94194,     0.94294,     0.94394,     0.94494,     0.94595,     0.94695,     0.94795,     0.94895,     0.94995,     0.95095,     0.95195,     0.95295,     0.95395,     0.95495,     0.95596,     0.95696,     0.95796,     0.95896,     0.95996,\n",
              "           0.96096,     0.96196,     0.96296,     0.96396,     0.96496,     0.96597,     0.96697,     0.96797,     0.96897,     0.96997,     0.97097,     0.97197,     0.97297,     0.97397,     0.97497,     0.97598,     0.97698,     0.97798,     0.97898,     0.97998,     0.98098,     0.98198,     0.98298,     0.98398,\n",
              "           0.98498,     0.98599,     0.98699,     0.98799,     0.98899,     0.98999,     0.99099,     0.99199,     0.99299,     0.99399,     0.99499,       0.996,       0.997,       0.998,       0.999,           1]), array([[   0.092937,    0.092937,     0.20975, ...,           1,           1,           1],\n",
              "       [    0.12899,     0.12899,     0.29618, ...,           1,           1,           1]]), 'Confidence', 'Precision'], [array([          0,    0.001001,    0.002002,    0.003003,    0.004004,    0.005005,    0.006006,    0.007007,    0.008008,    0.009009,     0.01001,    0.011011,    0.012012,    0.013013,    0.014014,    0.015015,    0.016016,    0.017017,    0.018018,    0.019019,     0.02002,    0.021021,    0.022022,    0.023023,\n",
              "          0.024024,    0.025025,    0.026026,    0.027027,    0.028028,    0.029029,     0.03003,    0.031031,    0.032032,    0.033033,    0.034034,    0.035035,    0.036036,    0.037037,    0.038038,    0.039039,     0.04004,    0.041041,    0.042042,    0.043043,    0.044044,    0.045045,    0.046046,    0.047047,\n",
              "          0.048048,    0.049049,     0.05005,    0.051051,    0.052052,    0.053053,    0.054054,    0.055055,    0.056056,    0.057057,    0.058058,    0.059059,     0.06006,    0.061061,    0.062062,    0.063063,    0.064064,    0.065065,    0.066066,    0.067067,    0.068068,    0.069069,     0.07007,    0.071071,\n",
              "          0.072072,    0.073073,    0.074074,    0.075075,    0.076076,    0.077077,    0.078078,    0.079079,     0.08008,    0.081081,    0.082082,    0.083083,    0.084084,    0.085085,    0.086086,    0.087087,    0.088088,    0.089089,     0.09009,    0.091091,    0.092092,    0.093093,    0.094094,    0.095095,\n",
              "          0.096096,    0.097097,    0.098098,    0.099099,      0.1001,      0.1011,      0.1021,      0.1031,      0.1041,     0.10511,     0.10611,     0.10711,     0.10811,     0.10911,     0.11011,     0.11111,     0.11211,     0.11311,     0.11411,     0.11512,     0.11612,     0.11712,     0.11812,     0.11912,\n",
              "           0.12012,     0.12112,     0.12212,     0.12312,     0.12412,     0.12513,     0.12613,     0.12713,     0.12813,     0.12913,     0.13013,     0.13113,     0.13213,     0.13313,     0.13413,     0.13514,     0.13614,     0.13714,     0.13814,     0.13914,     0.14014,     0.14114,     0.14214,     0.14314,\n",
              "           0.14414,     0.14515,     0.14615,     0.14715,     0.14815,     0.14915,     0.15015,     0.15115,     0.15215,     0.15315,     0.15415,     0.15516,     0.15616,     0.15716,     0.15816,     0.15916,     0.16016,     0.16116,     0.16216,     0.16316,     0.16416,     0.16517,     0.16617,     0.16717,\n",
              "           0.16817,     0.16917,     0.17017,     0.17117,     0.17217,     0.17317,     0.17417,     0.17518,     0.17618,     0.17718,     0.17818,     0.17918,     0.18018,     0.18118,     0.18218,     0.18318,     0.18418,     0.18519,     0.18619,     0.18719,     0.18819,     0.18919,     0.19019,     0.19119,\n",
              "           0.19219,     0.19319,     0.19419,      0.1952,      0.1962,      0.1972,      0.1982,      0.1992,      0.2002,      0.2012,      0.2022,      0.2032,      0.2042,     0.20521,     0.20621,     0.20721,     0.20821,     0.20921,     0.21021,     0.21121,     0.21221,     0.21321,     0.21421,     0.21522,\n",
              "           0.21622,     0.21722,     0.21822,     0.21922,     0.22022,     0.22122,     0.22222,     0.22322,     0.22422,     0.22523,     0.22623,     0.22723,     0.22823,     0.22923,     0.23023,     0.23123,     0.23223,     0.23323,     0.23423,     0.23524,     0.23624,     0.23724,     0.23824,     0.23924,\n",
              "           0.24024,     0.24124,     0.24224,     0.24324,     0.24424,     0.24525,     0.24625,     0.24725,     0.24825,     0.24925,     0.25025,     0.25125,     0.25225,     0.25325,     0.25425,     0.25526,     0.25626,     0.25726,     0.25826,     0.25926,     0.26026,     0.26126,     0.26226,     0.26326,\n",
              "           0.26426,     0.26527,     0.26627,     0.26727,     0.26827,     0.26927,     0.27027,     0.27127,     0.27227,     0.27327,     0.27427,     0.27528,     0.27628,     0.27728,     0.27828,     0.27928,     0.28028,     0.28128,     0.28228,     0.28328,     0.28428,     0.28529,     0.28629,     0.28729,\n",
              "           0.28829,     0.28929,     0.29029,     0.29129,     0.29229,     0.29329,     0.29429,      0.2953,      0.2963,      0.2973,      0.2983,      0.2993,      0.3003,      0.3013,      0.3023,      0.3033,      0.3043,     0.30531,     0.30631,     0.30731,     0.30831,     0.30931,     0.31031,     0.31131,\n",
              "           0.31231,     0.31331,     0.31431,     0.31532,     0.31632,     0.31732,     0.31832,     0.31932,     0.32032,     0.32132,     0.32232,     0.32332,     0.32432,     0.32533,     0.32633,     0.32733,     0.32833,     0.32933,     0.33033,     0.33133,     0.33233,     0.33333,     0.33433,     0.33534,\n",
              "           0.33634,     0.33734,     0.33834,     0.33934,     0.34034,     0.34134,     0.34234,     0.34334,     0.34434,     0.34535,     0.34635,     0.34735,     0.34835,     0.34935,     0.35035,     0.35135,     0.35235,     0.35335,     0.35435,     0.35536,     0.35636,     0.35736,     0.35836,     0.35936,\n",
              "           0.36036,     0.36136,     0.36236,     0.36336,     0.36436,     0.36537,     0.36637,     0.36737,     0.36837,     0.36937,     0.37037,     0.37137,     0.37237,     0.37337,     0.37437,     0.37538,     0.37638,     0.37738,     0.37838,     0.37938,     0.38038,     0.38138,     0.38238,     0.38338,\n",
              "           0.38438,     0.38539,     0.38639,     0.38739,     0.38839,     0.38939,     0.39039,     0.39139,     0.39239,     0.39339,     0.39439,      0.3954,      0.3964,      0.3974,      0.3984,      0.3994,      0.4004,      0.4014,      0.4024,      0.4034,      0.4044,     0.40541,     0.40641,     0.40741,\n",
              "           0.40841,     0.40941,     0.41041,     0.41141,     0.41241,     0.41341,     0.41441,     0.41542,     0.41642,     0.41742,     0.41842,     0.41942,     0.42042,     0.42142,     0.42242,     0.42342,     0.42442,     0.42543,     0.42643,     0.42743,     0.42843,     0.42943,     0.43043,     0.43143,\n",
              "           0.43243,     0.43343,     0.43443,     0.43544,     0.43644,     0.43744,     0.43844,     0.43944,     0.44044,     0.44144,     0.44244,     0.44344,     0.44444,     0.44545,     0.44645,     0.44745,     0.44845,     0.44945,     0.45045,     0.45145,     0.45245,     0.45345,     0.45445,     0.45546,\n",
              "           0.45646,     0.45746,     0.45846,     0.45946,     0.46046,     0.46146,     0.46246,     0.46346,     0.46446,     0.46547,     0.46647,     0.46747,     0.46847,     0.46947,     0.47047,     0.47147,     0.47247,     0.47347,     0.47447,     0.47548,     0.47648,     0.47748,     0.47848,     0.47948,\n",
              "           0.48048,     0.48148,     0.48248,     0.48348,     0.48448,     0.48549,     0.48649,     0.48749,     0.48849,     0.48949,     0.49049,     0.49149,     0.49249,     0.49349,     0.49449,      0.4955,      0.4965,      0.4975,      0.4985,      0.4995,      0.5005,      0.5015,      0.5025,      0.5035,\n",
              "            0.5045,     0.50551,     0.50651,     0.50751,     0.50851,     0.50951,     0.51051,     0.51151,     0.51251,     0.51351,     0.51451,     0.51552,     0.51652,     0.51752,     0.51852,     0.51952,     0.52052,     0.52152,     0.52252,     0.52352,     0.52452,     0.52553,     0.52653,     0.52753,\n",
              "           0.52853,     0.52953,     0.53053,     0.53153,     0.53253,     0.53353,     0.53453,     0.53554,     0.53654,     0.53754,     0.53854,     0.53954,     0.54054,     0.54154,     0.54254,     0.54354,     0.54454,     0.54555,     0.54655,     0.54755,     0.54855,     0.54955,     0.55055,     0.55155,\n",
              "           0.55255,     0.55355,     0.55455,     0.55556,     0.55656,     0.55756,     0.55856,     0.55956,     0.56056,     0.56156,     0.56256,     0.56356,     0.56456,     0.56557,     0.56657,     0.56757,     0.56857,     0.56957,     0.57057,     0.57157,     0.57257,     0.57357,     0.57457,     0.57558,\n",
              "           0.57658,     0.57758,     0.57858,     0.57958,     0.58058,     0.58158,     0.58258,     0.58358,     0.58458,     0.58559,     0.58659,     0.58759,     0.58859,     0.58959,     0.59059,     0.59159,     0.59259,     0.59359,     0.59459,      0.5956,      0.5966,      0.5976,      0.5986,      0.5996,\n",
              "            0.6006,      0.6016,      0.6026,      0.6036,      0.6046,     0.60561,     0.60661,     0.60761,     0.60861,     0.60961,     0.61061,     0.61161,     0.61261,     0.61361,     0.61461,     0.61562,     0.61662,     0.61762,     0.61862,     0.61962,     0.62062,     0.62162,     0.62262,     0.62362,\n",
              "           0.62462,     0.62563,     0.62663,     0.62763,     0.62863,     0.62963,     0.63063,     0.63163,     0.63263,     0.63363,     0.63463,     0.63564,     0.63664,     0.63764,     0.63864,     0.63964,     0.64064,     0.64164,     0.64264,     0.64364,     0.64464,     0.64565,     0.64665,     0.64765,\n",
              "           0.64865,     0.64965,     0.65065,     0.65165,     0.65265,     0.65365,     0.65465,     0.65566,     0.65666,     0.65766,     0.65866,     0.65966,     0.66066,     0.66166,     0.66266,     0.66366,     0.66466,     0.66567,     0.66667,     0.66767,     0.66867,     0.66967,     0.67067,     0.67167,\n",
              "           0.67267,     0.67367,     0.67467,     0.67568,     0.67668,     0.67768,     0.67868,     0.67968,     0.68068,     0.68168,     0.68268,     0.68368,     0.68468,     0.68569,     0.68669,     0.68769,     0.68869,     0.68969,     0.69069,     0.69169,     0.69269,     0.69369,     0.69469,      0.6957,\n",
              "            0.6967,      0.6977,      0.6987,      0.6997,      0.7007,      0.7017,      0.7027,      0.7037,      0.7047,     0.70571,     0.70671,     0.70771,     0.70871,     0.70971,     0.71071,     0.71171,     0.71271,     0.71371,     0.71471,     0.71572,     0.71672,     0.71772,     0.71872,     0.71972,\n",
              "           0.72072,     0.72172,     0.72272,     0.72372,     0.72472,     0.72573,     0.72673,     0.72773,     0.72873,     0.72973,     0.73073,     0.73173,     0.73273,     0.73373,     0.73473,     0.73574,     0.73674,     0.73774,     0.73874,     0.73974,     0.74074,     0.74174,     0.74274,     0.74374,\n",
              "           0.74474,     0.74575,     0.74675,     0.74775,     0.74875,     0.74975,     0.75075,     0.75175,     0.75275,     0.75375,     0.75475,     0.75576,     0.75676,     0.75776,     0.75876,     0.75976,     0.76076,     0.76176,     0.76276,     0.76376,     0.76476,     0.76577,     0.76677,     0.76777,\n",
              "           0.76877,     0.76977,     0.77077,     0.77177,     0.77277,     0.77377,     0.77477,     0.77578,     0.77678,     0.77778,     0.77878,     0.77978,     0.78078,     0.78178,     0.78278,     0.78378,     0.78478,     0.78579,     0.78679,     0.78779,     0.78879,     0.78979,     0.79079,     0.79179,\n",
              "           0.79279,     0.79379,     0.79479,      0.7958,      0.7968,      0.7978,      0.7988,      0.7998,      0.8008,      0.8018,      0.8028,      0.8038,      0.8048,     0.80581,     0.80681,     0.80781,     0.80881,     0.80981,     0.81081,     0.81181,     0.81281,     0.81381,     0.81481,     0.81582,\n",
              "           0.81682,     0.81782,     0.81882,     0.81982,     0.82082,     0.82182,     0.82282,     0.82382,     0.82482,     0.82583,     0.82683,     0.82783,     0.82883,     0.82983,     0.83083,     0.83183,     0.83283,     0.83383,     0.83483,     0.83584,     0.83684,     0.83784,     0.83884,     0.83984,\n",
              "           0.84084,     0.84184,     0.84284,     0.84384,     0.84484,     0.84585,     0.84685,     0.84785,     0.84885,     0.84985,     0.85085,     0.85185,     0.85285,     0.85385,     0.85485,     0.85586,     0.85686,     0.85786,     0.85886,     0.85986,     0.86086,     0.86186,     0.86286,     0.86386,\n",
              "           0.86486,     0.86587,     0.86687,     0.86787,     0.86887,     0.86987,     0.87087,     0.87187,     0.87287,     0.87387,     0.87487,     0.87588,     0.87688,     0.87788,     0.87888,     0.87988,     0.88088,     0.88188,     0.88288,     0.88388,     0.88488,     0.88589,     0.88689,     0.88789,\n",
              "           0.88889,     0.88989,     0.89089,     0.89189,     0.89289,     0.89389,     0.89489,      0.8959,      0.8969,      0.8979,      0.8989,      0.8999,      0.9009,      0.9019,      0.9029,      0.9039,      0.9049,     0.90591,     0.90691,     0.90791,     0.90891,     0.90991,     0.91091,     0.91191,\n",
              "           0.91291,     0.91391,     0.91491,     0.91592,     0.91692,     0.91792,     0.91892,     0.91992,     0.92092,     0.92192,     0.92292,     0.92392,     0.92492,     0.92593,     0.92693,     0.92793,     0.92893,     0.92993,     0.93093,     0.93193,     0.93293,     0.93393,     0.93493,     0.93594,\n",
              "           0.93694,     0.93794,     0.93894,     0.93994,     0.94094,     0.94194,     0.94294,     0.94394,     0.94494,     0.94595,     0.94695,     0.94795,     0.94895,     0.94995,     0.95095,     0.95195,     0.95295,     0.95395,     0.95495,     0.95596,     0.95696,     0.95796,     0.95896,     0.95996,\n",
              "           0.96096,     0.96196,     0.96296,     0.96396,     0.96496,     0.96597,     0.96697,     0.96797,     0.96897,     0.96997,     0.97097,     0.97197,     0.97297,     0.97397,     0.97497,     0.97598,     0.97698,     0.97798,     0.97898,     0.97998,     0.98098,     0.98198,     0.98298,     0.98398,\n",
              "           0.98498,     0.98599,     0.98699,     0.98799,     0.98899,     0.98999,     0.99099,     0.99199,     0.99299,     0.99399,     0.99499,       0.996,       0.997,       0.998,       0.999,           1]), array([[          1,           1,           1, ...,           0,           0,           0],\n",
              "       [          1,           1,           1, ...,           0,           0,           0]]), 'Confidence', 'Recall']]\n",
              "fitness: np.float64(0.9802049863086433)\n",
              "keys: ['metrics/precision(B)', 'metrics/recall(B)', 'metrics/mAP50(B)', 'metrics/mAP50-95(B)']\n",
              "maps: array([     0.9707,     0.98961])\n",
              "names: {0: 'ga', 1: 'vit'}\n",
              "nt_per_class: array([275, 622])\n",
              "nt_per_image: array([275, 622])\n",
              "results_dict: {'metrics/precision(B)': np.float64(0.9485455575083783), 'metrics/recall(B)': np.float64(0.9231560265322323), 'metrics/mAP50(B)': np.float64(0.9806373597794634), 'metrics/mAP50-95(B)': np.float64(0.9801569448118854), 'fitness': np.float64(0.9802049863086433)}\n",
              "speed: {'preprocess': 0.23931697435914548, 'inference': 2.2122151672233117, 'loss': 0.0008564202887781038, 'postprocess': 1.7204840947602231}\n",
              "stats: {'tp': [], 'conf': [], 'pred_cls': [], 'target_cls': [], 'target_img': []}\n",
              "task: 'detect'"
            ]
          },
          "metadata": {},
          "execution_count": 7
        }
      ]
    },
    {
      "cell_type": "code",
      "source": [
        "#DEBUG\n",
        "import os\n",
        "\n",
        "img_dir = \"yolo_dataset/images/train\"\n",
        "img_files = os.listdir(img_dir)\n",
        "\n",
        "print(f\"Tìm thấy {len(img_files)} ảnh:\")\n",
        "for f in img_files[:10]:  # In 10 ảnh đầu\n",
        "    print(f)\n"
      ],
      "metadata": {
        "colab": {
          "base_uri": "https://localhost:8080/"
        },
        "id": "JBzedJn6nJ_y",
        "outputId": "e3cf6dcc-95c2-4461-d42f-f2619e22689f"
      },
      "execution_count": null,
      "outputs": [
        {
          "output_type": "stream",
          "name": "stdout",
          "text": [
            "Tìm thấy 897 ảnh:\n",
            "CWQXNWMOKPPM.jpg\n",
            "VB89J3XGRLAI.jpg\n",
            "VQUWFQCYOIA9.jpg\n",
            "UH6E0GKBZVRA.jpg\n",
            "ID31FJWWL1D2.jpg\n",
            "181JYXDMUPD6.jpg\n",
            "2IMS9RKCLNV2.jpg\n",
            "2KTMQDH6RR20.jpg\n",
            "EK8L85YS42U7.jpg\n",
            "JYTVF6MF54PZ.jpg\n"
          ]
        }
      ]
    },
    {
      "cell_type": "code",
      "source": [
        "#TẢI MÔ HÌNH ĐÃ TRAIN XONG\n",
        "from ultralytics import YOLO\n",
        "\n",
        "# Đường dẫn đến mô hình đã huấn luyện (nếu train trước đó thì file nằm trong thư mục này)\n",
        "model = YOLO(\"/content/runs/detect/chickenduck_model/weights/best.pt\")\n"
      ],
      "metadata": {
        "id": "ICCxbu4Saa_p"
      },
      "execution_count": null,
      "outputs": []
    },
    {
      "cell_type": "code",
      "source": [
        "#DỰ ĐOÁN 1 ẢNH\n",
        "#TEST CON GÀ\n",
        "results = model.predict(\"/content/chicken_duck_dataset/chicken-images-classification-dataset/data/chicken-images/data/test/0U5DJ4AHL7U8.jpg\", save=True)\n"
      ],
      "metadata": {
        "colab": {
          "base_uri": "https://localhost:8080/"
        },
        "id": "QBIQq7q5aeS4",
        "outputId": "abb2187e-017e-4bb1-f9bd-9d63123837c1"
      },
      "execution_count": null,
      "outputs": [
        {
          "output_type": "stream",
          "name": "stdout",
          "text": [
            "\n",
            "image 1/1 /content/chicken_duck_dataset/chicken-images-classification-dataset/data/chicken-images/data/test/0U5DJ4AHL7U8.jpg: 640x640 1 ga, 8.4ms\n",
            "Speed: 3.1ms preprocess, 8.4ms inference, 3.1ms postprocess per image at shape (1, 3, 640, 640)\n",
            "Results saved to \u001b[1mruns/detect/predict\u001b[0m\n"
          ]
        }
      ]
    },
    {
      "cell_type": "code",
      "source": [
        "#DỰ ĐOÁN 1 ẢNH\n",
        "#TEST CON VỊT\n",
        "results = model.predict(\"//content/chicken_duck_dataset/chicken-images-classification-dataset/data/duck-images/data/test/032IOU434AXB.jpg\", save=True)\n"
      ],
      "metadata": {
        "colab": {
          "base_uri": "https://localhost:8080/"
        },
        "id": "HLPBtCLja9zm",
        "outputId": "11e72537-10cc-421e-fd94-1fc105ce9179"
      },
      "execution_count": null,
      "outputs": [
        {
          "output_type": "stream",
          "name": "stdout",
          "text": [
            "\n",
            "image 1/1 //content/chicken_duck_dataset/chicken-images-classification-dataset/data/duck-images/data/test/032IOU434AXB.jpg: 640x640 1 vit, 11.0ms\n",
            "Speed: 5.3ms preprocess, 11.0ms inference, 1.6ms postprocess per image at shape (1, 3, 640, 640)\n",
            "Results saved to \u001b[1mruns/detect/predict\u001b[0m\n"
          ]
        }
      ]
    },
    {
      "cell_type": "code",
      "source": [
        "\n",
        "#DỰ ĐOÁN VIDEO\n",
        "#TEST CON VỊT\n",
        "results = model.predict(\"/content/gavit-video-test.mp4\", save=True)\n"
      ],
      "metadata": {
        "colab": {
          "base_uri": "https://localhost:8080/"
        },
        "id": "yV1NnZD97guf",
        "outputId": "37d29142-bc1c-4d06-e1e1-b829576f6e0f"
      },
      "execution_count": null,
      "outputs": [
        {
          "output_type": "stream",
          "name": "stdout",
          "text": [
            "\n",
            "WARNING ⚠️ \n",
            "inference results will accumulate in RAM unless `stream=True` is passed, causing potential out-of-memory\n",
            "errors for large sources or long-running streams and videos. See https://docs.ultralytics.com/modes/predict/ for help.\n",
            "\n",
            "Example:\n",
            "    results = model(source=..., stream=True)  # generator of Results objects\n",
            "    for r in results:\n",
            "        boxes = r.boxes  # Boxes object for bbox outputs\n",
            "        masks = r.masks  # Masks object for segment masks outputs\n",
            "        probs = r.probs  # Class probabilities for classification outputs\n",
            "\n",
            "video 1/1 (frame 1/408) /content/gavit-video-test.mp4: 384x640 1 ga, 57.1ms\n",
            "video 1/1 (frame 2/408) /content/gavit-video-test.mp4: 384x640 1 ga, 10.8ms\n",
            "video 1/1 (frame 3/408) /content/gavit-video-test.mp4: 384x640 1 ga, 1 vit, 12.6ms\n",
            "video 1/1 (frame 4/408) /content/gavit-video-test.mp4: 384x640 1 ga, 10.5ms\n",
            "video 1/1 (frame 5/408) /content/gavit-video-test.mp4: 384x640 1 ga, 11.8ms\n",
            "video 1/1 (frame 6/408) /content/gavit-video-test.mp4: 384x640 (no detections), 19.9ms\n",
            "video 1/1 (frame 7/408) /content/gavit-video-test.mp4: 384x640 1 ga, 10.1ms\n",
            "video 1/1 (frame 8/408) /content/gavit-video-test.mp4: 384x640 1 ga, 8.4ms\n",
            "video 1/1 (frame 9/408) /content/gavit-video-test.mp4: 384x640 1 ga, 8.4ms\n",
            "video 1/1 (frame 10/408) /content/gavit-video-test.mp4: 384x640 (no detections), 8.6ms\n",
            "video 1/1 (frame 11/408) /content/gavit-video-test.mp4: 384x640 (no detections), 8.0ms\n",
            "video 1/1 (frame 12/408) /content/gavit-video-test.mp4: 384x640 (no detections), 8.3ms\n",
            "video 1/1 (frame 13/408) /content/gavit-video-test.mp4: 384x640 (no detections), 8.4ms\n",
            "video 1/1 (frame 14/408) /content/gavit-video-test.mp4: 384x640 (no detections), 8.3ms\n",
            "video 1/1 (frame 15/408) /content/gavit-video-test.mp4: 384x640 (no detections), 8.3ms\n",
            "video 1/1 (frame 16/408) /content/gavit-video-test.mp4: 384x640 1 ga, 8.1ms\n",
            "video 1/1 (frame 17/408) /content/gavit-video-test.mp4: 384x640 1 ga, 10.8ms\n",
            "video 1/1 (frame 18/408) /content/gavit-video-test.mp4: 384x640 1 ga, 15.0ms\n",
            "video 1/1 (frame 19/408) /content/gavit-video-test.mp4: 384x640 (no detections), 11.1ms\n",
            "video 1/1 (frame 20/408) /content/gavit-video-test.mp4: 384x640 1 ga, 8.1ms\n",
            "video 1/1 (frame 21/408) /content/gavit-video-test.mp4: 384x640 (no detections), 8.1ms\n",
            "video 1/1 (frame 22/408) /content/gavit-video-test.mp4: 384x640 (no detections), 8.1ms\n",
            "video 1/1 (frame 23/408) /content/gavit-video-test.mp4: 384x640 (no detections), 8.2ms\n",
            "video 1/1 (frame 24/408) /content/gavit-video-test.mp4: 384x640 (no detections), 7.7ms\n",
            "video 1/1 (frame 25/408) /content/gavit-video-test.mp4: 384x640 (no detections), 8.0ms\n",
            "video 1/1 (frame 26/408) /content/gavit-video-test.mp4: 384x640 (no detections), 7.6ms\n",
            "video 1/1 (frame 27/408) /content/gavit-video-test.mp4: 384x640 (no detections), 7.5ms\n",
            "video 1/1 (frame 28/408) /content/gavit-video-test.mp4: 384x640 (no detections), 7.8ms\n",
            "video 1/1 (frame 29/408) /content/gavit-video-test.mp4: 384x640 (no detections), 8.1ms\n",
            "video 1/1 (frame 30/408) /content/gavit-video-test.mp4: 384x640 (no detections), 8.1ms\n",
            "video 1/1 (frame 31/408) /content/gavit-video-test.mp4: 384x640 (no detections), 7.7ms\n",
            "video 1/1 (frame 32/408) /content/gavit-video-test.mp4: 384x640 (no detections), 11.2ms\n",
            "video 1/1 (frame 33/408) /content/gavit-video-test.mp4: 384x640 (no detections), 9.9ms\n",
            "video 1/1 (frame 34/408) /content/gavit-video-test.mp4: 384x640 (no detections), 13.7ms\n",
            "video 1/1 (frame 35/408) /content/gavit-video-test.mp4: 384x640 (no detections), 11.9ms\n",
            "video 1/1 (frame 36/408) /content/gavit-video-test.mp4: 384x640 (no detections), 9.2ms\n",
            "video 1/1 (frame 37/408) /content/gavit-video-test.mp4: 384x640 (no detections), 9.2ms\n",
            "video 1/1 (frame 38/408) /content/gavit-video-test.mp4: 384x640 (no detections), 11.6ms\n",
            "video 1/1 (frame 39/408) /content/gavit-video-test.mp4: 384x640 (no detections), 11.8ms\n",
            "video 1/1 (frame 40/408) /content/gavit-video-test.mp4: 384x640 (no detections), 12.9ms\n",
            "video 1/1 (frame 41/408) /content/gavit-video-test.mp4: 384x640 1 ga, 11.7ms\n",
            "video 1/1 (frame 42/408) /content/gavit-video-test.mp4: 384x640 1 ga, 13.6ms\n",
            "video 1/1 (frame 43/408) /content/gavit-video-test.mp4: 384x640 1 ga, 15.6ms\n",
            "video 1/1 (frame 44/408) /content/gavit-video-test.mp4: 384x640 1 ga, 9.1ms\n",
            "video 1/1 (frame 45/408) /content/gavit-video-test.mp4: 384x640 2 gas, 10.0ms\n",
            "video 1/1 (frame 46/408) /content/gavit-video-test.mp4: 384x640 1 ga, 9.6ms\n",
            "video 1/1 (frame 47/408) /content/gavit-video-test.mp4: 384x640 2 gas, 1 vit, 9.4ms\n",
            "video 1/1 (frame 48/408) /content/gavit-video-test.mp4: 384x640 1 ga, 8.8ms\n",
            "video 1/1 (frame 49/408) /content/gavit-video-test.mp4: 384x640 1 ga, 9.9ms\n",
            "video 1/1 (frame 50/408) /content/gavit-video-test.mp4: 384x640 1 ga, 8.6ms\n",
            "video 1/1 (frame 51/408) /content/gavit-video-test.mp4: 384x640 1 ga, 8.5ms\n",
            "video 1/1 (frame 52/408) /content/gavit-video-test.mp4: 384x640 1 ga, 9.5ms\n",
            "video 1/1 (frame 53/408) /content/gavit-video-test.mp4: 384x640 1 ga, 8.7ms\n",
            "video 1/1 (frame 54/408) /content/gavit-video-test.mp4: 384x640 1 ga, 10.8ms\n",
            "video 1/1 (frame 55/408) /content/gavit-video-test.mp4: 384x640 1 ga, 9.0ms\n",
            "video 1/1 (frame 56/408) /content/gavit-video-test.mp4: 384x640 1 ga, 9.9ms\n",
            "video 1/1 (frame 57/408) /content/gavit-video-test.mp4: 384x640 1 ga, 9.3ms\n",
            "video 1/1 (frame 58/408) /content/gavit-video-test.mp4: 384x640 1 ga, 8.6ms\n",
            "video 1/1 (frame 59/408) /content/gavit-video-test.mp4: 384x640 1 ga, 8.1ms\n",
            "video 1/1 (frame 60/408) /content/gavit-video-test.mp4: 384x640 1 ga, 8.5ms\n",
            "video 1/1 (frame 61/408) /content/gavit-video-test.mp4: 384x640 (no detections), 8.9ms\n",
            "video 1/1 (frame 62/408) /content/gavit-video-test.mp4: 384x640 1 ga, 8.8ms\n",
            "video 1/1 (frame 63/408) /content/gavit-video-test.mp4: 384x640 1 ga, 8.4ms\n",
            "video 1/1 (frame 64/408) /content/gavit-video-test.mp4: 384x640 1 ga, 9.6ms\n",
            "video 1/1 (frame 65/408) /content/gavit-video-test.mp4: 384x640 1 ga, 11.1ms\n",
            "video 1/1 (frame 66/408) /content/gavit-video-test.mp4: 384x640 1 ga, 9.9ms\n",
            "video 1/1 (frame 67/408) /content/gavit-video-test.mp4: 384x640 1 ga, 8.3ms\n",
            "video 1/1 (frame 68/408) /content/gavit-video-test.mp4: 384x640 1 ga, 8.5ms\n",
            "video 1/1 (frame 69/408) /content/gavit-video-test.mp4: 384x640 1 ga, 10.4ms\n",
            "video 1/1 (frame 70/408) /content/gavit-video-test.mp4: 384x640 1 ga, 7.6ms\n",
            "video 1/1 (frame 71/408) /content/gavit-video-test.mp4: 384x640 1 ga, 7.5ms\n",
            "video 1/1 (frame 72/408) /content/gavit-video-test.mp4: 384x640 1 ga, 7.5ms\n",
            "video 1/1 (frame 73/408) /content/gavit-video-test.mp4: 384x640 1 ga, 7.9ms\n",
            "video 1/1 (frame 74/408) /content/gavit-video-test.mp4: 384x640 1 ga, 7.9ms\n",
            "video 1/1 (frame 75/408) /content/gavit-video-test.mp4: 384x640 1 ga, 7.8ms\n",
            "video 1/1 (frame 76/408) /content/gavit-video-test.mp4: 384x640 1 ga, 10.9ms\n",
            "video 1/1 (frame 77/408) /content/gavit-video-test.mp4: 384x640 1 ga, 8.1ms\n",
            "video 1/1 (frame 78/408) /content/gavit-video-test.mp4: 384x640 1 ga, 8.0ms\n",
            "video 1/1 (frame 79/408) /content/gavit-video-test.mp4: 384x640 1 ga, 8.2ms\n",
            "video 1/1 (frame 80/408) /content/gavit-video-test.mp4: 384x640 (no detections), 8.7ms\n",
            "video 1/1 (frame 81/408) /content/gavit-video-test.mp4: 384x640 1 ga, 8.0ms\n",
            "video 1/1 (frame 82/408) /content/gavit-video-test.mp4: 384x640 1 ga, 8.5ms\n",
            "video 1/1 (frame 83/408) /content/gavit-video-test.mp4: 384x640 1 ga, 9.6ms\n",
            "video 1/1 (frame 84/408) /content/gavit-video-test.mp4: 384x640 1 ga, 8.8ms\n",
            "video 1/1 (frame 85/408) /content/gavit-video-test.mp4: 384x640 1 ga, 9.3ms\n",
            "video 1/1 (frame 86/408) /content/gavit-video-test.mp4: 384x640 1 ga, 8.1ms\n",
            "video 1/1 (frame 87/408) /content/gavit-video-test.mp4: 384x640 1 ga, 8.0ms\n",
            "video 1/1 (frame 88/408) /content/gavit-video-test.mp4: 384x640 (no detections), 10.2ms\n",
            "video 1/1 (frame 89/408) /content/gavit-video-test.mp4: 384x640 (no detections), 13.8ms\n",
            "video 1/1 (frame 90/408) /content/gavit-video-test.mp4: 384x640 (no detections), 13.5ms\n",
            "video 1/1 (frame 91/408) /content/gavit-video-test.mp4: 384x640 (no detections), 11.4ms\n",
            "video 1/1 (frame 92/408) /content/gavit-video-test.mp4: 384x640 (no detections), 11.3ms\n",
            "video 1/1 (frame 93/408) /content/gavit-video-test.mp4: 384x640 (no detections), 9.1ms\n",
            "video 1/1 (frame 94/408) /content/gavit-video-test.mp4: 384x640 (no detections), 12.7ms\n",
            "video 1/1 (frame 95/408) /content/gavit-video-test.mp4: 384x640 (no detections), 8.0ms\n",
            "video 1/1 (frame 96/408) /content/gavit-video-test.mp4: 384x640 (no detections), 8.5ms\n",
            "video 1/1 (frame 97/408) /content/gavit-video-test.mp4: 384x640 (no detections), 9.7ms\n",
            "video 1/1 (frame 98/408) /content/gavit-video-test.mp4: 384x640 (no detections), 16.0ms\n",
            "video 1/1 (frame 99/408) /content/gavit-video-test.mp4: 384x640 (no detections), 14.0ms\n",
            "video 1/1 (frame 100/408) /content/gavit-video-test.mp4: 384x640 (no detections), 14.2ms\n",
            "video 1/1 (frame 101/408) /content/gavit-video-test.mp4: 384x640 (no detections), 8.6ms\n",
            "video 1/1 (frame 102/408) /content/gavit-video-test.mp4: 384x640 (no detections), 12.9ms\n",
            "video 1/1 (frame 103/408) /content/gavit-video-test.mp4: 384x640 (no detections), 8.6ms\n",
            "video 1/1 (frame 104/408) /content/gavit-video-test.mp4: 384x640 (no detections), 11.2ms\n",
            "video 1/1 (frame 105/408) /content/gavit-video-test.mp4: 384x640 (no detections), 9.8ms\n",
            "video 1/1 (frame 106/408) /content/gavit-video-test.mp4: 384x640 (no detections), 12.0ms\n",
            "video 1/1 (frame 107/408) /content/gavit-video-test.mp4: 384x640 (no detections), 11.8ms\n",
            "video 1/1 (frame 108/408) /content/gavit-video-test.mp4: 384x640 (no detections), 13.0ms\n",
            "video 1/1 (frame 109/408) /content/gavit-video-test.mp4: 384x640 (no detections), 12.0ms\n",
            "video 1/1 (frame 110/408) /content/gavit-video-test.mp4: 384x640 (no detections), 14.1ms\n",
            "video 1/1 (frame 111/408) /content/gavit-video-test.mp4: 384x640 (no detections), 14.7ms\n",
            "video 1/1 (frame 112/408) /content/gavit-video-test.mp4: 384x640 1 ga, 11.9ms\n",
            "video 1/1 (frame 113/408) /content/gavit-video-test.mp4: 384x640 1 ga, 12.5ms\n",
            "video 1/1 (frame 114/408) /content/gavit-video-test.mp4: 384x640 1 ga, 8.2ms\n",
            "video 1/1 (frame 115/408) /content/gavit-video-test.mp4: 384x640 1 ga, 7.9ms\n",
            "video 1/1 (frame 116/408) /content/gavit-video-test.mp4: 384x640 1 ga, 6.5ms\n",
            "video 1/1 (frame 117/408) /content/gavit-video-test.mp4: 384x640 1 ga, 9.2ms\n",
            "video 1/1 (frame 118/408) /content/gavit-video-test.mp4: 384x640 1 ga, 6.6ms\n",
            "video 1/1 (frame 119/408) /content/gavit-video-test.mp4: 384x640 1 ga, 12.8ms\n",
            "video 1/1 (frame 120/408) /content/gavit-video-test.mp4: 384x640 1 ga, 7.0ms\n",
            "video 1/1 (frame 121/408) /content/gavit-video-test.mp4: 384x640 (no detections), 8.7ms\n",
            "video 1/1 (frame 122/408) /content/gavit-video-test.mp4: 384x640 (no detections), 7.1ms\n",
            "video 1/1 (frame 123/408) /content/gavit-video-test.mp4: 384x640 (no detections), 6.7ms\n",
            "video 1/1 (frame 124/408) /content/gavit-video-test.mp4: 384x640 (no detections), 6.6ms\n",
            "video 1/1 (frame 125/408) /content/gavit-video-test.mp4: 384x640 (no detections), 7.2ms\n",
            "video 1/1 (frame 126/408) /content/gavit-video-test.mp4: 384x640 (no detections), 9.7ms\n",
            "video 1/1 (frame 127/408) /content/gavit-video-test.mp4: 384x640 (no detections), 6.9ms\n",
            "video 1/1 (frame 128/408) /content/gavit-video-test.mp4: 384x640 (no detections), 6.8ms\n",
            "video 1/1 (frame 129/408) /content/gavit-video-test.mp4: 384x640 (no detections), 7.5ms\n",
            "video 1/1 (frame 130/408) /content/gavit-video-test.mp4: 384x640 1 ga, 6.5ms\n",
            "video 1/1 (frame 131/408) /content/gavit-video-test.mp4: 384x640 1 ga, 7.5ms\n",
            "video 1/1 (frame 132/408) /content/gavit-video-test.mp4: 384x640 (no detections), 6.5ms\n",
            "video 1/1 (frame 133/408) /content/gavit-video-test.mp4: 384x640 (no detections), 6.6ms\n",
            "video 1/1 (frame 134/408) /content/gavit-video-test.mp4: 384x640 (no detections), 7.7ms\n",
            "video 1/1 (frame 135/408) /content/gavit-video-test.mp4: 384x640 (no detections), 6.9ms\n",
            "video 1/1 (frame 136/408) /content/gavit-video-test.mp4: 384x640 (no detections), 7.2ms\n",
            "video 1/1 (frame 137/408) /content/gavit-video-test.mp4: 384x640 (no detections), 6.9ms\n",
            "video 1/1 (frame 138/408) /content/gavit-video-test.mp4: 384x640 (no detections), 8.9ms\n",
            "video 1/1 (frame 139/408) /content/gavit-video-test.mp4: 384x640 (no detections), 7.5ms\n",
            "video 1/1 (frame 140/408) /content/gavit-video-test.mp4: 384x640 (no detections), 7.0ms\n",
            "video 1/1 (frame 141/408) /content/gavit-video-test.mp4: 384x640 1 ga, 9.6ms\n",
            "video 1/1 (frame 142/408) /content/gavit-video-test.mp4: 384x640 1 ga, 6.4ms\n",
            "video 1/1 (frame 143/408) /content/gavit-video-test.mp4: 384x640 1 ga, 6.8ms\n",
            "video 1/1 (frame 144/408) /content/gavit-video-test.mp4: 384x640 (no detections), 6.6ms\n",
            "video 1/1 (frame 145/408) /content/gavit-video-test.mp4: 384x640 1 ga, 7.9ms\n",
            "video 1/1 (frame 146/408) /content/gavit-video-test.mp4: 384x640 1 ga, 6.2ms\n",
            "video 1/1 (frame 147/408) /content/gavit-video-test.mp4: 384x640 (no detections), 8.0ms\n",
            "video 1/1 (frame 148/408) /content/gavit-video-test.mp4: 384x640 (no detections), 6.6ms\n",
            "video 1/1 (frame 149/408) /content/gavit-video-test.mp4: 384x640 (no detections), 7.5ms\n",
            "video 1/1 (frame 150/408) /content/gavit-video-test.mp4: 384x640 (no detections), 6.4ms\n",
            "video 1/1 (frame 151/408) /content/gavit-video-test.mp4: 384x640 (no detections), 7.0ms\n",
            "video 1/1 (frame 152/408) /content/gavit-video-test.mp4: 384x640 (no detections), 6.9ms\n",
            "video 1/1 (frame 153/408) /content/gavit-video-test.mp4: 384x640 (no detections), 7.7ms\n",
            "video 1/1 (frame 154/408) /content/gavit-video-test.mp4: 384x640 (no detections), 7.0ms\n",
            "video 1/1 (frame 155/408) /content/gavit-video-test.mp4: 384x640 (no detections), 6.6ms\n",
            "video 1/1 (frame 156/408) /content/gavit-video-test.mp4: 384x640 (no detections), 8.1ms\n",
            "video 1/1 (frame 157/408) /content/gavit-video-test.mp4: 384x640 (no detections), 6.9ms\n",
            "video 1/1 (frame 158/408) /content/gavit-video-test.mp4: 384x640 (no detections), 7.2ms\n",
            "video 1/1 (frame 159/408) /content/gavit-video-test.mp4: 384x640 (no detections), 6.7ms\n",
            "video 1/1 (frame 160/408) /content/gavit-video-test.mp4: 384x640 (no detections), 8.3ms\n",
            "video 1/1 (frame 161/408) /content/gavit-video-test.mp4: 384x640 (no detections), 7.7ms\n",
            "video 1/1 (frame 162/408) /content/gavit-video-test.mp4: 384x640 (no detections), 9.8ms\n",
            "video 1/1 (frame 163/408) /content/gavit-video-test.mp4: 384x640 (no detections), 6.7ms\n",
            "video 1/1 (frame 164/408) /content/gavit-video-test.mp4: 384x640 (no detections), 7.6ms\n",
            "video 1/1 (frame 165/408) /content/gavit-video-test.mp4: 384x640 (no detections), 7.6ms\n",
            "video 1/1 (frame 166/408) /content/gavit-video-test.mp4: 384x640 (no detections), 6.5ms\n",
            "video 1/1 (frame 167/408) /content/gavit-video-test.mp4: 384x640 (no detections), 8.4ms\n",
            "video 1/1 (frame 168/408) /content/gavit-video-test.mp4: 384x640 (no detections), 6.5ms\n",
            "video 1/1 (frame 169/408) /content/gavit-video-test.mp4: 384x640 (no detections), 7.2ms\n",
            "video 1/1 (frame 170/408) /content/gavit-video-test.mp4: 384x640 (no detections), 6.4ms\n",
            "video 1/1 (frame 171/408) /content/gavit-video-test.mp4: 384x640 (no detections), 13.5ms\n",
            "video 1/1 (frame 172/408) /content/gavit-video-test.mp4: 384x640 (no detections), 6.6ms\n",
            "video 1/1 (frame 173/408) /content/gavit-video-test.mp4: 384x640 (no detections), 9.3ms\n",
            "video 1/1 (frame 174/408) /content/gavit-video-test.mp4: 384x640 (no detections), 8.2ms\n",
            "video 1/1 (frame 175/408) /content/gavit-video-test.mp4: 384x640 (no detections), 7.8ms\n",
            "video 1/1 (frame 176/408) /content/gavit-video-test.mp4: 384x640 (no detections), 6.6ms\n",
            "video 1/1 (frame 177/408) /content/gavit-video-test.mp4: 384x640 (no detections), 8.7ms\n",
            "video 1/1 (frame 178/408) /content/gavit-video-test.mp4: 384x640 1 ga, 6.5ms\n",
            "video 1/1 (frame 179/408) /content/gavit-video-test.mp4: 384x640 (no detections), 7.8ms\n",
            "video 1/1 (frame 180/408) /content/gavit-video-test.mp4: 384x640 (no detections), 6.3ms\n",
            "video 1/1 (frame 181/408) /content/gavit-video-test.mp4: 384x640 1 ga, 7.7ms\n",
            "video 1/1 (frame 182/408) /content/gavit-video-test.mp4: 384x640 (no detections), 6.3ms\n",
            "video 1/1 (frame 183/408) /content/gavit-video-test.mp4: 384x640 (no detections), 8.0ms\n",
            "video 1/1 (frame 184/408) /content/gavit-video-test.mp4: 384x640 (no detections), 6.4ms\n",
            "video 1/1 (frame 185/408) /content/gavit-video-test.mp4: 384x640 (no detections), 6.8ms\n",
            "video 1/1 (frame 186/408) /content/gavit-video-test.mp4: 384x640 (no detections), 7.9ms\n",
            "video 1/1 (frame 187/408) /content/gavit-video-test.mp4: 384x640 (no detections), 6.3ms\n",
            "video 1/1 (frame 188/408) /content/gavit-video-test.mp4: 384x640 (no detections), 6.4ms\n",
            "video 1/1 (frame 189/408) /content/gavit-video-test.mp4: 384x640 (no detections), 6.6ms\n",
            "video 1/1 (frame 190/408) /content/gavit-video-test.mp4: 384x640 (no detections), 7.5ms\n",
            "video 1/1 (frame 191/408) /content/gavit-video-test.mp4: 384x640 (no detections), 6.8ms\n",
            "video 1/1 (frame 192/408) /content/gavit-video-test.mp4: 384x640 (no detections), 7.0ms\n",
            "video 1/1 (frame 193/408) /content/gavit-video-test.mp4: 384x640 (no detections), 6.4ms\n",
            "video 1/1 (frame 194/408) /content/gavit-video-test.mp4: 384x640 (no detections), 7.9ms\n",
            "video 1/1 (frame 195/408) /content/gavit-video-test.mp4: 384x640 (no detections), 6.3ms\n",
            "video 1/1 (frame 196/408) /content/gavit-video-test.mp4: 384x640 (no detections), 6.5ms\n",
            "video 1/1 (frame 197/408) /content/gavit-video-test.mp4: 384x640 (no detections), 6.6ms\n",
            "video 1/1 (frame 198/408) /content/gavit-video-test.mp4: 384x640 (no detections), 8.1ms\n",
            "video 1/1 (frame 199/408) /content/gavit-video-test.mp4: 384x640 (no detections), 6.1ms\n",
            "video 1/1 (frame 200/408) /content/gavit-video-test.mp4: 384x640 (no detections), 8.1ms\n",
            "video 1/1 (frame 201/408) /content/gavit-video-test.mp4: 384x640 (no detections), 6.7ms\n",
            "video 1/1 (frame 202/408) /content/gavit-video-test.mp4: 384x640 (no detections), 7.2ms\n",
            "video 1/1 (frame 203/408) /content/gavit-video-test.mp4: 384x640 (no detections), 7.1ms\n",
            "video 1/1 (frame 204/408) /content/gavit-video-test.mp4: 384x640 (no detections), 6.7ms\n",
            "video 1/1 (frame 205/408) /content/gavit-video-test.mp4: 384x640 (no detections), 7.2ms\n",
            "video 1/1 (frame 206/408) /content/gavit-video-test.mp4: 384x640 (no detections), 6.7ms\n",
            "video 1/1 (frame 207/408) /content/gavit-video-test.mp4: 384x640 (no detections), 8.4ms\n",
            "video 1/1 (frame 208/408) /content/gavit-video-test.mp4: 384x640 (no detections), 6.7ms\n",
            "video 1/1 (frame 209/408) /content/gavit-video-test.mp4: 384x640 (no detections), 8.0ms\n",
            "video 1/1 (frame 210/408) /content/gavit-video-test.mp4: 384x640 1 vit, 6.8ms\n",
            "video 1/1 (frame 211/408) /content/gavit-video-test.mp4: 384x640 (no detections), 7.2ms\n",
            "video 1/1 (frame 212/408) /content/gavit-video-test.mp4: 384x640 (no detections), 6.3ms\n",
            "video 1/1 (frame 213/408) /content/gavit-video-test.mp4: 384x640 (no detections), 9.2ms\n",
            "video 1/1 (frame 214/408) /content/gavit-video-test.mp4: 384x640 (no detections), 6.7ms\n",
            "video 1/1 (frame 215/408) /content/gavit-video-test.mp4: 384x640 (no detections), 8.7ms\n",
            "video 1/1 (frame 216/408) /content/gavit-video-test.mp4: 384x640 (no detections), 6.8ms\n",
            "video 1/1 (frame 217/408) /content/gavit-video-test.mp4: 384x640 (no detections), 8.6ms\n",
            "video 1/1 (frame 218/408) /content/gavit-video-test.mp4: 384x640 (no detections), 6.6ms\n",
            "video 1/1 (frame 219/408) /content/gavit-video-test.mp4: 384x640 (no detections), 6.8ms\n",
            "video 1/1 (frame 220/408) /content/gavit-video-test.mp4: 384x640 (no detections), 6.8ms\n",
            "video 1/1 (frame 221/408) /content/gavit-video-test.mp4: 384x640 (no detections), 8.3ms\n",
            "video 1/1 (frame 222/408) /content/gavit-video-test.mp4: 384x640 (no detections), 6.7ms\n",
            "video 1/1 (frame 223/408) /content/gavit-video-test.mp4: 384x640 (no detections), 15.2ms\n",
            "video 1/1 (frame 224/408) /content/gavit-video-test.mp4: 384x640 (no detections), 6.6ms\n",
            "video 1/1 (frame 225/408) /content/gavit-video-test.mp4: 384x640 1 ga, 2 vits, 6.8ms\n",
            "video 1/1 (frame 226/408) /content/gavit-video-test.mp4: 384x640 (no detections), 8.3ms\n",
            "video 1/1 (frame 227/408) /content/gavit-video-test.mp4: 384x640 (no detections), 8.2ms\n",
            "video 1/1 (frame 228/408) /content/gavit-video-test.mp4: 384x640 1 ga, 6.4ms\n",
            "video 1/1 (frame 229/408) /content/gavit-video-test.mp4: 384x640 1 ga, 6.7ms\n",
            "video 1/1 (frame 230/408) /content/gavit-video-test.mp4: 384x640 1 ga, 6.4ms\n",
            "video 1/1 (frame 231/408) /content/gavit-video-test.mp4: 384x640 1 ga, 6.3ms\n",
            "video 1/1 (frame 232/408) /content/gavit-video-test.mp4: 384x640 1 ga, 7.4ms\n",
            "video 1/1 (frame 233/408) /content/gavit-video-test.mp4: 384x640 1 ga, 6.4ms\n",
            "video 1/1 (frame 234/408) /content/gavit-video-test.mp4: 384x640 1 ga, 6.4ms\n",
            "video 1/1 (frame 235/408) /content/gavit-video-test.mp4: 384x640 (no detections), 6.4ms\n",
            "video 1/1 (frame 236/408) /content/gavit-video-test.mp4: 384x640 1 ga, 7.5ms\n",
            "video 1/1 (frame 237/408) /content/gavit-video-test.mp4: 384x640 (no detections), 6.4ms\n",
            "video 1/1 (frame 238/408) /content/gavit-video-test.mp4: 384x640 1 ga, 7.0ms\n",
            "video 1/1 (frame 239/408) /content/gavit-video-test.mp4: 384x640 1 ga, 2 vits, 7.6ms\n",
            "video 1/1 (frame 240/408) /content/gavit-video-test.mp4: 384x640 (no detections), 6.5ms\n",
            "video 1/1 (frame 241/408) /content/gavit-video-test.mp4: 384x640 (no detections), 7.8ms\n",
            "video 1/1 (frame 242/408) /content/gavit-video-test.mp4: 384x640 (no detections), 6.8ms\n",
            "video 1/1 (frame 243/408) /content/gavit-video-test.mp4: 384x640 (no detections), 6.7ms\n",
            "video 1/1 (frame 244/408) /content/gavit-video-test.mp4: 384x640 (no detections), 7.7ms\n",
            "video 1/1 (frame 245/408) /content/gavit-video-test.mp4: 384x640 (no detections), 6.5ms\n",
            "video 1/1 (frame 246/408) /content/gavit-video-test.mp4: 384x640 (no detections), 6.5ms\n",
            "video 1/1 (frame 247/408) /content/gavit-video-test.mp4: 384x640 (no detections), 6.4ms\n",
            "video 1/1 (frame 248/408) /content/gavit-video-test.mp4: 384x640 (no detections), 9.1ms\n",
            "video 1/1 (frame 249/408) /content/gavit-video-test.mp4: 384x640 (no detections), 6.7ms\n",
            "video 1/1 (frame 250/408) /content/gavit-video-test.mp4: 384x640 (no detections), 6.7ms\n",
            "video 1/1 (frame 251/408) /content/gavit-video-test.mp4: 384x640 1 ga, 6.7ms\n",
            "video 1/1 (frame 252/408) /content/gavit-video-test.mp4: 384x640 1 ga, 9.6ms\n",
            "video 1/1 (frame 253/408) /content/gavit-video-test.mp4: 384x640 (no detections), 7.4ms\n",
            "video 1/1 (frame 254/408) /content/gavit-video-test.mp4: 384x640 (no detections), 6.8ms\n",
            "video 1/1 (frame 255/408) /content/gavit-video-test.mp4: 384x640 (no detections), 6.2ms\n",
            "video 1/1 (frame 256/408) /content/gavit-video-test.mp4: 384x640 (no detections), 7.4ms\n",
            "video 1/1 (frame 257/408) /content/gavit-video-test.mp4: 384x640 (no detections), 7.8ms\n",
            "video 1/1 (frame 258/408) /content/gavit-video-test.mp4: 384x640 (no detections), 6.5ms\n",
            "video 1/1 (frame 259/408) /content/gavit-video-test.mp4: 384x640 (no detections), 6.4ms\n",
            "video 1/1 (frame 260/408) /content/gavit-video-test.mp4: 384x640 (no detections), 6.4ms\n",
            "video 1/1 (frame 261/408) /content/gavit-video-test.mp4: 384x640 (no detections), 7.8ms\n",
            "video 1/1 (frame 262/408) /content/gavit-video-test.mp4: 384x640 (no detections), 6.7ms\n",
            "video 1/1 (frame 263/408) /content/gavit-video-test.mp4: 384x640 (no detections), 6.6ms\n",
            "video 1/1 (frame 264/408) /content/gavit-video-test.mp4: 384x640 1 ga, 7.1ms\n",
            "video 1/1 (frame 265/408) /content/gavit-video-test.mp4: 384x640 (no detections), 8.0ms\n",
            "video 1/1 (frame 266/408) /content/gavit-video-test.mp4: 384x640 (no detections), 7.4ms\n",
            "video 1/1 (frame 267/408) /content/gavit-video-test.mp4: 384x640 (no detections), 8.2ms\n",
            "video 1/1 (frame 268/408) /content/gavit-video-test.mp4: 384x640 (no detections), 6.7ms\n",
            "video 1/1 (frame 269/408) /content/gavit-video-test.mp4: 384x640 (no detections), 7.9ms\n",
            "video 1/1 (frame 270/408) /content/gavit-video-test.mp4: 384x640 (no detections), 6.7ms\n",
            "video 1/1 (frame 271/408) /content/gavit-video-test.mp4: 384x640 (no detections), 7.3ms\n",
            "video 1/1 (frame 272/408) /content/gavit-video-test.mp4: 384x640 (no detections), 8.6ms\n",
            "video 1/1 (frame 273/408) /content/gavit-video-test.mp4: 384x640 1 ga, 2 vits, 6.7ms\n",
            "video 1/1 (frame 274/408) /content/gavit-video-test.mp4: 384x640 (no detections), 11.5ms\n",
            "video 1/1 (frame 275/408) /content/gavit-video-test.mp4: 384x640 (no detections), 6.8ms\n",
            "video 1/1 (frame 276/408) /content/gavit-video-test.mp4: 384x640 (no detections), 8.0ms\n",
            "video 1/1 (frame 277/408) /content/gavit-video-test.mp4: 384x640 (no detections), 7.8ms\n",
            "video 1/1 (frame 278/408) /content/gavit-video-test.mp4: 384x640 (no detections), 7.3ms\n",
            "video 1/1 (frame 279/408) /content/gavit-video-test.mp4: 384x640 1 ga, 6.2ms\n",
            "video 1/1 (frame 280/408) /content/gavit-video-test.mp4: 384x640 1 ga, 6.6ms\n",
            "video 1/1 (frame 281/408) /content/gavit-video-test.mp4: 384x640 1 ga, 6.8ms\n",
            "video 1/1 (frame 282/408) /content/gavit-video-test.mp4: 384x640 1 ga, 6.2ms\n",
            "video 1/1 (frame 283/408) /content/gavit-video-test.mp4: 384x640 (no detections), 7.0ms\n",
            "video 1/1 (frame 284/408) /content/gavit-video-test.mp4: 384x640 (no detections), 6.4ms\n",
            "video 1/1 (frame 285/408) /content/gavit-video-test.mp4: 384x640 (no detections), 6.5ms\n",
            "video 1/1 (frame 286/408) /content/gavit-video-test.mp4: 384x640 (no detections), 6.7ms\n",
            "video 1/1 (frame 287/408) /content/gavit-video-test.mp4: 384x640 (no detections), 6.9ms\n",
            "video 1/1 (frame 288/408) /content/gavit-video-test.mp4: 384x640 (no detections), 6.4ms\n",
            "video 1/1 (frame 289/408) /content/gavit-video-test.mp4: 384x640 (no detections), 6.6ms\n",
            "video 1/1 (frame 290/408) /content/gavit-video-test.mp4: 384x640 1 ga, 7.6ms\n",
            "video 1/1 (frame 291/408) /content/gavit-video-test.mp4: 384x640 1 ga, 6.7ms\n",
            "video 1/1 (frame 292/408) /content/gavit-video-test.mp4: 384x640 1 ga, 6.4ms\n",
            "video 1/1 (frame 293/408) /content/gavit-video-test.mp4: 384x640 1 ga, 6.5ms\n",
            "video 1/1 (frame 294/408) /content/gavit-video-test.mp4: 384x640 1 ga, 6.4ms\n",
            "video 1/1 (frame 295/408) /content/gavit-video-test.mp4: 384x640 (no detections), 6.4ms\n",
            "video 1/1 (frame 296/408) /content/gavit-video-test.mp4: 384x640 (no detections), 6.6ms\n",
            "video 1/1 (frame 297/408) /content/gavit-video-test.mp4: 384x640 1 ga, 7.3ms\n",
            "video 1/1 (frame 298/408) /content/gavit-video-test.mp4: 384x640 1 ga, 6.8ms\n",
            "video 1/1 (frame 299/408) /content/gavit-video-test.mp4: 384x640 1 ga, 7.0ms\n",
            "video 1/1 (frame 300/408) /content/gavit-video-test.mp4: 384x640 1 ga, 6.5ms\n",
            "video 1/1 (frame 301/408) /content/gavit-video-test.mp4: 384x640 1 ga, 1 vit, 6.6ms\n",
            "video 1/1 (frame 302/408) /content/gavit-video-test.mp4: 384x640 1 ga, 1 vit, 6.3ms\n",
            "video 1/1 (frame 303/408) /content/gavit-video-test.mp4: 384x640 1 ga, 1 vit, 7.4ms\n",
            "video 1/1 (frame 304/408) /content/gavit-video-test.mp4: 384x640 1 ga, 1 vit, 6.2ms\n",
            "video 1/1 (frame 305/408) /content/gavit-video-test.mp4: 384x640 1 ga, 1 vit, 7.9ms\n",
            "video 1/1 (frame 306/408) /content/gavit-video-test.mp4: 384x640 1 ga, 6.5ms\n",
            "video 1/1 (frame 307/408) /content/gavit-video-test.mp4: 384x640 1 ga, 6.9ms\n",
            "video 1/1 (frame 308/408) /content/gavit-video-test.mp4: 384x640 (no detections), 6.5ms\n",
            "video 1/1 (frame 309/408) /content/gavit-video-test.mp4: 384x640 (no detections), 7.6ms\n",
            "video 1/1 (frame 310/408) /content/gavit-video-test.mp4: 384x640 (no detections), 7.6ms\n",
            "video 1/1 (frame 311/408) /content/gavit-video-test.mp4: 384x640 (no detections), 6.9ms\n",
            "video 1/1 (frame 312/408) /content/gavit-video-test.mp4: 384x640 1 ga, 6.3ms\n",
            "video 1/1 (frame 313/408) /content/gavit-video-test.mp4: 384x640 1 ga, 6.8ms\n",
            "video 1/1 (frame 314/408) /content/gavit-video-test.mp4: 384x640 (no detections), 7.5ms\n",
            "video 1/1 (frame 315/408) /content/gavit-video-test.mp4: 384x640 (no detections), 6.5ms\n",
            "video 1/1 (frame 316/408) /content/gavit-video-test.mp4: 384x640 (no detections), 8.8ms\n",
            "video 1/1 (frame 317/408) /content/gavit-video-test.mp4: 384x640 1 ga, 6.9ms\n",
            "video 1/1 (frame 318/408) /content/gavit-video-test.mp4: 384x640 (no detections), 6.4ms\n",
            "video 1/1 (frame 319/408) /content/gavit-video-test.mp4: 384x640 (no detections), 6.3ms\n",
            "video 1/1 (frame 320/408) /content/gavit-video-test.mp4: 384x640 (no detections), 6.7ms\n",
            "video 1/1 (frame 321/408) /content/gavit-video-test.mp4: 384x640 (no detections), 7.2ms\n",
            "video 1/1 (frame 322/408) /content/gavit-video-test.mp4: 384x640 1 ga, 6.2ms\n",
            "video 1/1 (frame 323/408) /content/gavit-video-test.mp4: 384x640 1 ga, 6.5ms\n",
            "video 1/1 (frame 324/408) /content/gavit-video-test.mp4: 384x640 (no detections), 7.6ms\n",
            "video 1/1 (frame 325/408) /content/gavit-video-test.mp4: 384x640 (no detections), 12.9ms\n",
            "video 1/1 (frame 326/408) /content/gavit-video-test.mp4: 384x640 (no detections), 11.1ms\n",
            "video 1/1 (frame 327/408) /content/gavit-video-test.mp4: 384x640 (no detections), 7.5ms\n",
            "video 1/1 (frame 328/408) /content/gavit-video-test.mp4: 384x640 (no detections), 8.4ms\n",
            "video 1/1 (frame 329/408) /content/gavit-video-test.mp4: 384x640 (no detections), 6.5ms\n",
            "video 1/1 (frame 330/408) /content/gavit-video-test.mp4: 384x640 (no detections), 6.4ms\n",
            "video 1/1 (frame 331/408) /content/gavit-video-test.mp4: 384x640 (no detections), 7.4ms\n",
            "video 1/1 (frame 332/408) /content/gavit-video-test.mp4: 384x640 (no detections), 6.1ms\n",
            "video 1/1 (frame 333/408) /content/gavit-video-test.mp4: 384x640 (no detections), 6.4ms\n",
            "video 1/1 (frame 334/408) /content/gavit-video-test.mp4: 384x640 (no detections), 6.1ms\n",
            "video 1/1 (frame 335/408) /content/gavit-video-test.mp4: 384x640 (no detections), 7.3ms\n",
            "video 1/1 (frame 336/408) /content/gavit-video-test.mp4: 384x640 (no detections), 6.6ms\n",
            "video 1/1 (frame 337/408) /content/gavit-video-test.mp4: 384x640 (no detections), 6.4ms\n",
            "video 1/1 (frame 338/408) /content/gavit-video-test.mp4: 384x640 (no detections), 6.2ms\n",
            "video 1/1 (frame 339/408) /content/gavit-video-test.mp4: 384x640 (no detections), 7.6ms\n",
            "video 1/1 (frame 340/408) /content/gavit-video-test.mp4: 384x640 (no detections), 6.3ms\n",
            "video 1/1 (frame 341/408) /content/gavit-video-test.mp4: 384x640 (no detections), 7.8ms\n",
            "video 1/1 (frame 342/408) /content/gavit-video-test.mp4: 384x640 (no detections), 7.7ms\n",
            "video 1/1 (frame 343/408) /content/gavit-video-test.mp4: 384x640 (no detections), 9.3ms\n",
            "video 1/1 (frame 344/408) /content/gavit-video-test.mp4: 384x640 (no detections), 6.6ms\n",
            "video 1/1 (frame 345/408) /content/gavit-video-test.mp4: 384x640 (no detections), 8.0ms\n",
            "video 1/1 (frame 346/408) /content/gavit-video-test.mp4: 384x640 (no detections), 6.6ms\n",
            "video 1/1 (frame 347/408) /content/gavit-video-test.mp4: 384x640 (no detections), 7.0ms\n",
            "video 1/1 (frame 348/408) /content/gavit-video-test.mp4: 384x640 (no detections), 6.7ms\n",
            "video 1/1 (frame 349/408) /content/gavit-video-test.mp4: 384x640 (no detections), 6.5ms\n",
            "video 1/1 (frame 350/408) /content/gavit-video-test.mp4: 384x640 (no detections), 6.4ms\n",
            "video 1/1 (frame 351/408) /content/gavit-video-test.mp4: 384x640 (no detections), 6.8ms\n",
            "video 1/1 (frame 352/408) /content/gavit-video-test.mp4: 384x640 (no detections), 6.6ms\n",
            "video 1/1 (frame 353/408) /content/gavit-video-test.mp4: 384x640 (no detections), 6.6ms\n",
            "video 1/1 (frame 354/408) /content/gavit-video-test.mp4: 384x640 (no detections), 6.6ms\n",
            "video 1/1 (frame 355/408) /content/gavit-video-test.mp4: 384x640 (no detections), 7.8ms\n",
            "video 1/1 (frame 356/408) /content/gavit-video-test.mp4: 384x640 (no detections), 8.3ms\n",
            "video 1/1 (frame 357/408) /content/gavit-video-test.mp4: 384x640 (no detections), 7.0ms\n",
            "video 1/1 (frame 358/408) /content/gavit-video-test.mp4: 384x640 (no detections), 6.5ms\n",
            "video 1/1 (frame 359/408) /content/gavit-video-test.mp4: 384x640 1 ga, 7.7ms\n",
            "video 1/1 (frame 360/408) /content/gavit-video-test.mp4: 384x640 (no detections), 6.5ms\n",
            "video 1/1 (frame 361/408) /content/gavit-video-test.mp4: 384x640 1 ga, 6.8ms\n",
            "video 1/1 (frame 362/408) /content/gavit-video-test.mp4: 384x640 1 ga, 6.3ms\n",
            "video 1/1 (frame 363/408) /content/gavit-video-test.mp4: 384x640 1 ga, 6.4ms\n",
            "video 1/1 (frame 364/408) /content/gavit-video-test.mp4: 384x640 1 ga, 7.5ms\n",
            "video 1/1 (frame 365/408) /content/gavit-video-test.mp4: 384x640 1 ga, 6.4ms\n",
            "video 1/1 (frame 366/408) /content/gavit-video-test.mp4: 384x640 1 ga, 6.7ms\n",
            "video 1/1 (frame 367/408) /content/gavit-video-test.mp4: 384x640 1 ga, 6.7ms\n",
            "video 1/1 (frame 368/408) /content/gavit-video-test.mp4: 384x640 1 ga, 8.5ms\n",
            "video 1/1 (frame 369/408) /content/gavit-video-test.mp4: 384x640 1 ga, 6.8ms\n",
            "video 1/1 (frame 370/408) /content/gavit-video-test.mp4: 384x640 (no detections), 6.7ms\n",
            "video 1/1 (frame 371/408) /content/gavit-video-test.mp4: 384x640 (no detections), 7.3ms\n",
            "video 1/1 (frame 372/408) /content/gavit-video-test.mp4: 384x640 1 ga, 6.6ms\n",
            "video 1/1 (frame 373/408) /content/gavit-video-test.mp4: 384x640 (no detections), 6.6ms\n",
            "video 1/1 (frame 374/408) /content/gavit-video-test.mp4: 384x640 (no detections), 6.4ms\n",
            "video 1/1 (frame 375/408) /content/gavit-video-test.mp4: 384x640 (no detections), 6.4ms\n",
            "video 1/1 (frame 376/408) /content/gavit-video-test.mp4: 384x640 1 ga, 2 vits, 8.5ms\n",
            "video 1/1 (frame 377/408) /content/gavit-video-test.mp4: 384x640 1 ga, 1 vit, 13.1ms\n",
            "video 1/1 (frame 378/408) /content/gavit-video-test.mp4: 384x640 1 ga, 1 vit, 7.0ms\n",
            "video 1/1 (frame 379/408) /content/gavit-video-test.mp4: 384x640 1 ga, 1 vit, 6.4ms\n",
            "video 1/1 (frame 380/408) /content/gavit-video-test.mp4: 384x640 1 ga, 2 vits, 8.1ms\n",
            "video 1/1 (frame 381/408) /content/gavit-video-test.mp4: 384x640 1 ga, 6.2ms\n",
            "video 1/1 (frame 382/408) /content/gavit-video-test.mp4: 384x640 1 ga, 7.0ms\n",
            "video 1/1 (frame 383/408) /content/gavit-video-test.mp4: 384x640 1 ga, 6.1ms\n",
            "video 1/1 (frame 384/408) /content/gavit-video-test.mp4: 384x640 1 ga, 11.2ms\n",
            "video 1/1 (frame 385/408) /content/gavit-video-test.mp4: 384x640 (no detections), 6.3ms\n",
            "video 1/1 (frame 386/408) /content/gavit-video-test.mp4: 384x640 (no detections), 6.4ms\n",
            "video 1/1 (frame 387/408) /content/gavit-video-test.mp4: 384x640 (no detections), 6.6ms\n",
            "video 1/1 (frame 388/408) /content/gavit-video-test.mp4: 384x640 (no detections), 6.4ms\n",
            "video 1/1 (frame 389/408) /content/gavit-video-test.mp4: 384x640 (no detections), 6.2ms\n",
            "video 1/1 (frame 390/408) /content/gavit-video-test.mp4: 384x640 (no detections), 7.6ms\n",
            "video 1/1 (frame 391/408) /content/gavit-video-test.mp4: 384x640 (no detections), 6.3ms\n",
            "video 1/1 (frame 392/408) /content/gavit-video-test.mp4: 384x640 (no detections), 6.4ms\n",
            "video 1/1 (frame 393/408) /content/gavit-video-test.mp4: 384x640 (no detections), 7.6ms\n",
            "video 1/1 (frame 394/408) /content/gavit-video-test.mp4: 384x640 (no detections), 7.3ms\n",
            "video 1/1 (frame 395/408) /content/gavit-video-test.mp4: 384x640 (no detections), 6.2ms\n",
            "video 1/1 (frame 396/408) /content/gavit-video-test.mp4: 384x640 (no detections), 6.3ms\n",
            "video 1/1 (frame 397/408) /content/gavit-video-test.mp4: 384x640 (no detections), 6.8ms\n",
            "video 1/1 (frame 398/408) /content/gavit-video-test.mp4: 384x640 (no detections), 9.2ms\n",
            "video 1/1 (frame 399/408) /content/gavit-video-test.mp4: 384x640 1 ga, 6.4ms\n",
            "video 1/1 (frame 400/408) /content/gavit-video-test.mp4: 384x640 1 ga, 11.6ms\n",
            "video 1/1 (frame 401/408) /content/gavit-video-test.mp4: 384x640 1 ga, 2 vits, 9.3ms\n",
            "video 1/1 (frame 402/408) /content/gavit-video-test.mp4: 384x640 1 ga, 2 vits, 7.3ms\n",
            "video 1/1 (frame 403/408) /content/gavit-video-test.mp4: 384x640 1 ga, 2 vits, 7.5ms\n",
            "video 1/1 (frame 404/408) /content/gavit-video-test.mp4: 384x640 1 ga, 2 vits, 6.5ms\n",
            "video 1/1 (frame 405/408) /content/gavit-video-test.mp4: 384x640 1 ga, 2 vits, 8.4ms\n",
            "video 1/1 (frame 406/408) /content/gavit-video-test.mp4: 384x640 1 ga, 1 vit, 7.6ms\n",
            "video 1/1 (frame 407/408) /content/gavit-video-test.mp4: 384x640 1 ga, 1 vit, 6.4ms\n",
            "video 1/1 (frame 408/408) /content/gavit-video-test.mp4: 384x640 1 ga, 1 vit, 7.8ms\n",
            "Speed: 2.6ms preprocess, 8.1ms inference, 1.1ms postprocess per image at shape (1, 3, 384, 640)\n",
            "Results saved to \u001b[1mruns/detect/predict\u001b[0m\n"
          ]
        }
      ]
    },
    {
      "cell_type": "code",
      "source": [
        "\n",
        "\n",
        "#DỰ ĐOÁN VIDEO\n",
        "#TEST CON VỊT\n",
        "results = model.predict(\"/content/istockphoto-2207004307-640_adpp_is.mp4\", save=True)\n"
      ],
      "metadata": {
        "colab": {
          "base_uri": "https://localhost:8080/"
        },
        "id": "b9_GBjIX8m34",
        "outputId": "690a77fa-9b35-42f1-f538-18acb7cfe121"
      },
      "execution_count": null,
      "outputs": [
        {
          "output_type": "stream",
          "name": "stdout",
          "text": [
            "\n",
            "WARNING ⚠️ \n",
            "inference results will accumulate in RAM unless `stream=True` is passed, causing potential out-of-memory\n",
            "errors for large sources or long-running streams and videos. See https://docs.ultralytics.com/modes/predict/ for help.\n",
            "\n",
            "Example:\n",
            "    results = model(source=..., stream=True)  # generator of Results objects\n",
            "    for r in results:\n",
            "        boxes = r.boxes  # Boxes object for bbox outputs\n",
            "        masks = r.masks  # Masks object for segment masks outputs\n",
            "        probs = r.probs  # Class probabilities for classification outputs\n",
            "\n",
            "video 1/1 (frame 1/540) /content/istockphoto-2207004307-640_adpp_is.mp4: 384x640 (no detections), 10.1ms\n",
            "video 1/1 (frame 2/540) /content/istockphoto-2207004307-640_adpp_is.mp4: 384x640 (no detections), 6.9ms\n",
            "video 1/1 (frame 3/540) /content/istockphoto-2207004307-640_adpp_is.mp4: 384x640 (no detections), 6.9ms\n",
            "video 1/1 (frame 4/540) /content/istockphoto-2207004307-640_adpp_is.mp4: 384x640 (no detections), 6.5ms\n",
            "video 1/1 (frame 5/540) /content/istockphoto-2207004307-640_adpp_is.mp4: 384x640 (no detections), 6.6ms\n",
            "video 1/1 (frame 6/540) /content/istockphoto-2207004307-640_adpp_is.mp4: 384x640 (no detections), 8.0ms\n",
            "video 1/1 (frame 7/540) /content/istockphoto-2207004307-640_adpp_is.mp4: 384x640 (no detections), 6.4ms\n",
            "video 1/1 (frame 8/540) /content/istockphoto-2207004307-640_adpp_is.mp4: 384x640 (no detections), 6.6ms\n",
            "video 1/1 (frame 9/540) /content/istockphoto-2207004307-640_adpp_is.mp4: 384x640 (no detections), 6.6ms\n",
            "video 1/1 (frame 10/540) /content/istockphoto-2207004307-640_adpp_is.mp4: 384x640 (no detections), 6.6ms\n",
            "video 1/1 (frame 11/540) /content/istockphoto-2207004307-640_adpp_is.mp4: 384x640 (no detections), 7.2ms\n",
            "video 1/1 (frame 12/540) /content/istockphoto-2207004307-640_adpp_is.mp4: 384x640 (no detections), 9.1ms\n",
            "video 1/1 (frame 13/540) /content/istockphoto-2207004307-640_adpp_is.mp4: 384x640 (no detections), 7.4ms\n",
            "video 1/1 (frame 14/540) /content/istockphoto-2207004307-640_adpp_is.mp4: 384x640 (no detections), 6.6ms\n",
            "video 1/1 (frame 15/540) /content/istockphoto-2207004307-640_adpp_is.mp4: 384x640 (no detections), 6.6ms\n",
            "video 1/1 (frame 16/540) /content/istockphoto-2207004307-640_adpp_is.mp4: 384x640 (no detections), 6.5ms\n",
            "video 1/1 (frame 17/540) /content/istockphoto-2207004307-640_adpp_is.mp4: 384x640 (no detections), 6.5ms\n",
            "video 1/1 (frame 18/540) /content/istockphoto-2207004307-640_adpp_is.mp4: 384x640 (no detections), 7.2ms\n",
            "video 1/1 (frame 19/540) /content/istockphoto-2207004307-640_adpp_is.mp4: 384x640 (no detections), 6.6ms\n",
            "video 1/1 (frame 20/540) /content/istockphoto-2207004307-640_adpp_is.mp4: 384x640 (no detections), 7.4ms\n",
            "video 1/1 (frame 21/540) /content/istockphoto-2207004307-640_adpp_is.mp4: 384x640 (no detections), 6.9ms\n",
            "video 1/1 (frame 22/540) /content/istockphoto-2207004307-640_adpp_is.mp4: 384x640 (no detections), 7.6ms\n",
            "video 1/1 (frame 23/540) /content/istockphoto-2207004307-640_adpp_is.mp4: 384x640 (no detections), 7.0ms\n",
            "video 1/1 (frame 24/540) /content/istockphoto-2207004307-640_adpp_is.mp4: 384x640 (no detections), 7.5ms\n",
            "video 1/1 (frame 25/540) /content/istockphoto-2207004307-640_adpp_is.mp4: 384x640 (no detections), 6.4ms\n",
            "video 1/1 (frame 26/540) /content/istockphoto-2207004307-640_adpp_is.mp4: 384x640 (no detections), 7.9ms\n",
            "video 1/1 (frame 27/540) /content/istockphoto-2207004307-640_adpp_is.mp4: 384x640 (no detections), 7.5ms\n",
            "video 1/1 (frame 28/540) /content/istockphoto-2207004307-640_adpp_is.mp4: 384x640 (no detections), 7.7ms\n",
            "video 1/1 (frame 29/540) /content/istockphoto-2207004307-640_adpp_is.mp4: 384x640 (no detections), 6.7ms\n",
            "video 1/1 (frame 30/540) /content/istockphoto-2207004307-640_adpp_is.mp4: 384x640 (no detections), 7.7ms\n",
            "video 1/1 (frame 31/540) /content/istockphoto-2207004307-640_adpp_is.mp4: 384x640 (no detections), 6.7ms\n",
            "video 1/1 (frame 32/540) /content/istockphoto-2207004307-640_adpp_is.mp4: 384x640 (no detections), 7.7ms\n",
            "video 1/1 (frame 33/540) /content/istockphoto-2207004307-640_adpp_is.mp4: 384x640 (no detections), 6.8ms\n",
            "video 1/1 (frame 34/540) /content/istockphoto-2207004307-640_adpp_is.mp4: 384x640 (no detections), 7.9ms\n",
            "video 1/1 (frame 35/540) /content/istockphoto-2207004307-640_adpp_is.mp4: 384x640 (no detections), 6.5ms\n",
            "video 1/1 (frame 36/540) /content/istockphoto-2207004307-640_adpp_is.mp4: 384x640 (no detections), 7.5ms\n",
            "video 1/1 (frame 37/540) /content/istockphoto-2207004307-640_adpp_is.mp4: 384x640 (no detections), 11.4ms\n",
            "video 1/1 (frame 38/540) /content/istockphoto-2207004307-640_adpp_is.mp4: 384x640 (no detections), 9.5ms\n",
            "video 1/1 (frame 39/540) /content/istockphoto-2207004307-640_adpp_is.mp4: 384x640 (no detections), 6.4ms\n",
            "video 1/1 (frame 40/540) /content/istockphoto-2207004307-640_adpp_is.mp4: 384x640 (no detections), 7.3ms\n",
            "video 1/1 (frame 41/540) /content/istockphoto-2207004307-640_adpp_is.mp4: 384x640 (no detections), 7.7ms\n",
            "video 1/1 (frame 42/540) /content/istockphoto-2207004307-640_adpp_is.mp4: 384x640 (no detections), 7.9ms\n",
            "video 1/1 (frame 43/540) /content/istockphoto-2207004307-640_adpp_is.mp4: 384x640 (no detections), 6.4ms\n",
            "video 1/1 (frame 44/540) /content/istockphoto-2207004307-640_adpp_is.mp4: 384x640 (no detections), 7.0ms\n",
            "video 1/1 (frame 45/540) /content/istockphoto-2207004307-640_adpp_is.mp4: 384x640 (no detections), 6.5ms\n",
            "video 1/1 (frame 46/540) /content/istockphoto-2207004307-640_adpp_is.mp4: 384x640 (no detections), 7.0ms\n",
            "video 1/1 (frame 47/540) /content/istockphoto-2207004307-640_adpp_is.mp4: 384x640 (no detections), 6.8ms\n",
            "video 1/1 (frame 48/540) /content/istockphoto-2207004307-640_adpp_is.mp4: 384x640 (no detections), 7.5ms\n",
            "video 1/1 (frame 49/540) /content/istockphoto-2207004307-640_adpp_is.mp4: 384x640 (no detections), 6.3ms\n",
            "video 1/1 (frame 50/540) /content/istockphoto-2207004307-640_adpp_is.mp4: 384x640 (no detections), 6.4ms\n",
            "video 1/1 (frame 51/540) /content/istockphoto-2207004307-640_adpp_is.mp4: 384x640 (no detections), 6.4ms\n",
            "video 1/1 (frame 52/540) /content/istockphoto-2207004307-640_adpp_is.mp4: 384x640 (no detections), 7.3ms\n",
            "video 1/1 (frame 53/540) /content/istockphoto-2207004307-640_adpp_is.mp4: 384x640 (no detections), 6.5ms\n",
            "video 1/1 (frame 54/540) /content/istockphoto-2207004307-640_adpp_is.mp4: 384x640 (no detections), 7.6ms\n",
            "video 1/1 (frame 55/540) /content/istockphoto-2207004307-640_adpp_is.mp4: 384x640 (no detections), 6.4ms\n",
            "video 1/1 (frame 56/540) /content/istockphoto-2207004307-640_adpp_is.mp4: 384x640 (no detections), 7.6ms\n",
            "video 1/1 (frame 57/540) /content/istockphoto-2207004307-640_adpp_is.mp4: 384x640 (no detections), 7.3ms\n",
            "video 1/1 (frame 58/540) /content/istockphoto-2207004307-640_adpp_is.mp4: 384x640 (no detections), 6.6ms\n",
            "video 1/1 (frame 59/540) /content/istockphoto-2207004307-640_adpp_is.mp4: 384x640 (no detections), 6.6ms\n",
            "video 1/1 (frame 60/540) /content/istockphoto-2207004307-640_adpp_is.mp4: 384x640 (no detections), 7.3ms\n",
            "video 1/1 (frame 61/540) /content/istockphoto-2207004307-640_adpp_is.mp4: 384x640 (no detections), 7.0ms\n",
            "video 1/1 (frame 62/540) /content/istockphoto-2207004307-640_adpp_is.mp4: 384x640 (no detections), 6.9ms\n",
            "video 1/1 (frame 63/540) /content/istockphoto-2207004307-640_adpp_is.mp4: 384x640 (no detections), 6.5ms\n",
            "video 1/1 (frame 64/540) /content/istockphoto-2207004307-640_adpp_is.mp4: 384x640 (no detections), 6.8ms\n",
            "video 1/1 (frame 65/540) /content/istockphoto-2207004307-640_adpp_is.mp4: 384x640 (no detections), 6.3ms\n",
            "video 1/1 (frame 66/540) /content/istockphoto-2207004307-640_adpp_is.mp4: 384x640 (no detections), 8.9ms\n",
            "video 1/1 (frame 67/540) /content/istockphoto-2207004307-640_adpp_is.mp4: 384x640 (no detections), 6.3ms\n",
            "video 1/1 (frame 68/540) /content/istockphoto-2207004307-640_adpp_is.mp4: 384x640 (no detections), 8.4ms\n",
            "video 1/1 (frame 69/540) /content/istockphoto-2207004307-640_adpp_is.mp4: 384x640 (no detections), 6.4ms\n",
            "video 1/1 (frame 70/540) /content/istockphoto-2207004307-640_adpp_is.mp4: 384x640 (no detections), 10.1ms\n",
            "video 1/1 (frame 71/540) /content/istockphoto-2207004307-640_adpp_is.mp4: 384x640 (no detections), 7.4ms\n",
            "video 1/1 (frame 72/540) /content/istockphoto-2207004307-640_adpp_is.mp4: 384x640 (no detections), 8.6ms\n",
            "video 1/1 (frame 73/540) /content/istockphoto-2207004307-640_adpp_is.mp4: 384x640 (no detections), 8.2ms\n",
            "video 1/1 (frame 74/540) /content/istockphoto-2207004307-640_adpp_is.mp4: 384x640 (no detections), 6.3ms\n",
            "video 1/1 (frame 75/540) /content/istockphoto-2207004307-640_adpp_is.mp4: 384x640 (no detections), 8.0ms\n",
            "video 1/1 (frame 76/540) /content/istockphoto-2207004307-640_adpp_is.mp4: 384x640 (no detections), 8.0ms\n",
            "video 1/1 (frame 77/540) /content/istockphoto-2207004307-640_adpp_is.mp4: 384x640 (no detections), 6.9ms\n",
            "video 1/1 (frame 78/540) /content/istockphoto-2207004307-640_adpp_is.mp4: 384x640 (no detections), 6.5ms\n",
            "video 1/1 (frame 79/540) /content/istockphoto-2207004307-640_adpp_is.mp4: 384x640 (no detections), 7.2ms\n",
            "video 1/1 (frame 80/540) /content/istockphoto-2207004307-640_adpp_is.mp4: 384x640 (no detections), 7.5ms\n",
            "video 1/1 (frame 81/540) /content/istockphoto-2207004307-640_adpp_is.mp4: 384x640 (no detections), 10.0ms\n",
            "video 1/1 (frame 82/540) /content/istockphoto-2207004307-640_adpp_is.mp4: 384x640 (no detections), 12.0ms\n",
            "video 1/1 (frame 83/540) /content/istockphoto-2207004307-640_adpp_is.mp4: 384x640 (no detections), 10.9ms\n",
            "video 1/1 (frame 84/540) /content/istockphoto-2207004307-640_adpp_is.mp4: 384x640 (no detections), 10.5ms\n",
            "video 1/1 (frame 85/540) /content/istockphoto-2207004307-640_adpp_is.mp4: 384x640 (no detections), 12.7ms\n",
            "video 1/1 (frame 86/540) /content/istockphoto-2207004307-640_adpp_is.mp4: 384x640 (no detections), 10.2ms\n",
            "video 1/1 (frame 87/540) /content/istockphoto-2207004307-640_adpp_is.mp4: 384x640 (no detections), 7.8ms\n",
            "video 1/1 (frame 88/540) /content/istockphoto-2207004307-640_adpp_is.mp4: 384x640 (no detections), 6.4ms\n",
            "video 1/1 (frame 89/540) /content/istockphoto-2207004307-640_adpp_is.mp4: 384x640 (no detections), 7.1ms\n",
            "video 1/1 (frame 90/540) /content/istockphoto-2207004307-640_adpp_is.mp4: 384x640 (no detections), 6.3ms\n",
            "video 1/1 (frame 91/540) /content/istockphoto-2207004307-640_adpp_is.mp4: 384x640 (no detections), 7.1ms\n",
            "video 1/1 (frame 92/540) /content/istockphoto-2207004307-640_adpp_is.mp4: 384x640 (no detections), 6.5ms\n",
            "video 1/1 (frame 93/540) /content/istockphoto-2207004307-640_adpp_is.mp4: 384x640 (no detections), 7.4ms\n",
            "video 1/1 (frame 94/540) /content/istockphoto-2207004307-640_adpp_is.mp4: 384x640 (no detections), 9.6ms\n",
            "video 1/1 (frame 95/540) /content/istockphoto-2207004307-640_adpp_is.mp4: 384x640 (no detections), 12.3ms\n",
            "video 1/1 (frame 96/540) /content/istockphoto-2207004307-640_adpp_is.mp4: 384x640 (no detections), 7.0ms\n",
            "video 1/1 (frame 97/540) /content/istockphoto-2207004307-640_adpp_is.mp4: 384x640 (no detections), 6.8ms\n",
            "video 1/1 (frame 98/540) /content/istockphoto-2207004307-640_adpp_is.mp4: 384x640 (no detections), 6.3ms\n",
            "video 1/1 (frame 99/540) /content/istockphoto-2207004307-640_adpp_is.mp4: 384x640 (no detections), 9.1ms\n",
            "video 1/1 (frame 100/540) /content/istockphoto-2207004307-640_adpp_is.mp4: 384x640 (no detections), 7.6ms\n",
            "video 1/1 (frame 101/540) /content/istockphoto-2207004307-640_adpp_is.mp4: 384x640 (no detections), 7.7ms\n",
            "video 1/1 (frame 102/540) /content/istockphoto-2207004307-640_adpp_is.mp4: 384x640 (no detections), 7.1ms\n",
            "video 1/1 (frame 103/540) /content/istockphoto-2207004307-640_adpp_is.mp4: 384x640 (no detections), 8.1ms\n",
            "video 1/1 (frame 104/540) /content/istockphoto-2207004307-640_adpp_is.mp4: 384x640 (no detections), 9.4ms\n",
            "video 1/1 (frame 105/540) /content/istockphoto-2207004307-640_adpp_is.mp4: 384x640 (no detections), 7.5ms\n",
            "video 1/1 (frame 106/540) /content/istockphoto-2207004307-640_adpp_is.mp4: 384x640 (no detections), 6.6ms\n",
            "video 1/1 (frame 107/540) /content/istockphoto-2207004307-640_adpp_is.mp4: 384x640 (no detections), 11.7ms\n",
            "video 1/1 (frame 108/540) /content/istockphoto-2207004307-640_adpp_is.mp4: 384x640 (no detections), 8.4ms\n",
            "video 1/1 (frame 109/540) /content/istockphoto-2207004307-640_adpp_is.mp4: 384x640 (no detections), 7.8ms\n",
            "video 1/1 (frame 110/540) /content/istockphoto-2207004307-640_adpp_is.mp4: 384x640 (no detections), 6.6ms\n",
            "video 1/1 (frame 111/540) /content/istockphoto-2207004307-640_adpp_is.mp4: 384x640 (no detections), 8.3ms\n",
            "video 1/1 (frame 112/540) /content/istockphoto-2207004307-640_adpp_is.mp4: 384x640 (no detections), 7.5ms\n",
            "video 1/1 (frame 113/540) /content/istockphoto-2207004307-640_adpp_is.mp4: 384x640 (no detections), 8.8ms\n",
            "video 1/1 (frame 114/540) /content/istockphoto-2207004307-640_adpp_is.mp4: 384x640 (no detections), 6.7ms\n",
            "video 1/1 (frame 115/540) /content/istockphoto-2207004307-640_adpp_is.mp4: 384x640 (no detections), 6.5ms\n",
            "video 1/1 (frame 116/540) /content/istockphoto-2207004307-640_adpp_is.mp4: 384x640 (no detections), 8.6ms\n",
            "video 1/1 (frame 117/540) /content/istockphoto-2207004307-640_adpp_is.mp4: 384x640 (no detections), 8.2ms\n",
            "video 1/1 (frame 118/540) /content/istockphoto-2207004307-640_adpp_is.mp4: 384x640 (no detections), 7.6ms\n",
            "video 1/1 (frame 119/540) /content/istockphoto-2207004307-640_adpp_is.mp4: 384x640 (no detections), 6.6ms\n",
            "video 1/1 (frame 120/540) /content/istockphoto-2207004307-640_adpp_is.mp4: 384x640 (no detections), 7.8ms\n",
            "video 1/1 (frame 121/540) /content/istockphoto-2207004307-640_adpp_is.mp4: 384x640 (no detections), 6.6ms\n",
            "video 1/1 (frame 122/540) /content/istockphoto-2207004307-640_adpp_is.mp4: 384x640 (no detections), 7.9ms\n",
            "video 1/1 (frame 123/540) /content/istockphoto-2207004307-640_adpp_is.mp4: 384x640 (no detections), 6.5ms\n",
            "video 1/1 (frame 124/540) /content/istockphoto-2207004307-640_adpp_is.mp4: 384x640 (no detections), 7.3ms\n",
            "video 1/1 (frame 125/540) /content/istockphoto-2207004307-640_adpp_is.mp4: 384x640 (no detections), 6.4ms\n",
            "video 1/1 (frame 126/540) /content/istockphoto-2207004307-640_adpp_is.mp4: 384x640 (no detections), 7.4ms\n",
            "video 1/1 (frame 127/540) /content/istockphoto-2207004307-640_adpp_is.mp4: 384x640 (no detections), 6.7ms\n",
            "video 1/1 (frame 128/540) /content/istockphoto-2207004307-640_adpp_is.mp4: 384x640 (no detections), 10.1ms\n",
            "video 1/1 (frame 129/540) /content/istockphoto-2207004307-640_adpp_is.mp4: 384x640 (no detections), 7.5ms\n",
            "video 1/1 (frame 130/540) /content/istockphoto-2207004307-640_adpp_is.mp4: 384x640 (no detections), 8.3ms\n",
            "video 1/1 (frame 131/540) /content/istockphoto-2207004307-640_adpp_is.mp4: 384x640 (no detections), 7.5ms\n",
            "video 1/1 (frame 132/540) /content/istockphoto-2207004307-640_adpp_is.mp4: 384x640 (no detections), 7.3ms\n",
            "video 1/1 (frame 133/540) /content/istockphoto-2207004307-640_adpp_is.mp4: 384x640 (no detections), 9.2ms\n",
            "video 1/1 (frame 134/540) /content/istockphoto-2207004307-640_adpp_is.mp4: 384x640 (no detections), 7.9ms\n",
            "video 1/1 (frame 135/540) /content/istockphoto-2207004307-640_adpp_is.mp4: 384x640 (no detections), 6.4ms\n",
            "video 1/1 (frame 136/540) /content/istockphoto-2207004307-640_adpp_is.mp4: 384x640 (no detections), 8.0ms\n",
            "video 1/1 (frame 137/540) /content/istockphoto-2207004307-640_adpp_is.mp4: 384x640 (no detections), 7.5ms\n",
            "video 1/1 (frame 138/540) /content/istockphoto-2207004307-640_adpp_is.mp4: 384x640 (no detections), 6.4ms\n",
            "video 1/1 (frame 139/540) /content/istockphoto-2207004307-640_adpp_is.mp4: 384x640 (no detections), 6.8ms\n",
            "video 1/1 (frame 140/540) /content/istockphoto-2207004307-640_adpp_is.mp4: 384x640 (no detections), 6.5ms\n",
            "video 1/1 (frame 141/540) /content/istockphoto-2207004307-640_adpp_is.mp4: 384x640 (no detections), 8.1ms\n",
            "video 1/1 (frame 142/540) /content/istockphoto-2207004307-640_adpp_is.mp4: 384x640 (no detections), 6.6ms\n",
            "video 1/1 (frame 143/540) /content/istockphoto-2207004307-640_adpp_is.mp4: 384x640 (no detections), 7.4ms\n",
            "video 1/1 (frame 144/540) /content/istockphoto-2207004307-640_adpp_is.mp4: 384x640 (no detections), 6.5ms\n",
            "video 1/1 (frame 145/540) /content/istockphoto-2207004307-640_adpp_is.mp4: 384x640 (no detections), 7.9ms\n",
            "video 1/1 (frame 146/540) /content/istockphoto-2207004307-640_adpp_is.mp4: 384x640 (no detections), 6.7ms\n",
            "video 1/1 (frame 147/540) /content/istockphoto-2207004307-640_adpp_is.mp4: 384x640 (no detections), 6.5ms\n",
            "video 1/1 (frame 148/540) /content/istockphoto-2207004307-640_adpp_is.mp4: 384x640 (no detections), 7.0ms\n",
            "video 1/1 (frame 149/540) /content/istockphoto-2207004307-640_adpp_is.mp4: 384x640 (no detections), 8.3ms\n",
            "video 1/1 (frame 150/540) /content/istockphoto-2207004307-640_adpp_is.mp4: 384x640 (no detections), 15.8ms\n",
            "video 1/1 (frame 151/540) /content/istockphoto-2207004307-640_adpp_is.mp4: 384x640 (no detections), 15.4ms\n",
            "video 1/1 (frame 152/540) /content/istockphoto-2207004307-640_adpp_is.mp4: 384x640 (no detections), 15.5ms\n",
            "video 1/1 (frame 153/540) /content/istockphoto-2207004307-640_adpp_is.mp4: 384x640 (no detections), 16.4ms\n",
            "video 1/1 (frame 154/540) /content/istockphoto-2207004307-640_adpp_is.mp4: 384x640 (no detections), 12.6ms\n",
            "video 1/1 (frame 155/540) /content/istockphoto-2207004307-640_adpp_is.mp4: 384x640 (no detections), 9.2ms\n",
            "video 1/1 (frame 156/540) /content/istockphoto-2207004307-640_adpp_is.mp4: 384x640 (no detections), 12.2ms\n",
            "video 1/1 (frame 157/540) /content/istockphoto-2207004307-640_adpp_is.mp4: 384x640 (no detections), 11.1ms\n",
            "video 1/1 (frame 158/540) /content/istockphoto-2207004307-640_adpp_is.mp4: 384x640 (no detections), 10.2ms\n",
            "video 1/1 (frame 159/540) /content/istockphoto-2207004307-640_adpp_is.mp4: 384x640 (no detections), 9.7ms\n",
            "video 1/1 (frame 160/540) /content/istockphoto-2207004307-640_adpp_is.mp4: 384x640 (no detections), 8.0ms\n",
            "video 1/1 (frame 161/540) /content/istockphoto-2207004307-640_adpp_is.mp4: 384x640 (no detections), 15.2ms\n",
            "video 1/1 (frame 162/540) /content/istockphoto-2207004307-640_adpp_is.mp4: 384x640 (no detections), 11.8ms\n",
            "video 1/1 (frame 163/540) /content/istockphoto-2207004307-640_adpp_is.mp4: 384x640 (no detections), 10.9ms\n",
            "video 1/1 (frame 164/540) /content/istockphoto-2207004307-640_adpp_is.mp4: 384x640 (no detections), 9.3ms\n",
            "video 1/1 (frame 165/540) /content/istockphoto-2207004307-640_adpp_is.mp4: 384x640 (no detections), 8.8ms\n",
            "video 1/1 (frame 166/540) /content/istockphoto-2207004307-640_adpp_is.mp4: 384x640 (no detections), 8.5ms\n",
            "video 1/1 (frame 167/540) /content/istockphoto-2207004307-640_adpp_is.mp4: 384x640 (no detections), 8.4ms\n",
            "video 1/1 (frame 168/540) /content/istockphoto-2207004307-640_adpp_is.mp4: 384x640 (no detections), 8.5ms\n",
            "video 1/1 (frame 169/540) /content/istockphoto-2207004307-640_adpp_is.mp4: 384x640 (no detections), 8.6ms\n",
            "video 1/1 (frame 170/540) /content/istockphoto-2207004307-640_adpp_is.mp4: 384x640 (no detections), 8.5ms\n",
            "video 1/1 (frame 171/540) /content/istockphoto-2207004307-640_adpp_is.mp4: 384x640 (no detections), 8.7ms\n",
            "video 1/1 (frame 172/540) /content/istockphoto-2207004307-640_adpp_is.mp4: 384x640 (no detections), 8.4ms\n",
            "video 1/1 (frame 173/540) /content/istockphoto-2207004307-640_adpp_is.mp4: 384x640 (no detections), 8.4ms\n",
            "video 1/1 (frame 174/540) /content/istockphoto-2207004307-640_adpp_is.mp4: 384x640 (no detections), 8.6ms\n",
            "video 1/1 (frame 175/540) /content/istockphoto-2207004307-640_adpp_is.mp4: 384x640 (no detections), 8.3ms\n",
            "video 1/1 (frame 176/540) /content/istockphoto-2207004307-640_adpp_is.mp4: 384x640 (no detections), 12.4ms\n",
            "video 1/1 (frame 177/540) /content/istockphoto-2207004307-640_adpp_is.mp4: 384x640 (no detections), 8.6ms\n",
            "video 1/1 (frame 178/540) /content/istockphoto-2207004307-640_adpp_is.mp4: 384x640 (no detections), 8.4ms\n",
            "video 1/1 (frame 179/540) /content/istockphoto-2207004307-640_adpp_is.mp4: 384x640 (no detections), 8.2ms\n",
            "video 1/1 (frame 180/540) /content/istockphoto-2207004307-640_adpp_is.mp4: 384x640 (no detections), 13.7ms\n",
            "video 1/1 (frame 181/540) /content/istockphoto-2207004307-640_adpp_is.mp4: 384x640 (no detections), 9.0ms\n",
            "video 1/1 (frame 182/540) /content/istockphoto-2207004307-640_adpp_is.mp4: 384x640 (no detections), 7.9ms\n",
            "video 1/1 (frame 183/540) /content/istockphoto-2207004307-640_adpp_is.mp4: 384x640 (no detections), 8.1ms\n",
            "video 1/1 (frame 184/540) /content/istockphoto-2207004307-640_adpp_is.mp4: 384x640 (no detections), 7.8ms\n",
            "video 1/1 (frame 185/540) /content/istockphoto-2207004307-640_adpp_is.mp4: 384x640 (no detections), 7.9ms\n",
            "video 1/1 (frame 186/540) /content/istockphoto-2207004307-640_adpp_is.mp4: 384x640 (no detections), 8.7ms\n",
            "video 1/1 (frame 187/540) /content/istockphoto-2207004307-640_adpp_is.mp4: 384x640 (no detections), 8.3ms\n",
            "video 1/1 (frame 188/540) /content/istockphoto-2207004307-640_adpp_is.mp4: 384x640 (no detections), 7.7ms\n",
            "video 1/1 (frame 189/540) /content/istockphoto-2207004307-640_adpp_is.mp4: 384x640 (no detections), 8.0ms\n",
            "video 1/1 (frame 190/540) /content/istockphoto-2207004307-640_adpp_is.mp4: 384x640 (no detections), 8.0ms\n",
            "video 1/1 (frame 191/540) /content/istockphoto-2207004307-640_adpp_is.mp4: 384x640 (no detections), 8.4ms\n",
            "video 1/1 (frame 192/540) /content/istockphoto-2207004307-640_adpp_is.mp4: 384x640 (no detections), 8.0ms\n",
            "video 1/1 (frame 193/540) /content/istockphoto-2207004307-640_adpp_is.mp4: 384x640 (no detections), 8.0ms\n",
            "video 1/1 (frame 194/540) /content/istockphoto-2207004307-640_adpp_is.mp4: 384x640 (no detections), 12.7ms\n",
            "video 1/1 (frame 195/540) /content/istockphoto-2207004307-640_adpp_is.mp4: 384x640 (no detections), 18.5ms\n",
            "video 1/1 (frame 196/540) /content/istockphoto-2207004307-640_adpp_is.mp4: 384x640 1 vit, 14.0ms\n",
            "video 1/1 (frame 197/540) /content/istockphoto-2207004307-640_adpp_is.mp4: 384x640 1 vit, 12.7ms\n",
            "video 1/1 (frame 198/540) /content/istockphoto-2207004307-640_adpp_is.mp4: 384x640 1 vit, 10.5ms\n",
            "video 1/1 (frame 199/540) /content/istockphoto-2207004307-640_adpp_is.mp4: 384x640 1 vit, 11.0ms\n",
            "video 1/1 (frame 200/540) /content/istockphoto-2207004307-640_adpp_is.mp4: 384x640 (no detections), 9.3ms\n",
            "video 1/1 (frame 201/540) /content/istockphoto-2207004307-640_adpp_is.mp4: 384x640 (no detections), 14.1ms\n",
            "video 1/1 (frame 202/540) /content/istockphoto-2207004307-640_adpp_is.mp4: 384x640 (no detections), 10.7ms\n",
            "video 1/1 (frame 203/540) /content/istockphoto-2207004307-640_adpp_is.mp4: 384x640 (no detections), 14.2ms\n",
            "video 1/1 (frame 204/540) /content/istockphoto-2207004307-640_adpp_is.mp4: 384x640 (no detections), 11.8ms\n",
            "video 1/1 (frame 205/540) /content/istockphoto-2207004307-640_adpp_is.mp4: 384x640 (no detections), 13.6ms\n",
            "video 1/1 (frame 206/540) /content/istockphoto-2207004307-640_adpp_is.mp4: 384x640 (no detections), 13.7ms\n",
            "video 1/1 (frame 207/540) /content/istockphoto-2207004307-640_adpp_is.mp4: 384x640 (no detections), 10.5ms\n",
            "video 1/1 (frame 208/540) /content/istockphoto-2207004307-640_adpp_is.mp4: 384x640 (no detections), 8.5ms\n",
            "video 1/1 (frame 209/540) /content/istockphoto-2207004307-640_adpp_is.mp4: 384x640 (no detections), 8.4ms\n",
            "video 1/1 (frame 210/540) /content/istockphoto-2207004307-640_adpp_is.mp4: 384x640 (no detections), 8.6ms\n",
            "video 1/1 (frame 211/540) /content/istockphoto-2207004307-640_adpp_is.mp4: 384x640 (no detections), 8.1ms\n",
            "video 1/1 (frame 212/540) /content/istockphoto-2207004307-640_adpp_is.mp4: 384x640 (no detections), 10.4ms\n",
            "video 1/1 (frame 213/540) /content/istockphoto-2207004307-640_adpp_is.mp4: 384x640 (no detections), 16.1ms\n",
            "video 1/1 (frame 214/540) /content/istockphoto-2207004307-640_adpp_is.mp4: 384x640 (no detections), 9.9ms\n",
            "video 1/1 (frame 215/540) /content/istockphoto-2207004307-640_adpp_is.mp4: 384x640 (no detections), 10.0ms\n",
            "video 1/1 (frame 216/540) /content/istockphoto-2207004307-640_adpp_is.mp4: 384x640 (no detections), 9.4ms\n",
            "video 1/1 (frame 217/540) /content/istockphoto-2207004307-640_adpp_is.mp4: 384x640 (no detections), 9.9ms\n",
            "video 1/1 (frame 218/540) /content/istockphoto-2207004307-640_adpp_is.mp4: 384x640 (no detections), 8.4ms\n",
            "video 1/1 (frame 219/540) /content/istockphoto-2207004307-640_adpp_is.mp4: 384x640 (no detections), 9.0ms\n",
            "video 1/1 (frame 220/540) /content/istockphoto-2207004307-640_adpp_is.mp4: 384x640 (no detections), 8.3ms\n",
            "video 1/1 (frame 221/540) /content/istockphoto-2207004307-640_adpp_is.mp4: 384x640 (no detections), 14.3ms\n",
            "video 1/1 (frame 222/540) /content/istockphoto-2207004307-640_adpp_is.mp4: 384x640 (no detections), 9.7ms\n",
            "video 1/1 (frame 223/540) /content/istockphoto-2207004307-640_adpp_is.mp4: 384x640 (no detections), 8.3ms\n",
            "video 1/1 (frame 224/540) /content/istockphoto-2207004307-640_adpp_is.mp4: 384x640 (no detections), 8.9ms\n",
            "video 1/1 (frame 225/540) /content/istockphoto-2207004307-640_adpp_is.mp4: 384x640 (no detections), 8.7ms\n",
            "video 1/1 (frame 226/540) /content/istockphoto-2207004307-640_adpp_is.mp4: 384x640 (no detections), 8.5ms\n",
            "video 1/1 (frame 227/540) /content/istockphoto-2207004307-640_adpp_is.mp4: 384x640 (no detections), 8.6ms\n",
            "video 1/1 (frame 228/540) /content/istockphoto-2207004307-640_adpp_is.mp4: 384x640 (no detections), 8.5ms\n",
            "video 1/1 (frame 229/540) /content/istockphoto-2207004307-640_adpp_is.mp4: 384x640 (no detections), 8.3ms\n",
            "video 1/1 (frame 230/540) /content/istockphoto-2207004307-640_adpp_is.mp4: 384x640 (no detections), 9.1ms\n",
            "video 1/1 (frame 231/540) /content/istockphoto-2207004307-640_adpp_is.mp4: 384x640 (no detections), 8.4ms\n",
            "video 1/1 (frame 232/540) /content/istockphoto-2207004307-640_adpp_is.mp4: 384x640 (no detections), 13.6ms\n",
            "video 1/1 (frame 233/540) /content/istockphoto-2207004307-640_adpp_is.mp4: 384x640 (no detections), 15.6ms\n",
            "video 1/1 (frame 234/540) /content/istockphoto-2207004307-640_adpp_is.mp4: 384x640 (no detections), 8.5ms\n",
            "video 1/1 (frame 235/540) /content/istockphoto-2207004307-640_adpp_is.mp4: 384x640 (no detections), 9.1ms\n",
            "video 1/1 (frame 236/540) /content/istockphoto-2207004307-640_adpp_is.mp4: 384x640 (no detections), 8.1ms\n",
            "video 1/1 (frame 237/540) /content/istockphoto-2207004307-640_adpp_is.mp4: 384x640 (no detections), 8.1ms\n",
            "video 1/1 (frame 238/540) /content/istockphoto-2207004307-640_adpp_is.mp4: 384x640 (no detections), 9.0ms\n",
            "video 1/1 (frame 239/540) /content/istockphoto-2207004307-640_adpp_is.mp4: 384x640 (no detections), 9.9ms\n",
            "video 1/1 (frame 240/540) /content/istockphoto-2207004307-640_adpp_is.mp4: 384x640 (no detections), 7.9ms\n",
            "video 1/1 (frame 241/540) /content/istockphoto-2207004307-640_adpp_is.mp4: 384x640 (no detections), 8.2ms\n",
            "video 1/1 (frame 242/540) /content/istockphoto-2207004307-640_adpp_is.mp4: 384x640 (no detections), 7.9ms\n",
            "video 1/1 (frame 243/540) /content/istockphoto-2207004307-640_adpp_is.mp4: 384x640 (no detections), 8.3ms\n",
            "video 1/1 (frame 244/540) /content/istockphoto-2207004307-640_adpp_is.mp4: 384x640 (no detections), 8.5ms\n",
            "video 1/1 (frame 245/540) /content/istockphoto-2207004307-640_adpp_is.mp4: 384x640 (no detections), 8.1ms\n",
            "video 1/1 (frame 246/540) /content/istockphoto-2207004307-640_adpp_is.mp4: 384x640 (no detections), 8.1ms\n",
            "video 1/1 (frame 247/540) /content/istockphoto-2207004307-640_adpp_is.mp4: 384x640 (no detections), 8.8ms\n",
            "video 1/1 (frame 248/540) /content/istockphoto-2207004307-640_adpp_is.mp4: 384x640 (no detections), 8.1ms\n",
            "video 1/1 (frame 249/540) /content/istockphoto-2207004307-640_adpp_is.mp4: 384x640 (no detections), 8.4ms\n",
            "video 1/1 (frame 250/540) /content/istockphoto-2207004307-640_adpp_is.mp4: 384x640 (no detections), 9.1ms\n",
            "video 1/1 (frame 251/540) /content/istockphoto-2207004307-640_adpp_is.mp4: 384x640 (no detections), 10.0ms\n",
            "video 1/1 (frame 252/540) /content/istockphoto-2207004307-640_adpp_is.mp4: 384x640 (no detections), 9.4ms\n",
            "video 1/1 (frame 253/540) /content/istockphoto-2207004307-640_adpp_is.mp4: 384x640 (no detections), 9.2ms\n",
            "video 1/1 (frame 254/540) /content/istockphoto-2207004307-640_adpp_is.mp4: 384x640 (no detections), 9.4ms\n",
            "video 1/1 (frame 255/540) /content/istockphoto-2207004307-640_adpp_is.mp4: 384x640 (no detections), 10.1ms\n",
            "video 1/1 (frame 256/540) /content/istockphoto-2207004307-640_adpp_is.mp4: 384x640 (no detections), 14.2ms\n",
            "video 1/1 (frame 257/540) /content/istockphoto-2207004307-640_adpp_is.mp4: 384x640 (no detections), 10.0ms\n",
            "video 1/1 (frame 258/540) /content/istockphoto-2207004307-640_adpp_is.mp4: 384x640 (no detections), 14.9ms\n",
            "video 1/1 (frame 259/540) /content/istockphoto-2207004307-640_adpp_is.mp4: 384x640 (no detections), 12.4ms\n",
            "video 1/1 (frame 260/540) /content/istockphoto-2207004307-640_adpp_is.mp4: 384x640 (no detections), 12.3ms\n",
            "video 1/1 (frame 261/540) /content/istockphoto-2207004307-640_adpp_is.mp4: 384x640 (no detections), 13.9ms\n",
            "video 1/1 (frame 262/540) /content/istockphoto-2207004307-640_adpp_is.mp4: 384x640 (no detections), 9.6ms\n",
            "video 1/1 (frame 263/540) /content/istockphoto-2207004307-640_adpp_is.mp4: 384x640 (no detections), 9.4ms\n",
            "video 1/1 (frame 264/540) /content/istockphoto-2207004307-640_adpp_is.mp4: 384x640 (no detections), 9.9ms\n",
            "video 1/1 (frame 265/540) /content/istockphoto-2207004307-640_adpp_is.mp4: 384x640 (no detections), 11.3ms\n",
            "video 1/1 (frame 266/540) /content/istockphoto-2207004307-640_adpp_is.mp4: 384x640 (no detections), 10.4ms\n",
            "video 1/1 (frame 267/540) /content/istockphoto-2207004307-640_adpp_is.mp4: 384x640 (no detections), 9.1ms\n",
            "video 1/1 (frame 268/540) /content/istockphoto-2207004307-640_adpp_is.mp4: 384x640 (no detections), 8.3ms\n",
            "video 1/1 (frame 269/540) /content/istockphoto-2207004307-640_adpp_is.mp4: 384x640 (no detections), 13.1ms\n",
            "video 1/1 (frame 270/540) /content/istockphoto-2207004307-640_adpp_is.mp4: 384x640 (no detections), 12.9ms\n",
            "video 1/1 (frame 271/540) /content/istockphoto-2207004307-640_adpp_is.mp4: 384x640 (no detections), 12.7ms\n",
            "video 1/1 (frame 272/540) /content/istockphoto-2207004307-640_adpp_is.mp4: 384x640 (no detections), 8.7ms\n",
            "video 1/1 (frame 273/540) /content/istockphoto-2207004307-640_adpp_is.mp4: 384x640 (no detections), 11.4ms\n",
            "video 1/1 (frame 274/540) /content/istockphoto-2207004307-640_adpp_is.mp4: 384x640 (no detections), 12.5ms\n",
            "video 1/1 (frame 275/540) /content/istockphoto-2207004307-640_adpp_is.mp4: 384x640 (no detections), 20.8ms\n",
            "video 1/1 (frame 276/540) /content/istockphoto-2207004307-640_adpp_is.mp4: 384x640 (no detections), 11.6ms\n",
            "video 1/1 (frame 277/540) /content/istockphoto-2207004307-640_adpp_is.mp4: 384x640 (no detections), 12.5ms\n",
            "video 1/1 (frame 278/540) /content/istockphoto-2207004307-640_adpp_is.mp4: 384x640 (no detections), 12.4ms\n",
            "video 1/1 (frame 279/540) /content/istockphoto-2207004307-640_adpp_is.mp4: 384x640 (no detections), 12.2ms\n",
            "video 1/1 (frame 280/540) /content/istockphoto-2207004307-640_adpp_is.mp4: 384x640 (no detections), 11.5ms\n",
            "video 1/1 (frame 281/540) /content/istockphoto-2207004307-640_adpp_is.mp4: 384x640 (no detections), 12.6ms\n",
            "video 1/1 (frame 282/540) /content/istockphoto-2207004307-640_adpp_is.mp4: 384x640 (no detections), 12.7ms\n",
            "video 1/1 (frame 283/540) /content/istockphoto-2207004307-640_adpp_is.mp4: 384x640 (no detections), 12.1ms\n",
            "video 1/1 (frame 284/540) /content/istockphoto-2207004307-640_adpp_is.mp4: 384x640 (no detections), 12.5ms\n",
            "video 1/1 (frame 285/540) /content/istockphoto-2207004307-640_adpp_is.mp4: 384x640 (no detections), 12.1ms\n",
            "video 1/1 (frame 286/540) /content/istockphoto-2207004307-640_adpp_is.mp4: 384x640 (no detections), 13.8ms\n",
            "video 1/1 (frame 287/540) /content/istockphoto-2207004307-640_adpp_is.mp4: 384x640 (no detections), 12.6ms\n",
            "video 1/1 (frame 288/540) /content/istockphoto-2207004307-640_adpp_is.mp4: 384x640 (no detections), 14.6ms\n",
            "video 1/1 (frame 289/540) /content/istockphoto-2207004307-640_adpp_is.mp4: 384x640 (no detections), 12.9ms\n",
            "video 1/1 (frame 290/540) /content/istockphoto-2207004307-640_adpp_is.mp4: 384x640 (no detections), 6.8ms\n",
            "video 1/1 (frame 291/540) /content/istockphoto-2207004307-640_adpp_is.mp4: 384x640 (no detections), 7.9ms\n",
            "video 1/1 (frame 292/540) /content/istockphoto-2207004307-640_adpp_is.mp4: 384x640 1 vit, 7.1ms\n",
            "video 1/1 (frame 293/540) /content/istockphoto-2207004307-640_adpp_is.mp4: 384x640 (no detections), 6.8ms\n",
            "video 1/1 (frame 294/540) /content/istockphoto-2207004307-640_adpp_is.mp4: 384x640 (no detections), 8.6ms\n",
            "video 1/1 (frame 295/540) /content/istockphoto-2207004307-640_adpp_is.mp4: 384x640 (no detections), 7.6ms\n",
            "video 1/1 (frame 296/540) /content/istockphoto-2207004307-640_adpp_is.mp4: 384x640 (no detections), 7.4ms\n",
            "video 1/1 (frame 297/540) /content/istockphoto-2207004307-640_adpp_is.mp4: 384x640 (no detections), 7.0ms\n",
            "video 1/1 (frame 298/540) /content/istockphoto-2207004307-640_adpp_is.mp4: 384x640 (no detections), 7.7ms\n",
            "video 1/1 (frame 299/540) /content/istockphoto-2207004307-640_adpp_is.mp4: 384x640 (no detections), 7.7ms\n",
            "video 1/1 (frame 300/540) /content/istockphoto-2207004307-640_adpp_is.mp4: 384x640 (no detections), 7.3ms\n",
            "video 1/1 (frame 301/540) /content/istockphoto-2207004307-640_adpp_is.mp4: 384x640 (no detections), 7.3ms\n",
            "video 1/1 (frame 302/540) /content/istockphoto-2207004307-640_adpp_is.mp4: 384x640 (no detections), 7.6ms\n",
            "video 1/1 (frame 303/540) /content/istockphoto-2207004307-640_adpp_is.mp4: 384x640 (no detections), 7.4ms\n",
            "video 1/1 (frame 304/540) /content/istockphoto-2207004307-640_adpp_is.mp4: 384x640 (no detections), 6.5ms\n",
            "video 1/1 (frame 305/540) /content/istockphoto-2207004307-640_adpp_is.mp4: 384x640 (no detections), 7.0ms\n",
            "video 1/1 (frame 306/540) /content/istockphoto-2207004307-640_adpp_is.mp4: 384x640 (no detections), 8.8ms\n",
            "video 1/1 (frame 307/540) /content/istockphoto-2207004307-640_adpp_is.mp4: 384x640 (no detections), 8.2ms\n",
            "video 1/1 (frame 308/540) /content/istockphoto-2207004307-640_adpp_is.mp4: 384x640 (no detections), 6.5ms\n",
            "video 1/1 (frame 309/540) /content/istockphoto-2207004307-640_adpp_is.mp4: 384x640 (no detections), 7.2ms\n",
            "video 1/1 (frame 310/540) /content/istockphoto-2207004307-640_adpp_is.mp4: 384x640 (no detections), 8.3ms\n",
            "video 1/1 (frame 311/540) /content/istockphoto-2207004307-640_adpp_is.mp4: 384x640 (no detections), 7.4ms\n",
            "video 1/1 (frame 312/540) /content/istockphoto-2207004307-640_adpp_is.mp4: 384x640 (no detections), 6.8ms\n",
            "video 1/1 (frame 313/540) /content/istockphoto-2207004307-640_adpp_is.mp4: 384x640 (no detections), 7.3ms\n",
            "video 1/1 (frame 314/540) /content/istockphoto-2207004307-640_adpp_is.mp4: 384x640 1 vit, 8.0ms\n",
            "video 1/1 (frame 315/540) /content/istockphoto-2207004307-640_adpp_is.mp4: 384x640 (no detections), 7.8ms\n",
            "video 1/1 (frame 316/540) /content/istockphoto-2207004307-640_adpp_is.mp4: 384x640 (no detections), 7.8ms\n",
            "video 1/1 (frame 317/540) /content/istockphoto-2207004307-640_adpp_is.mp4: 384x640 (no detections), 6.5ms\n",
            "video 1/1 (frame 318/540) /content/istockphoto-2207004307-640_adpp_is.mp4: 384x640 (no detections), 6.8ms\n",
            "video 1/1 (frame 319/540) /content/istockphoto-2207004307-640_adpp_is.mp4: 384x640 (no detections), 9.9ms\n",
            "video 1/1 (frame 320/540) /content/istockphoto-2207004307-640_adpp_is.mp4: 384x640 (no detections), 6.4ms\n",
            "video 1/1 (frame 321/540) /content/istockphoto-2207004307-640_adpp_is.mp4: 384x640 (no detections), 6.5ms\n",
            "video 1/1 (frame 322/540) /content/istockphoto-2207004307-640_adpp_is.mp4: 384x640 (no detections), 6.4ms\n",
            "video 1/1 (frame 323/540) /content/istockphoto-2207004307-640_adpp_is.mp4: 384x640 (no detections), 8.5ms\n",
            "video 1/1 (frame 324/540) /content/istockphoto-2207004307-640_adpp_is.mp4: 384x640 (no detections), 7.3ms\n",
            "video 1/1 (frame 325/540) /content/istockphoto-2207004307-640_adpp_is.mp4: 384x640 (no detections), 13.4ms\n",
            "video 1/1 (frame 326/540) /content/istockphoto-2207004307-640_adpp_is.mp4: 384x640 (no detections), 12.7ms\n",
            "video 1/1 (frame 327/540) /content/istockphoto-2207004307-640_adpp_is.mp4: 384x640 (no detections), 6.8ms\n",
            "video 1/1 (frame 328/540) /content/istockphoto-2207004307-640_adpp_is.mp4: 384x640 (no detections), 6.6ms\n",
            "video 1/1 (frame 329/540) /content/istockphoto-2207004307-640_adpp_is.mp4: 384x640 (no detections), 6.4ms\n",
            "video 1/1 (frame 330/540) /content/istockphoto-2207004307-640_adpp_is.mp4: 384x640 (no detections), 7.6ms\n",
            "video 1/1 (frame 331/540) /content/istockphoto-2207004307-640_adpp_is.mp4: 384x640 (no detections), 7.5ms\n",
            "video 1/1 (frame 332/540) /content/istockphoto-2207004307-640_adpp_is.mp4: 384x640 (no detections), 7.9ms\n",
            "video 1/1 (frame 333/540) /content/istockphoto-2207004307-640_adpp_is.mp4: 384x640 (no detections), 6.5ms\n",
            "video 1/1 (frame 334/540) /content/istockphoto-2207004307-640_adpp_is.mp4: 384x640 (no detections), 6.5ms\n",
            "video 1/1 (frame 335/540) /content/istockphoto-2207004307-640_adpp_is.mp4: 384x640 (no detections), 7.6ms\n",
            "video 1/1 (frame 336/540) /content/istockphoto-2207004307-640_adpp_is.mp4: 384x640 (no detections), 6.5ms\n",
            "video 1/1 (frame 337/540) /content/istockphoto-2207004307-640_adpp_is.mp4: 384x640 (no detections), 6.6ms\n",
            "video 1/1 (frame 338/540) /content/istockphoto-2207004307-640_adpp_is.mp4: 384x640 (no detections), 6.7ms\n",
            "video 1/1 (frame 339/540) /content/istockphoto-2207004307-640_adpp_is.mp4: 384x640 (no detections), 8.8ms\n",
            "video 1/1 (frame 340/540) /content/istockphoto-2207004307-640_adpp_is.mp4: 384x640 (no detections), 6.5ms\n",
            "video 1/1 (frame 341/540) /content/istockphoto-2207004307-640_adpp_is.mp4: 384x640 (no detections), 6.5ms\n",
            "video 1/1 (frame 342/540) /content/istockphoto-2207004307-640_adpp_is.mp4: 384x640 (no detections), 6.4ms\n",
            "video 1/1 (frame 343/540) /content/istockphoto-2207004307-640_adpp_is.mp4: 384x640 (no detections), 7.7ms\n",
            "video 1/1 (frame 344/540) /content/istockphoto-2207004307-640_adpp_is.mp4: 384x640 (no detections), 7.8ms\n",
            "video 1/1 (frame 345/540) /content/istockphoto-2207004307-640_adpp_is.mp4: 384x640 (no detections), 8.4ms\n",
            "video 1/1 (frame 346/540) /content/istockphoto-2207004307-640_adpp_is.mp4: 384x640 (no detections), 10.1ms\n",
            "video 1/1 (frame 347/540) /content/istockphoto-2207004307-640_adpp_is.mp4: 384x640 (no detections), 6.4ms\n",
            "video 1/1 (frame 348/540) /content/istockphoto-2207004307-640_adpp_is.mp4: 384x640 (no detections), 7.9ms\n",
            "video 1/1 (frame 349/540) /content/istockphoto-2207004307-640_adpp_is.mp4: 384x640 (no detections), 7.8ms\n",
            "video 1/1 (frame 350/540) /content/istockphoto-2207004307-640_adpp_is.mp4: 384x640 (no detections), 6.9ms\n",
            "video 1/1 (frame 351/540) /content/istockphoto-2207004307-640_adpp_is.mp4: 384x640 (no detections), 8.5ms\n",
            "video 1/1 (frame 352/540) /content/istockphoto-2207004307-640_adpp_is.mp4: 384x640 (no detections), 8.0ms\n",
            "video 1/1 (frame 353/540) /content/istockphoto-2207004307-640_adpp_is.mp4: 384x640 (no detections), 6.3ms\n",
            "video 1/1 (frame 354/540) /content/istockphoto-2207004307-640_adpp_is.mp4: 384x640 (no detections), 6.9ms\n",
            "video 1/1 (frame 355/540) /content/istockphoto-2207004307-640_adpp_is.mp4: 384x640 (no detections), 7.1ms\n",
            "video 1/1 (frame 356/540) /content/istockphoto-2207004307-640_adpp_is.mp4: 384x640 (no detections), 7.6ms\n",
            "video 1/1 (frame 357/540) /content/istockphoto-2207004307-640_adpp_is.mp4: 384x640 (no detections), 6.5ms\n",
            "video 1/1 (frame 358/540) /content/istockphoto-2207004307-640_adpp_is.mp4: 384x640 (no detections), 6.8ms\n",
            "video 1/1 (frame 359/540) /content/istockphoto-2207004307-640_adpp_is.mp4: 384x640 (no detections), 6.8ms\n",
            "video 1/1 (frame 360/540) /content/istockphoto-2207004307-640_adpp_is.mp4: 384x640 (no detections), 7.7ms\n",
            "video 1/1 (frame 361/540) /content/istockphoto-2207004307-640_adpp_is.mp4: 384x640 (no detections), 6.3ms\n",
            "video 1/1 (frame 362/540) /content/istockphoto-2207004307-640_adpp_is.mp4: 384x640 (no detections), 6.7ms\n",
            "video 1/1 (frame 363/540) /content/istockphoto-2207004307-640_adpp_is.mp4: 384x640 (no detections), 8.3ms\n",
            "video 1/1 (frame 364/540) /content/istockphoto-2207004307-640_adpp_is.mp4: 384x640 (no detections), 6.4ms\n",
            "video 1/1 (frame 365/540) /content/istockphoto-2207004307-640_adpp_is.mp4: 384x640 (no detections), 6.5ms\n",
            "video 1/1 (frame 366/540) /content/istockphoto-2207004307-640_adpp_is.mp4: 384x640 (no detections), 6.9ms\n",
            "video 1/1 (frame 367/540) /content/istockphoto-2207004307-640_adpp_is.mp4: 384x640 (no detections), 7.7ms\n",
            "video 1/1 (frame 368/540) /content/istockphoto-2207004307-640_adpp_is.mp4: 384x640 1 vit, 7.8ms\n",
            "video 1/1 (frame 369/540) /content/istockphoto-2207004307-640_adpp_is.mp4: 384x640 (no detections), 6.8ms\n",
            "video 1/1 (frame 370/540) /content/istockphoto-2207004307-640_adpp_is.mp4: 384x640 (no detections), 6.8ms\n",
            "video 1/1 (frame 371/540) /content/istockphoto-2207004307-640_adpp_is.mp4: 384x640 (no detections), 6.4ms\n",
            "video 1/1 (frame 372/540) /content/istockphoto-2207004307-640_adpp_is.mp4: 384x640 (no detections), 7.3ms\n",
            "video 1/1 (frame 373/540) /content/istockphoto-2207004307-640_adpp_is.mp4: 384x640 (no detections), 8.6ms\n",
            "video 1/1 (frame 374/540) /content/istockphoto-2207004307-640_adpp_is.mp4: 384x640 (no detections), 7.7ms\n",
            "video 1/1 (frame 375/540) /content/istockphoto-2207004307-640_adpp_is.mp4: 384x640 (no detections), 7.6ms\n",
            "video 1/1 (frame 376/540) /content/istockphoto-2207004307-640_adpp_is.mp4: 384x640 (no detections), 7.4ms\n",
            "video 1/1 (frame 377/540) /content/istockphoto-2207004307-640_adpp_is.mp4: 384x640 1 vit, 7.8ms\n",
            "video 1/1 (frame 378/540) /content/istockphoto-2207004307-640_adpp_is.mp4: 384x640 (no detections), 6.6ms\n",
            "video 1/1 (frame 379/540) /content/istockphoto-2207004307-640_adpp_is.mp4: 384x640 (no detections), 9.6ms\n",
            "video 1/1 (frame 380/540) /content/istockphoto-2207004307-640_adpp_is.mp4: 384x640 1 vit, 7.6ms\n",
            "video 1/1 (frame 381/540) /content/istockphoto-2207004307-640_adpp_is.mp4: 384x640 (no detections), 6.9ms\n",
            "video 1/1 (frame 382/540) /content/istockphoto-2207004307-640_adpp_is.mp4: 384x640 1 vit, 7.5ms\n",
            "video 1/1 (frame 383/540) /content/istockphoto-2207004307-640_adpp_is.mp4: 384x640 (no detections), 13.1ms\n",
            "video 1/1 (frame 384/540) /content/istockphoto-2207004307-640_adpp_is.mp4: 384x640 (no detections), 13.2ms\n",
            "video 1/1 (frame 385/540) /content/istockphoto-2207004307-640_adpp_is.mp4: 384x640 (no detections), 6.6ms\n",
            "video 1/1 (frame 386/540) /content/istockphoto-2207004307-640_adpp_is.mp4: 384x640 (no detections), 6.4ms\n",
            "video 1/1 (frame 387/540) /content/istockphoto-2207004307-640_adpp_is.mp4: 384x640 1 vit, 7.5ms\n",
            "video 1/1 (frame 388/540) /content/istockphoto-2207004307-640_adpp_is.mp4: 384x640 (no detections), 8.9ms\n",
            "video 1/1 (frame 389/540) /content/istockphoto-2207004307-640_adpp_is.mp4: 384x640 (no detections), 6.9ms\n",
            "video 1/1 (frame 390/540) /content/istockphoto-2207004307-640_adpp_is.mp4: 384x640 (no detections), 6.9ms\n",
            "video 1/1 (frame 391/540) /content/istockphoto-2207004307-640_adpp_is.mp4: 384x640 1 vit, 7.0ms\n",
            "video 1/1 (frame 392/540) /content/istockphoto-2207004307-640_adpp_is.mp4: 384x640 1 vit, 7.0ms\n",
            "video 1/1 (frame 393/540) /content/istockphoto-2207004307-640_adpp_is.mp4: 384x640 1 vit, 7.0ms\n",
            "video 1/1 (frame 394/540) /content/istockphoto-2207004307-640_adpp_is.mp4: 384x640 1 vit, 6.7ms\n",
            "video 1/1 (frame 395/540) /content/istockphoto-2207004307-640_adpp_is.mp4: 384x640 1 vit, 6.7ms\n",
            "video 1/1 (frame 396/540) /content/istockphoto-2207004307-640_adpp_is.mp4: 384x640 1 vit, 6.7ms\n",
            "video 1/1 (frame 397/540) /content/istockphoto-2207004307-640_adpp_is.mp4: 384x640 1 vit, 6.6ms\n",
            "video 1/1 (frame 398/540) /content/istockphoto-2207004307-640_adpp_is.mp4: 384x640 (no detections), 6.5ms\n",
            "video 1/1 (frame 399/540) /content/istockphoto-2207004307-640_adpp_is.mp4: 384x640 1 vit, 6.4ms\n",
            "video 1/1 (frame 400/540) /content/istockphoto-2207004307-640_adpp_is.mp4: 384x640 1 vit, 7.7ms\n",
            "video 1/1 (frame 401/540) /content/istockphoto-2207004307-640_adpp_is.mp4: 384x640 1 vit, 9.5ms\n",
            "video 1/1 (frame 402/540) /content/istockphoto-2207004307-640_adpp_is.mp4: 384x640 1 vit, 6.7ms\n",
            "video 1/1 (frame 403/540) /content/istockphoto-2207004307-640_adpp_is.mp4: 384x640 1 vit, 9.1ms\n",
            "video 1/1 (frame 404/540) /content/istockphoto-2207004307-640_adpp_is.mp4: 384x640 1 vit, 7.8ms\n",
            "video 1/1 (frame 405/540) /content/istockphoto-2207004307-640_adpp_is.mp4: 384x640 1 vit, 7.7ms\n",
            "video 1/1 (frame 406/540) /content/istockphoto-2207004307-640_adpp_is.mp4: 384x640 1 vit, 6.8ms\n",
            "video 1/1 (frame 407/540) /content/istockphoto-2207004307-640_adpp_is.mp4: 384x640 1 vit, 7.3ms\n",
            "video 1/1 (frame 408/540) /content/istockphoto-2207004307-640_adpp_is.mp4: 384x640 1 vit, 8.3ms\n",
            "video 1/1 (frame 409/540) /content/istockphoto-2207004307-640_adpp_is.mp4: 384x640 1 vit, 8.0ms\n",
            "video 1/1 (frame 410/540) /content/istockphoto-2207004307-640_adpp_is.mp4: 384x640 (no detections), 6.9ms\n",
            "video 1/1 (frame 411/540) /content/istockphoto-2207004307-640_adpp_is.mp4: 384x640 (no detections), 7.3ms\n",
            "video 1/1 (frame 412/540) /content/istockphoto-2207004307-640_adpp_is.mp4: 384x640 (no detections), 7.8ms\n",
            "video 1/1 (frame 413/540) /content/istockphoto-2207004307-640_adpp_is.mp4: 384x640 (no detections), 8.7ms\n",
            "video 1/1 (frame 414/540) /content/istockphoto-2207004307-640_adpp_is.mp4: 384x640 (no detections), 6.7ms\n",
            "video 1/1 (frame 415/540) /content/istockphoto-2207004307-640_adpp_is.mp4: 384x640 (no detections), 7.2ms\n",
            "video 1/1 (frame 416/540) /content/istockphoto-2207004307-640_adpp_is.mp4: 384x640 (no detections), 7.8ms\n",
            "video 1/1 (frame 417/540) /content/istockphoto-2207004307-640_adpp_is.mp4: 384x640 (no detections), 7.1ms\n",
            "video 1/1 (frame 418/540) /content/istockphoto-2207004307-640_adpp_is.mp4: 384x640 (no detections), 6.6ms\n",
            "video 1/1 (frame 419/540) /content/istockphoto-2207004307-640_adpp_is.mp4: 384x640 (no detections), 7.1ms\n",
            "video 1/1 (frame 420/540) /content/istockphoto-2207004307-640_adpp_is.mp4: 384x640 (no detections), 7.4ms\n",
            "video 1/1 (frame 421/540) /content/istockphoto-2207004307-640_adpp_is.mp4: 384x640 (no detections), 7.5ms\n",
            "video 1/1 (frame 422/540) /content/istockphoto-2207004307-640_adpp_is.mp4: 384x640 (no detections), 6.8ms\n",
            "video 1/1 (frame 423/540) /content/istockphoto-2207004307-640_adpp_is.mp4: 384x640 (no detections), 7.0ms\n",
            "video 1/1 (frame 424/540) /content/istockphoto-2207004307-640_adpp_is.mp4: 384x640 (no detections), 7.6ms\n",
            "video 1/1 (frame 425/540) /content/istockphoto-2207004307-640_adpp_is.mp4: 384x640 (no detections), 7.9ms\n",
            "video 1/1 (frame 426/540) /content/istockphoto-2207004307-640_adpp_is.mp4: 384x640 (no detections), 7.0ms\n",
            "video 1/1 (frame 427/540) /content/istockphoto-2207004307-640_adpp_is.mp4: 384x640 (no detections), 7.0ms\n",
            "video 1/1 (frame 428/540) /content/istockphoto-2207004307-640_adpp_is.mp4: 384x640 (no detections), 7.7ms\n",
            "video 1/1 (frame 429/540) /content/istockphoto-2207004307-640_adpp_is.mp4: 384x640 (no detections), 6.7ms\n",
            "video 1/1 (frame 430/540) /content/istockphoto-2207004307-640_adpp_is.mp4: 384x640 (no detections), 6.6ms\n",
            "video 1/1 (frame 431/540) /content/istockphoto-2207004307-640_adpp_is.mp4: 384x640 (no detections), 6.9ms\n",
            "video 1/1 (frame 432/540) /content/istockphoto-2207004307-640_adpp_is.mp4: 384x640 (no detections), 9.7ms\n",
            "video 1/1 (frame 433/540) /content/istockphoto-2207004307-640_adpp_is.mp4: 384x640 (no detections), 10.3ms\n",
            "video 1/1 (frame 434/540) /content/istockphoto-2207004307-640_adpp_is.mp4: 384x640 (no detections), 7.6ms\n",
            "video 1/1 (frame 435/540) /content/istockphoto-2207004307-640_adpp_is.mp4: 384x640 (no detections), 10.2ms\n",
            "video 1/1 (frame 436/540) /content/istockphoto-2207004307-640_adpp_is.mp4: 384x640 (no detections), 6.9ms\n",
            "video 1/1 (frame 437/540) /content/istockphoto-2207004307-640_adpp_is.mp4: 384x640 (no detections), 9.2ms\n",
            "video 1/1 (frame 438/540) /content/istockphoto-2207004307-640_adpp_is.mp4: 384x640 (no detections), 7.0ms\n",
            "video 1/1 (frame 439/540) /content/istockphoto-2207004307-640_adpp_is.mp4: 384x640 (no detections), 13.9ms\n",
            "video 1/1 (frame 440/540) /content/istockphoto-2207004307-640_adpp_is.mp4: 384x640 (no detections), 8.9ms\n",
            "video 1/1 (frame 441/540) /content/istockphoto-2207004307-640_adpp_is.mp4: 384x640 (no detections), 6.3ms\n",
            "video 1/1 (frame 442/540) /content/istockphoto-2207004307-640_adpp_is.mp4: 384x640 (no detections), 11.0ms\n",
            "video 1/1 (frame 443/540) /content/istockphoto-2207004307-640_adpp_is.mp4: 384x640 (no detections), 6.5ms\n",
            "video 1/1 (frame 444/540) /content/istockphoto-2207004307-640_adpp_is.mp4: 384x640 (no detections), 7.8ms\n",
            "video 1/1 (frame 445/540) /content/istockphoto-2207004307-640_adpp_is.mp4: 384x640 (no detections), 9.1ms\n",
            "video 1/1 (frame 446/540) /content/istockphoto-2207004307-640_adpp_is.mp4: 384x640 (no detections), 6.9ms\n",
            "video 1/1 (frame 447/540) /content/istockphoto-2207004307-640_adpp_is.mp4: 384x640 (no detections), 6.5ms\n",
            "video 1/1 (frame 448/540) /content/istockphoto-2207004307-640_adpp_is.mp4: 384x640 (no detections), 7.6ms\n",
            "video 1/1 (frame 449/540) /content/istockphoto-2207004307-640_adpp_is.mp4: 384x640 (no detections), 6.7ms\n",
            "video 1/1 (frame 450/540) /content/istockphoto-2207004307-640_adpp_is.mp4: 384x640 (no detections), 6.6ms\n",
            "video 1/1 (frame 451/540) /content/istockphoto-2207004307-640_adpp_is.mp4: 384x640 (no detections), 6.7ms\n",
            "video 1/1 (frame 452/540) /content/istockphoto-2207004307-640_adpp_is.mp4: 384x640 (no detections), 9.4ms\n",
            "video 1/1 (frame 453/540) /content/istockphoto-2207004307-640_adpp_is.mp4: 384x640 (no detections), 6.4ms\n",
            "video 1/1 (frame 454/540) /content/istockphoto-2207004307-640_adpp_is.mp4: 384x640 (no detections), 6.4ms\n",
            "video 1/1 (frame 455/540) /content/istockphoto-2207004307-640_adpp_is.mp4: 384x640 (no detections), 6.3ms\n",
            "video 1/1 (frame 456/540) /content/istockphoto-2207004307-640_adpp_is.mp4: 384x640 (no detections), 8.2ms\n",
            "video 1/1 (frame 457/540) /content/istockphoto-2207004307-640_adpp_is.mp4: 384x640 (no detections), 6.6ms\n",
            "video 1/1 (frame 458/540) /content/istockphoto-2207004307-640_adpp_is.mp4: 384x640 (no detections), 6.9ms\n",
            "video 1/1 (frame 459/540) /content/istockphoto-2207004307-640_adpp_is.mp4: 384x640 (no detections), 7.8ms\n",
            "video 1/1 (frame 460/540) /content/istockphoto-2207004307-640_adpp_is.mp4: 384x640 (no detections), 12.0ms\n",
            "video 1/1 (frame 461/540) /content/istockphoto-2207004307-640_adpp_is.mp4: 384x640 (no detections), 9.3ms\n",
            "video 1/1 (frame 462/540) /content/istockphoto-2207004307-640_adpp_is.mp4: 384x640 (no detections), 7.1ms\n",
            "video 1/1 (frame 463/540) /content/istockphoto-2207004307-640_adpp_is.mp4: 384x640 (no detections), 8.5ms\n",
            "video 1/1 (frame 464/540) /content/istockphoto-2207004307-640_adpp_is.mp4: 384x640 (no detections), 7.3ms\n",
            "video 1/1 (frame 465/540) /content/istockphoto-2207004307-640_adpp_is.mp4: 384x640 (no detections), 7.9ms\n",
            "video 1/1 (frame 466/540) /content/istockphoto-2207004307-640_adpp_is.mp4: 384x640 (no detections), 7.5ms\n",
            "video 1/1 (frame 467/540) /content/istockphoto-2207004307-640_adpp_is.mp4: 384x640 (no detections), 6.4ms\n",
            "video 1/1 (frame 468/540) /content/istockphoto-2207004307-640_adpp_is.mp4: 384x640 (no detections), 7.0ms\n",
            "video 1/1 (frame 469/540) /content/istockphoto-2207004307-640_adpp_is.mp4: 384x640 (no detections), 8.3ms\n",
            "video 1/1 (frame 470/540) /content/istockphoto-2207004307-640_adpp_is.mp4: 384x640 (no detections), 6.7ms\n",
            "video 1/1 (frame 471/540) /content/istockphoto-2207004307-640_adpp_is.mp4: 384x640 (no detections), 7.2ms\n",
            "video 1/1 (frame 472/540) /content/istockphoto-2207004307-640_adpp_is.mp4: 384x640 (no detections), 6.6ms\n",
            "video 1/1 (frame 473/540) /content/istockphoto-2207004307-640_adpp_is.mp4: 384x640 (no detections), 9.2ms\n",
            "video 1/1 (frame 474/540) /content/istockphoto-2207004307-640_adpp_is.mp4: 384x640 (no detections), 7.1ms\n",
            "video 1/1 (frame 475/540) /content/istockphoto-2207004307-640_adpp_is.mp4: 384x640 (no detections), 8.7ms\n",
            "video 1/1 (frame 476/540) /content/istockphoto-2207004307-640_adpp_is.mp4: 384x640 (no detections), 6.9ms\n",
            "video 1/1 (frame 477/540) /content/istockphoto-2207004307-640_adpp_is.mp4: 384x640 (no detections), 7.7ms\n",
            "video 1/1 (frame 478/540) /content/istockphoto-2207004307-640_adpp_is.mp4: 384x640 (no detections), 6.4ms\n",
            "video 1/1 (frame 479/540) /content/istockphoto-2207004307-640_adpp_is.mp4: 384x640 (no detections), 7.6ms\n",
            "video 1/1 (frame 480/540) /content/istockphoto-2207004307-640_adpp_is.mp4: 384x640 (no detections), 6.3ms\n",
            "video 1/1 (frame 481/540) /content/istockphoto-2207004307-640_adpp_is.mp4: 384x640 (no detections), 7.8ms\n",
            "video 1/1 (frame 482/540) /content/istockphoto-2207004307-640_adpp_is.mp4: 384x640 (no detections), 6.4ms\n",
            "video 1/1 (frame 483/540) /content/istockphoto-2207004307-640_adpp_is.mp4: 384x640 (no detections), 7.3ms\n",
            "video 1/1 (frame 484/540) /content/istockphoto-2207004307-640_adpp_is.mp4: 384x640 (no detections), 6.3ms\n",
            "video 1/1 (frame 485/540) /content/istockphoto-2207004307-640_adpp_is.mp4: 384x640 (no detections), 7.2ms\n",
            "video 1/1 (frame 486/540) /content/istockphoto-2207004307-640_adpp_is.mp4: 384x640 (no detections), 6.5ms\n",
            "video 1/1 (frame 487/540) /content/istockphoto-2207004307-640_adpp_is.mp4: 384x640 (no detections), 7.3ms\n",
            "video 1/1 (frame 488/540) /content/istockphoto-2207004307-640_adpp_is.mp4: 384x640 (no detections), 8.8ms\n",
            "video 1/1 (frame 489/540) /content/istockphoto-2207004307-640_adpp_is.mp4: 384x640 (no detections), 8.7ms\n",
            "video 1/1 (frame 490/540) /content/istockphoto-2207004307-640_adpp_is.mp4: 384x640 (no detections), 6.5ms\n",
            "video 1/1 (frame 491/540) /content/istockphoto-2207004307-640_adpp_is.mp4: 384x640 (no detections), 8.0ms\n",
            "video 1/1 (frame 492/540) /content/istockphoto-2207004307-640_adpp_is.mp4: 384x640 (no detections), 6.6ms\n",
            "video 1/1 (frame 493/540) /content/istockphoto-2207004307-640_adpp_is.mp4: 384x640 (no detections), 7.3ms\n",
            "video 1/1 (frame 494/540) /content/istockphoto-2207004307-640_adpp_is.mp4: 384x640 (no detections), 6.6ms\n",
            "video 1/1 (frame 495/540) /content/istockphoto-2207004307-640_adpp_is.mp4: 384x640 (no detections), 8.4ms\n",
            "video 1/1 (frame 496/540) /content/istockphoto-2207004307-640_adpp_is.mp4: 384x640 (no detections), 11.0ms\n",
            "video 1/1 (frame 497/540) /content/istockphoto-2207004307-640_adpp_is.mp4: 384x640 (no detections), 11.3ms\n",
            "video 1/1 (frame 498/540) /content/istockphoto-2207004307-640_adpp_is.mp4: 384x640 (no detections), 7.7ms\n",
            "video 1/1 (frame 499/540) /content/istockphoto-2207004307-640_adpp_is.mp4: 384x640 (no detections), 6.4ms\n",
            "video 1/1 (frame 500/540) /content/istockphoto-2207004307-640_adpp_is.mp4: 384x640 (no detections), 9.8ms\n",
            "video 1/1 (frame 501/540) /content/istockphoto-2207004307-640_adpp_is.mp4: 384x640 (no detections), 6.9ms\n",
            "video 1/1 (frame 502/540) /content/istockphoto-2207004307-640_adpp_is.mp4: 384x640 (no detections), 8.8ms\n",
            "video 1/1 (frame 503/540) /content/istockphoto-2207004307-640_adpp_is.mp4: 384x640 (no detections), 6.2ms\n",
            "video 1/1 (frame 504/540) /content/istockphoto-2207004307-640_adpp_is.mp4: 384x640 (no detections), 7.2ms\n",
            "video 1/1 (frame 505/540) /content/istockphoto-2207004307-640_adpp_is.mp4: 384x640 (no detections), 6.2ms\n",
            "video 1/1 (frame 506/540) /content/istockphoto-2207004307-640_adpp_is.mp4: 384x640 (no detections), 8.3ms\n",
            "video 1/1 (frame 507/540) /content/istockphoto-2207004307-640_adpp_is.mp4: 384x640 (no detections), 6.4ms\n",
            "video 1/1 (frame 508/540) /content/istockphoto-2207004307-640_adpp_is.mp4: 384x640 (no detections), 6.3ms\n",
            "video 1/1 (frame 509/540) /content/istockphoto-2207004307-640_adpp_is.mp4: 384x640 (no detections), 6.8ms\n",
            "video 1/1 (frame 510/540) /content/istockphoto-2207004307-640_adpp_is.mp4: 384x640 (no detections), 10.6ms\n",
            "video 1/1 (frame 511/540) /content/istockphoto-2207004307-640_adpp_is.mp4: 384x640 (no detections), 6.6ms\n",
            "video 1/1 (frame 512/540) /content/istockphoto-2207004307-640_adpp_is.mp4: 384x640 (no detections), 6.5ms\n",
            "video 1/1 (frame 513/540) /content/istockphoto-2207004307-640_adpp_is.mp4: 384x640 (no detections), 6.8ms\n",
            "video 1/1 (frame 514/540) /content/istockphoto-2207004307-640_adpp_is.mp4: 384x640 (no detections), 7.3ms\n",
            "video 1/1 (frame 515/540) /content/istockphoto-2207004307-640_adpp_is.mp4: 384x640 (no detections), 8.0ms\n",
            "video 1/1 (frame 516/540) /content/istockphoto-2207004307-640_adpp_is.mp4: 384x640 (no detections), 6.3ms\n",
            "video 1/1 (frame 517/540) /content/istockphoto-2207004307-640_adpp_is.mp4: 384x640 (no detections), 6.4ms\n",
            "video 1/1 (frame 518/540) /content/istockphoto-2207004307-640_adpp_is.mp4: 384x640 (no detections), 6.3ms\n",
            "video 1/1 (frame 519/540) /content/istockphoto-2207004307-640_adpp_is.mp4: 384x640 (no detections), 7.9ms\n",
            "video 1/1 (frame 520/540) /content/istockphoto-2207004307-640_adpp_is.mp4: 384x640 (no detections), 6.3ms\n",
            "video 1/1 (frame 521/540) /content/istockphoto-2207004307-640_adpp_is.mp4: 384x640 (no detections), 6.8ms\n",
            "video 1/1 (frame 522/540) /content/istockphoto-2207004307-640_adpp_is.mp4: 384x640 (no detections), 6.3ms\n",
            "video 1/1 (frame 523/540) /content/istockphoto-2207004307-640_adpp_is.mp4: 384x640 (no detections), 10.6ms\n",
            "video 1/1 (frame 524/540) /content/istockphoto-2207004307-640_adpp_is.mp4: 384x640 (no detections), 6.4ms\n",
            "video 1/1 (frame 525/540) /content/istockphoto-2207004307-640_adpp_is.mp4: 384x640 (no detections), 7.9ms\n",
            "video 1/1 (frame 526/540) /content/istockphoto-2207004307-640_adpp_is.mp4: 384x640 (no detections), 6.5ms\n",
            "video 1/1 (frame 527/540) /content/istockphoto-2207004307-640_adpp_is.mp4: 384x640 (no detections), 7.0ms\n",
            "video 1/1 (frame 528/540) /content/istockphoto-2207004307-640_adpp_is.mp4: 384x640 (no detections), 8.4ms\n",
            "video 1/1 (frame 529/540) /content/istockphoto-2207004307-640_adpp_is.mp4: 384x640 (no detections), 7.4ms\n",
            "video 1/1 (frame 530/540) /content/istockphoto-2207004307-640_adpp_is.mp4: 384x640 (no detections), 6.7ms\n",
            "video 1/1 (frame 531/540) /content/istockphoto-2207004307-640_adpp_is.mp4: 384x640 (no detections), 7.0ms\n",
            "video 1/1 (frame 532/540) /content/istockphoto-2207004307-640_adpp_is.mp4: 384x640 (no detections), 7.7ms\n",
            "video 1/1 (frame 533/540) /content/istockphoto-2207004307-640_adpp_is.mp4: 384x640 (no detections), 7.8ms\n",
            "video 1/1 (frame 534/540) /content/istockphoto-2207004307-640_adpp_is.mp4: 384x640 (no detections), 6.4ms\n",
            "video 1/1 (frame 535/540) /content/istockphoto-2207004307-640_adpp_is.mp4: 384x640 (no detections), 7.1ms\n",
            "video 1/1 (frame 536/540) /content/istockphoto-2207004307-640_adpp_is.mp4: 384x640 (no detections), 7.7ms\n",
            "video 1/1 (frame 537/540) /content/istockphoto-2207004307-640_adpp_is.mp4: 384x640 (no detections), 8.5ms\n",
            "video 1/1 (frame 538/540) /content/istockphoto-2207004307-640_adpp_is.mp4: 384x640 (no detections), 6.4ms\n",
            "video 1/1 (frame 539/540) /content/istockphoto-2207004307-640_adpp_is.mp4: 384x640 (no detections), 6.2ms\n",
            "video 1/1 (frame 540/540) /content/istockphoto-2207004307-640_adpp_is.mp4: 384x640 (no detections), 6.4ms\n",
            "Speed: 2.7ms preprocess, 8.3ms inference, 0.8ms postprocess per image at shape (1, 3, 384, 640)\n",
            "Results saved to \u001b[1mruns/detect/predict\u001b[0m\n"
          ]
        }
      ]
    }
  ]
}